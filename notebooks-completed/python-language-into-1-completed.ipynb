{
 "cells": [
  {
   "cell_type": "markdown",
   "metadata": {},
   "source": [
    "\\#+TITLE CS331 - Notebooks & Code Demos\n",
    "\n"
   ]
  },
  {
   "cell_type": "markdown",
   "metadata": {},
   "source": [
    "## Completed Notebooks                                            :@completed-notebooks:\n",
    "\n"
   ]
  },
  {
   "cell_type": "markdown",
   "metadata": {},
   "source": [
    "### Python Language Introduction:PROPERTIES:\n",
    "\n"
   ]
  },
  {
   "cell_type": "markdown",
   "metadata": {},
   "source": [
    "#### Agenda\n",
    "\n"
   ]
  },
  {
   "cell_type": "markdown",
   "metadata": {},
   "source": [
    "1.  Language overview\n",
    "2.  White space sensitivity\n",
    "3.  Basic Types and Operations\n",
    "4.  Statements & Control Structures\n",
    "5.  Functions\n",
    "6.  OOP (Classes, Methods, etc.)\n",
    "7.  Immutable Sequence Types (Strings, Ranges, Tuples)\n",
    "8.  Mutable data structures: Lists, Sets, Dictionaries\n",
    "9.  Modules (libraries)\n",
    "\n"
   ]
  },
  {
   "cell_type": "markdown",
   "metadata": {},
   "source": [
    "#### 1.  Language overview\n",
    "\n"
   ]
  },
  {
   "cell_type": "markdown",
   "metadata": {},
   "source": [
    "Note: this is *not* a language course! Though I'll cover the important\n",
    "bits of the language (and standard library) that are relevant to class\n",
    "material, I expect you to master the language on your own time.\n",
    "\n",
    "Python &#x2026;\n",
    "\n",
    "-   is *interpreted*\n",
    "-   is *dynamically-typed* (vs. statically typed)\n",
    "-   is *automatically memory-managed*\n",
    "-   supports *procedural*, *object-oriented*, *imperative* and\n",
    "    *functional* programming paradigms\n",
    "-   is designed (mostly) by one man: Guido van Rossum (aka “benevolent\n",
    "    dictator”), and therefore has a fairly *opinionated* design\n",
    "-   has a single reference implementation (CPython)\n",
    "-   version 3 (the most recent version) is *not backwards-compatible* with\n",
    "    version 2, though the latter is still widely used\n",
    "-   has an interesting programming philosophy: \"There should be one &#x2014;\n",
    "    and preferably only one &#x2014; obvious way to do it.\" (a.k.a. the\n",
    "    \"Pythonic\" way) &#x2014; see\n",
    "    [The Zen of Python](https://www.python.org/dev/peps/pep-0020/)\n",
    "\n"
   ]
  },
  {
   "cell_type": "markdown",
   "metadata": {},
   "source": [
    "#### 1.  White Space Sensitivity\n",
    "\n"
   ]
  },
  {
   "cell_type": "markdown",
   "metadata": {},
   "source": [
    "Python has no beginning/end block markers! Blocks must be correctly\n",
    "indented (4 spaces is the convention) to delineate them.\n",
    "\n"
   ]
  },
  {
   "cell_type": "code",
   "execution_count": 1,
   "metadata": {},
   "outputs": [
    {
     "name": "stdout",
     "output_type": "stream",
     "text": [
      "In if-clause\n"
     ]
    }
   ],
   "source": [
    "if True:\n",
    "    print('In if-clause')\n",
    "else:\n",
    "    print('In else-clause')"
   ]
  },
  {
   "cell_type": "code",
   "execution_count": 2,
   "metadata": {},
   "outputs": [
    {
     "name": "stdout",
     "output_type": "stream",
     "text": [
      "In if loop body\n",
      "In for loop body\n",
      "In if loop body\n",
      "In for loop body\n",
      "In if loop body\n",
      "In for loop body\n",
      "In for loop body\n",
      "In for loop body\n",
      "After loop\n"
     ]
    }
   ],
   "source": [
    "for x in range(5):\n",
    "    if x < 3:\n",
    "        print('In if loop body')\n",
    "    print('In for loop body')\n",
    "print(\"After loop\")"
   ]
  },
  {
   "cell_type": "code",
   "execution_count": 3,
   "metadata": {},
   "outputs": [
    {
     "name": "stdout",
     "output_type": "stream",
     "text": [
      "In function definition\n"
     ]
    }
   ],
   "source": [
    "def foo():\n",
    "    print('In function definition')\n",
    "foo()"
   ]
  },
  {
   "cell_type": "markdown",
   "metadata": {},
   "source": [
    "#### 1.  Basic Types and Operations\n",
    "\n"
   ]
  },
  {
   "cell_type": "markdown",
   "metadata": {},
   "source": [
    "In Python, variables do not have types. *Values* have types (though they\n",
    " are not explicitly declared). A variable can be assigned different types\n",
    " of values over its lifetime.\n",
    "\n"
   ]
  },
  {
   "cell_type": "code",
   "execution_count": 4,
   "metadata": {},
   "outputs": [
    {
     "name": "stdout",
     "output_type": "stream",
     "text": [
      "<class 'int'>\n",
      "<class 'float'>\n",
      "<class 'str'>\n"
     ]
    }
   ],
   "source": [
    "a = 2 # starts out an integer\n",
    "print(type(a)) # the `type` function tells us the type of a value\n",
    "\n",
    "a = 1.5\n",
    "print(type(a))\n",
    "\n",
    "a = 'hello'\n",
    "print(type(a))"
   ]
  },
  {
   "cell_type": "markdown",
   "metadata": {},
   "source": [
    "Note that all the types reported are *classes*. I.e., even types we are\n",
    " accustomed to thinking of as \"primitives\" (e.g., integers in Java) are\n",
    " actually instances of classes. **All values in Python are objects!**\n",
    "\n",
    "There is no dichotomy between \"primitive\" and \"reference\" types in\n",
    "Python. **All variables in Python store references to objects.**\n",
    "\n"
   ]
  },
  {
   "cell_type": "markdown",
   "metadata": {},
   "source": [
    "##### Numbers\n",
    "\n"
   ]
  },
  {
   "cell_type": "code",
   "execution_count": 5,
   "metadata": {},
   "outputs": [
    {
     "name": "stdout",
     "output_type": "stream",
     "text": [
      "1\n",
      "500\n",
      "-123456789\n",
      "6598293784982739874982734\n"
     ]
    }
   ],
   "source": [
    "# int: integers, unlimited precision\n",
    "print(1)\n",
    "print(500)\n",
    "print(-123456789)\n",
    "print(6598293784982739874982734)"
   ]
  },
  {
   "cell_type": "code",
   "execution_count": 6,
   "metadata": {},
   "outputs": [
    {
     "name": "stdout",
     "output_type": "stream",
     "text": [
      "3\n",
      "-1\n",
      "6\n",
      "14\n",
      "0.4\n",
      "8\n",
      "25\n"
     ]
    }
   ],
   "source": [
    "# basic operations\n",
    "print(1 + 2)\n",
    "print(1 - 2)\n",
    "print(2 * 3)\n",
    "print(2 * 3 + 2 * 4)\n",
    "print(2 / 5)\n",
    "print(2 ** 3) # exponentiation\n",
    "print(abs(-25))"
   ]
  },
  {
   "cell_type": "code",
   "execution_count": 7,
   "metadata": {},
   "outputs": [
    {
     "name": "stdout",
     "output_type": "stream",
     "text": [
      "1\n",
      "3\n",
      "3\n"
     ]
    }
   ],
   "source": [
    "# modulus (remainder) and integer division\n",
    "print(10 % 3)\n",
    "print(10 // 3)\n",
    "print(11 // 3)"
   ]
  },
  {
   "cell_type": "code",
   "execution_count": 8,
   "metadata": {},
   "outputs": [
    {
     "name": "stdout",
     "output_type": "stream",
     "text": [
      "2.5\n",
      "-3.1415926535892433\n",
      "1.0\n"
     ]
    }
   ],
   "source": [
    "# floating point is based on the IEEE double-precision standard (limit to precision!)\n",
    "print(2.5)\n",
    "print(-3.14159265358924352345)\n",
    "print(1.000000000000000000000001)"
   ]
  },
  {
   "cell_type": "code",
   "execution_count": 9,
   "metadata": {},
   "outputs": [
    {
     "name": "stdout",
     "output_type": "stream",
     "text": [
      "7.5\n",
      "3.3333333333333335\n"
     ]
    }
   ],
   "source": [
    "# mixed arithmetic \"widens\" ints to floats\n",
    "print(3 * 2.5)\n",
    "print(1 / 0.3)"
   ]
  },
  {
   "cell_type": "markdown",
   "metadata": {},
   "source": [
    "##### Booleans\n",
    "\n"
   ]
  },
  {
   "cell_type": "code",
   "execution_count": 10,
   "metadata": {},
   "outputs": [
    {
     "name": "stdout",
     "output_type": "stream",
     "text": [
      "True\n",
      "False\n"
     ]
    }
   ],
   "source": [
    "print(True)\n",
    "print(False)"
   ]
  },
  {
   "cell_type": "code",
   "execution_count": 11,
   "metadata": {},
   "outputs": [
    {
     "name": "stdout",
     "output_type": "stream",
     "text": [
      "False\n",
      "True\n",
      "True\n"
     ]
    }
   ],
   "source": [
    "print(not True)\n",
    "print(not False)\n",
    "print(not not (True))"
   ]
  },
  {
   "cell_type": "code",
   "execution_count": 12,
   "metadata": {},
   "outputs": [
    {
     "name": "stdout",
     "output_type": "stream",
     "text": [
      "True\n",
      "False\n",
      "False\n",
      "False\n"
     ]
    }
   ],
   "source": [
    "print(True and True)\n",
    "print(False and True)\n",
    "print(True and False)\n",
    "print(False and False)"
   ]
  },
  {
   "cell_type": "code",
   "execution_count": 13,
   "metadata": {},
   "outputs": [
    {
     "name": "stdout",
     "output_type": "stream",
     "text": [
      "True\n",
      "True\n",
      "True\n",
      "False\n"
     ]
    }
   ],
   "source": [
    "print(True or True)\n",
    "print(False or True)\n",
    "print(True or False)\n",
    "print(False or False)"
   ]
  },
  {
   "cell_type": "code",
   "execution_count": 14,
   "metadata": {},
   "outputs": [
    {
     "name": "stdout",
     "output_type": "stream",
     "text": [
      "True\n",
      "True\n",
      "True\n",
      "True\n",
      "True\n",
      "True\n",
      "True\n",
      "True\n",
      "False\n",
      "<class 'int'>\n",
      "<class 'float'>\n"
     ]
    }
   ],
   "source": [
    "# relational operators\n",
    "print(1 == 1)\n",
    "print(1 != 2)\n",
    "print(1 < 2)\n",
    "print(1 <= 1)\n",
    "print(1 > 0)\n",
    "print(1 >= 1)\n",
    "print(1.0 == 1)\n",
    "print(1.0000000000000000001 == 1)\n",
    "print(type(1) == type(1.0))\n",
    "print(type(1))\n",
    "print(type(1.0))"
   ]
  },
  {
   "cell_type": "code",
   "execution_count": 15,
   "metadata": {},
   "outputs": [
    {
     "name": "stdout",
     "output_type": "stream",
     "text": [
      "True\n",
      "True\n",
      "False\n"
     ]
    }
   ],
   "source": [
    "# object identity (reference) testing\n",
    "x = 1000\n",
    "y = 1000\n",
    "print(x == x)\n",
    "print(x is x)\n",
    "print(x is not x)"
   ]
  },
  {
   "cell_type": "code",
   "execution_count": 16,
   "metadata": {},
   "outputs": [
    {
     "name": "stdout",
     "output_type": "stream",
     "text": [
      "True\n",
      "False\n",
      "True\n",
      "False\n"
     ]
    }
   ],
   "source": [
    "print(x == y)\n",
    "print(x is y)\n",
    "print(x is not y)\n",
    "y = 1001\n",
    "print(x == y)"
   ]
  },
  {
   "cell_type": "code",
   "execution_count": 17,
   "metadata": {},
   "outputs": [
    {
     "name": "stdout",
     "output_type": "stream",
     "text": [
      "True\n",
      "True\n"
     ]
    }
   ],
   "source": [
    "# but Python caches small integers! so ...\n",
    "x = 5\n",
    "y = 5\n",
    "print(x == y)\n",
    "print(x is y)"
   ]
  },
  {
   "cell_type": "markdown",
   "metadata": {},
   "source": [
    "##### Strings\n",
    "\n"
   ]
  },
  {
   "cell_type": "code",
   "execution_count": 18,
   "metadata": {},
   "outputs": [
    {
     "name": "stdout",
     "output_type": "stream",
     "text": [
      "hello world!\n",
      "hello world!\n"
     ]
    }
   ],
   "source": [
    "# whatever strings you want\n",
    "print('hello world!')\n",
    "print(\"hello world!\")"
   ]
  },
  {
   "cell_type": "code",
   "execution_count": 19,
   "metadata": {},
   "outputs": [
    {
     "name": "stdout",
     "output_type": "stream",
     "text": [
      "she said, \"how are you?\"\n",
      "that's right!\n"
     ]
    }
   ],
   "source": [
    "# convenient for strings with quotes:\n",
    "print('she said, \"how are you?\"')\n",
    "print(\"that's right!\")"
   ]
  },
  {
   "cell_type": "code",
   "execution_count": 20,
   "metadata": {},
   "outputs": [
    {
     "name": "stdout",
     "output_type": "stream",
     "text": [
      "hello world\n",
      "hello world\n",
      "thinking... thinking... thinking... thinking... \n",
      "********************************************************************************\n"
     ]
    }
   ],
   "source": [
    "print('hello' + ' ' + 'world')\n",
    "print('hello world')\n",
    "print('thinking... ' * 4)\n",
    "print('*' * 80)"
   ]
  },
  {
   "cell_type": "markdown",
   "metadata": {},
   "source": [
    "Strings are an example of a *sequence* type;\n",
    " [https://docs.ipython.org/3.5/library/stdtypes.html#typesseq](https://docs.ipython.org/3.5/library/stdtypes.html#typesseq)\n",
    "\n",
    "Other sequence types are: *ranges*, *tuples* (both also immutable), and\n",
    "*lists* (mutable).\n",
    "\n",
    "All immutable sequences support the\n",
    "[common sequence operations](https://docs.python.org/3/library/stdtypes.html#common-sequence-operations), and mutable sequences additionally support the\n",
    "[mutable sequence operations](https://docs.python.org/3/library/stdtypes.html#mutable-sequence-types)\n",
    "\n"
   ]
  },
  {
   "cell_type": "code",
   "execution_count": 21,
   "metadata": {},
   "outputs": [
    {
     "name": "stdout",
     "output_type": "stream",
     "text": [
      "h\n",
      "t\n",
      "11\n",
      "e\n"
     ]
    }
   ],
   "source": [
    "# indexing\n",
    "greeting = 'hello there'\n",
    "print(greeting[0])\n",
    "print(greeting[6])\n",
    "print(len(greeting))\n",
    "print(greeting[len(greeting)-1])"
   ]
  },
  {
   "cell_type": "code",
   "execution_count": 22,
   "metadata": {},
   "outputs": [
    {
     "name": "stdout",
     "output_type": "stream",
     "text": [
      "e\n",
      "r\n",
      "h\n"
     ]
    }
   ],
   "source": [
    "# negative indexes\n",
    "print(greeting[-1])\n",
    "print(greeting[-2])\n",
    "print(greeting[-len(greeting)])"
   ]
  },
  {
   "cell_type": "code",
   "execution_count": 23,
   "metadata": {},
   "outputs": [
    {
     "name": "stdout",
     "output_type": "stream",
     "text": [
      "hello there\n",
      "hello\n",
      "there\n"
     ]
    }
   ],
   "source": [
    "# \"slices\"\n",
    "print(greeting[0:11])\n",
    "print(greeting[0:5])\n",
    "print(greeting[6:11])"
   ]
  },
  {
   "cell_type": "code",
   "execution_count": 24,
   "metadata": {},
   "outputs": [
    {
     "name": "stdout",
     "output_type": "stream",
     "text": [
      "hello there\n",
      "there\n",
      "hello there\n"
     ]
    }
   ],
   "source": [
    "# default slice ranges\n",
    "print(greeting[:11])\n",
    "print(greeting[6:])\n",
    "print(greeting[:])"
   ]
  },
  {
   "cell_type": "code",
   "execution_count": 25,
   "metadata": {},
   "outputs": [
    {
     "name": "stdout",
     "output_type": "stream",
     "text": [
      "hlotee\n",
      "hltr\n",
      "tee\n"
     ]
    }
   ],
   "source": [
    "# slice \"steps\"\n",
    "print(greeting[::2])\n",
    "print(greeting[::3])\n",
    "print(greeting[6:11:2])"
   ]
  },
  {
   "cell_type": "code",
   "execution_count": 26,
   "metadata": {},
   "outputs": [
    {
     "name": "stdout",
     "output_type": "stream",
     "text": [
      "ereht olleh\n"
     ]
    }
   ],
   "source": [
    "# negative steps\n",
    "print(greeting[::-1])"
   ]
  },
  {
   "cell_type": "code",
   "execution_count": 27,
   "metadata": {},
   "outputs": [
    {
     "name": "stdout",
     "output_type": "stream",
     "text": [
      "hello there\n",
      "3\n",
      "1\n",
      "8\n",
      "True\n",
      "True\n",
      " \n",
      "t\n",
      "a\n"
     ]
    }
   ],
   "source": [
    "# other sequence ops\n",
    "print(greeting)\n",
    "print(greeting.count('e'))\n",
    "print(greeting.index('e'))\n",
    "print(greeting.index('e', 2))\n",
    "print('e' in greeting)\n",
    "print('z' not in greeting)\n",
    "print(min(greeting))\n",
    "print(max(greeting))\n",
    "print(min('bdca'))"
   ]
  },
  {
   "cell_type": "markdown",
   "metadata": {},
   "source": [
    "Strings also support a large number of\n",
    " [type-specific methods](https://docs.python.org/3/library/stdtypes.html#string-methods).\n",
    "\n"
   ]
  },
  {
   "cell_type": "code",
   "execution_count": 28,
   "metadata": {},
   "outputs": [
    {
     "name": "stdout",
     "output_type": "stream",
     "text": [
      "Person: Peter lives at: 10 W 31st, Chicago\n",
      "Person: Peter lives at: 10 W 31st, Chicago\n",
      "Initial: P\n"
     ]
    }
   ],
   "source": [
    "name = 'Peter'\n",
    "address = '10 W 31st, Chicago'\n",
    "print('Person: ' + name + ' lives at: ' + address)\n",
    "print(f\"Person: {name} lives at: {address}\")\n",
    "print(f\"Initial: {name[0]}\")"
   ]
  },
  {
   "cell_type": "markdown",
   "metadata": {},
   "source": [
    "##### Type \"Conversions\"\n",
    "\n"
   ]
  },
  {
   "cell_type": "markdown",
   "metadata": {},
   "source": [
    "Constructors for most built-in types exist that create values of those\n",
    " types from other types:\n",
    "\n",
    "    public class x {\n",
    "    \n",
    "        public static void main(String[] args) {\n",
    "            int a = 3; // type variablename assignment\n",
    "            a = (int) 3.0;\n",
    "            System.out.println(\"\" + a);\n",
    "        }\n",
    "    }\n",
    "\n"
   ]
  },
  {
   "cell_type": "code",
   "execution_count": 29,
   "metadata": {},
   "outputs": [
    {
     "name": "stdout",
     "output_type": "stream",
     "text": [
      "<class 'int'>\n",
      "<class 'str'>\n"
     ]
    }
   ],
   "source": [
    "a = 3;\n",
    "print(type(a))\n",
    "a = 'str'\n",
    "print(type(a))"
   ]
  },
  {
   "cell_type": "code",
   "execution_count": 30,
   "metadata": {},
   "outputs": [
    {
     "name": "stdout",
     "output_type": "stream",
     "text": [
      "123\n",
      "12\n",
      "1\n",
      "0\n",
      "123.123\n",
      "123\n"
     ]
    }
   ],
   "source": [
    "# making ints\n",
    "print(int('123'))\n",
    "print(int(12.5))\n",
    "print(int(True))\n",
    "print(int(False))\n",
    "\n",
    "# floats\n",
    "print(float('123.123'))\n",
    "\n",
    "# strings\n",
    "print(str(123))"
   ]
  },
  {
   "cell_type": "markdown",
   "metadata": {},
   "source": [
    "##### Operators/Functions as syntactic sugar for special methods\n",
    "\n"
   ]
  },
  {
   "cell_type": "code",
   "execution_count": 31,
   "metadata": {},
   "outputs": [
    {
     "name": "stdout",
     "output_type": "stream",
     "text": [
      "11\n",
      "11\n"
     ]
    }
   ],
   "source": [
    "print(5 + 6)\n",
    "print((5).__add__(6))"
   ]
  },
  {
   "cell_type": "code",
   "execution_count": 32,
   "metadata": {},
   "outputs": [],
   "source": [
    "class MyInt(int):\n",
    "    def __add__(self, other):\n",
    "        return self * other"
   ]
  },
  {
   "cell_type": "code",
   "execution_count": 33,
   "metadata": {},
   "outputs": [
    {
     "name": "stdout",
     "output_type": "stream",
     "text": [
      "30\n"
     ]
    }
   ],
   "source": [
    "a = MyInt(5)\n",
    "b = MyInt(6)\n",
    "print(a + b)"
   ]
  },
  {
   "cell_type": "code",
   "execution_count": 34,
   "metadata": {},
   "outputs": [
    {
     "name": "stdout",
     "output_type": "stream",
     "text": [
      "2.8\n",
      "2.8\n"
     ]
    }
   ],
   "source": [
    "print(abs(-2.8))\n",
    "print((-2.8).__abs__())"
   ]
  },
  {
   "cell_type": "code",
   "execution_count": 35,
   "metadata": {},
   "outputs": [
    {
     "name": "stdout",
     "output_type": "stream",
     "text": [
      "hello world\n",
      "hello world\n"
     ]
    }
   ],
   "source": [
    "print('hello' + ' ' + 'world')\n",
    "print('hello'.__add__(' ').__add__('world'))"
   ]
  },
  {
   "cell_type": "markdown",
   "metadata": {},
   "source": [
    "##### `None`\n",
    "\n"
   ]
  },
  {
   "cell_type": "markdown",
   "metadata": {},
   "source": [
    "**`None`** is like \"null\" in other languages\n",
    "\n"
   ]
  },
  {
   "cell_type": "code",
   "execution_count": 36,
   "metadata": {},
   "outputs": [
    {
     "name": "stdout",
     "output_type": "stream",
     "text": [
      "None\n"
     ]
    }
   ],
   "source": [
    "# often use as a default, initial, or \"sentinel\" value\n",
    "\n",
    "x = None\n",
    "print(x)"
   ]
  },
  {
   "cell_type": "markdown",
   "metadata": {},
   "source": [
    "note: notebooks do not display the result of expressions that evaluate\n",
    " to None\n",
    "\n"
   ]
  },
  {
   "cell_type": "code",
   "execution_count": 37,
   "metadata": {},
   "outputs": [
    {
     "name": "stdout",
     "output_type": "stream",
     "text": [
      "None\n"
     ]
    }
   ],
   "source": [
    "print(None)"
   ]
  },
  {
   "cell_type": "code",
   "execution_count": 38,
   "metadata": {},
   "outputs": [
    {
     "name": "stdout",
     "output_type": "stream",
     "text": [
      "None\n",
      "100\n",
      "None\n"
     ]
    }
   ],
   "source": [
    "a = None\n",
    "b = 100\n",
    "c = None\n",
    "print(a)\n",
    "print(b)\n",
    "print(c)"
   ]
  },
  {
   "cell_type": "markdown",
   "metadata": {},
   "source": [
    "note that in Jupyter some functions return `None`, so when we call them, there is no \"Out\" cell\n",
    "\n"
   ]
  },
  {
   "cell_type": "code",
   "execution_count": 39,
   "metadata": {},
   "outputs": [
    {
     "name": "stdout",
     "output_type": "stream",
     "text": [
      "Hello\n"
     ]
    }
   ],
   "source": [
    "print('Hello')"
   ]
  },
  {
   "cell_type": "markdown",
   "metadata": {},
   "source": [
    "##### \"Truthiness\"\n",
    "\n"
   ]
  },
  {
   "cell_type": "markdown",
   "metadata": {},
   "source": [
    "All objects in Ipython can be evaluated in a Boolean context (e.g., as\n",
    " the condition for an `if` statement). Values for most types act as\n",
    " `True`, but some act (conveniently, usually) as `False`.\n",
    "\n"
   ]
  },
  {
   "cell_type": "code",
   "execution_count": 40,
   "metadata": {},
   "outputs": [
    {
     "name": "stdout",
     "output_type": "stream",
     "text": [
      "tests as True\n"
     ]
    }
   ],
   "source": [
    "if True: # try numbers, strings, other values here\n",
    "    print('tests as True')\n",
    "else:\n",
    "    print('tests as False')"
   ]
  },
  {
   "cell_type": "markdown",
   "metadata": {},
   "source": [
    "What tests as `False`?\n",
    "\n"
   ]
  },
  {
   "cell_type": "code",
   "execution_count": 41,
   "metadata": {},
   "outputs": [],
   "source": [
    "class MyBool(int):\n",
    "    def __bool__(self):\n",
    "        return self != 0"
   ]
  },
  {
   "cell_type": "code",
   "execution_count": 42,
   "metadata": {},
   "outputs": [
    {
     "name": "stdout",
     "output_type": "stream",
     "text": [
      "1 is true\n",
      "0 is false\n",
      "2 is true\n"
     ]
    }
   ],
   "source": [
    "x = MyBool(1)\n",
    "if x:\n",
    "    print(\"1 is true\")\n",
    "\n",
    "x = MyBool(0)\n",
    "if not x:\n",
    "    print(\"0 is false\")\n",
    "\n",
    "x = MyBool(2)\n",
    "if x:\n",
    "    print(\"2 is true\")"
   ]
  },
  {
   "cell_type": "markdown",
   "metadata": {},
   "source": [
    "#### 1.  Statements & Control Structures\n",
    "\n"
   ]
  },
  {
   "cell_type": "markdown",
   "metadata": {},
   "source": [
    "##### Assignment\n",
    "\n"
   ]
  },
  {
   "cell_type": "code",
   "execution_count": 43,
   "metadata": {},
   "outputs": [
    {
     "name": "stdout",
     "output_type": "stream",
     "text": [
      "0 hello\n"
     ]
    }
   ],
   "source": [
    "# simple, single target assignment\n",
    "\n",
    "a = 0\n",
    "b = 'hello'\n",
    "print(f\"{a} {b}\")"
   ]
  },
  {
   "cell_type": "code",
   "execution_count": 44,
   "metadata": {},
   "outputs": [
    {
     "name": "stdout",
     "output_type": "stream",
     "text": [
      "0 hello True\n"
     ]
    }
   ],
   "source": [
    "# can also assign to target \"lists\"\n",
    "\n",
    "a, b, c = 0, 'hello', True\n",
    "print(f\"{a} {b} {c}\")"
   ]
  },
  {
   "cell_type": "code",
   "execution_count": 45,
   "metadata": {},
   "outputs": [
    {
     "name": "stdout",
     "output_type": "stream",
     "text": [
      "3 5 6\n"
     ]
    }
   ],
   "source": [
    "# note: expression on right is fully evaluated, then are assigned to\n",
    "#       elements in the \"target\" list, from left to right\n",
    "\n",
    "x, y, z = 1, 2, 3\n",
    "x, y, z = x+y, y+z, x+y+z\n",
    "print(f\"{x} {y} {z}\")"
   ]
  },
  {
   "cell_type": "code",
   "execution_count": 46,
   "metadata": {},
   "outputs": [
    {
     "name": "stdout",
     "output_type": "stream",
     "text": [
      "bananas apples\n"
     ]
    }
   ],
   "source": [
    "# easy python \"swap\"\n",
    "\n",
    "a, b = 'apples', 'bananas'\n",
    "a, b = b, a\n",
    "print(f\"{a} {b}\")"
   ]
  },
  {
   "cell_type": "code",
   "execution_count": 47,
   "metadata": {},
   "outputs": [
    {
     "name": "stdout",
     "output_type": "stream",
     "text": [
      "3 2\n"
     ]
    }
   ],
   "source": [
    "# note: order matters!\n",
    "\n",
    "a, b, a = 1, 2, 3\n",
    "#a = 1\n",
    "#b = 2\n",
    "#a = 3\n",
    "print(f\"{a} {b}\")"
   ]
  },
  {
   "cell_type": "code",
   "execution_count": 48,
   "metadata": {},
   "outputs": [
    {
     "name": "stdout",
     "output_type": "stream",
     "text": [
      "None None None\n"
     ]
    }
   ],
   "source": [
    "# can also have multiple assignments in a row -- consistent with\n",
    "# above: expression is evaluated first, then assigned to all targets\n",
    "# from left to right (note: order matters!)\n",
    "\n",
    "x = y = z = None\n",
    "print(f\"{x} {y} {z}\")"
   ]
  },
  {
   "cell_type": "markdown",
   "metadata": {},
   "source": [
    "##### Augmented assignment\n",
    "\n"
   ]
  },
  {
   "cell_type": "code",
   "execution_count": 49,
   "metadata": {},
   "outputs": [
    {
     "name": "stdout",
     "output_type": "stream",
     "text": [
      "6\n"
     ]
    }
   ],
   "source": [
    "a = 0  # a= 0\n",
    "a += 2 # a = 2\n",
    "a *= 3 # a = 6\n",
    "print(a)"
   ]
  },
  {
   "cell_type": "markdown",
   "metadata": {},
   "source": [
    "##### `pass`\n",
    "\n"
   ]
  },
  {
   "cell_type": "markdown",
   "metadata": {},
   "source": [
    "**`pass`** is the \"do nothing\" statement\n",
    "\n"
   ]
  },
  {
   "cell_type": "code",
   "execution_count": 50,
   "metadata": {},
   "outputs": [],
   "source": [
    "pass"
   ]
  },
  {
   "cell_type": "code",
   "execution_count": 51,
   "metadata": {},
   "outputs": [],
   "source": [
    "def foo():\n",
    "    pass\n",
    "foo()"
   ]
  },
  {
   "cell_type": "code",
   "execution_count": 52,
   "metadata": {},
   "outputs": [
    {
     "name": "stdout",
     "output_type": "stream",
     "text": [
      "a\n"
     ]
    }
   ],
   "source": [
    "def foo():\n",
    "    print(\"a\")\n",
    "foo()"
   ]
  },
  {
   "cell_type": "markdown",
   "metadata": {},
   "source": [
    "##### `if`-`else` statements\n",
    "\n"
   ]
  },
  {
   "cell_type": "code",
   "execution_count": 53,
   "metadata": {},
   "outputs": [
    {
     "name": "stdout",
     "output_type": "stream",
     "text": [
      "78 C\n"
     ]
    }
   ],
   "source": [
    "from random import randint\n",
    "score = randint(50, 100)\n",
    "grade = None\n",
    "if score >= 90:\n",
    "    grade = 'A'\n",
    "elif score >= 80:\n",
    "    grade = 'B'\n",
    "elif score >= 70:\n",
    "    grade = 'C'\n",
    "elif score >= 60:\n",
    "    grade = 'D'\n",
    "else:\n",
    "    grade = 'E'\n",
    "\n",
    "print(score, grade)"
   ]
  },
  {
   "cell_type": "markdown",
   "metadata": {},
   "source": [
    "##### `while` loops\n",
    "\n"
   ]
  },
  {
   "cell_type": "code",
   "execution_count": 54,
   "metadata": {},
   "outputs": [
    {
     "name": "stdout",
     "output_type": "stream",
     "text": [
      "0\n",
      "1\n",
      "1\n",
      "2\n",
      "3\n",
      "5\n",
      "8\n",
      "13\n",
      "21\n",
      "34\n",
      "55\n",
      "89\n"
     ]
    }
   ],
   "source": [
    "f0 = 0\n",
    "f1 = 1\n",
    "while f0 < 100:\n",
    "    print(f0)\n",
    "    f0, f1 = f1, f0+f1"
   ]
  },
  {
   "cell_type": "code",
   "execution_count": 55,
   "metadata": {},
   "outputs": [
    {
     "name": "stdout",
     "output_type": "stream",
     "text": [
      "Not found; terminated loop\n",
      "Not found; terminated loop\n",
      "Not found; terminated loop\n",
      "Found; breaking early\n"
     ]
    }
   ],
   "source": [
    "i = 0\n",
    "to_find = 4\n",
    "while i < 5:\n",
    "    i += 1\n",
    "    if i == to_find:\n",
    "        print('Found; breaking early')\n",
    "        break # stop a loop early\n",
    "    else:\n",
    "        print('Not found; terminated loop')"
   ]
  },
  {
   "cell_type": "code",
   "execution_count": 56,
   "metadata": {},
   "outputs": [
    {
     "name": "stdout",
     "output_type": "stream",
     "text": [
      "Not found; terminated loop\n",
      "Not found; terminated loop\n",
      "Not found; terminated loop\n",
      "Not found; terminated loop\n",
      "Not found; terminated loop\n",
      "Not found; terminated loop\n",
      "Not found; terminated loop\n",
      "Not found; terminated loop\n",
      "Not found; terminated loop\n",
      "Found; breaking early\n"
     ]
    }
   ],
   "source": [
    "i = 0\n",
    "to_find = 10\n",
    "while i < 100:\n",
    "    i += 1\n",
    "    if i == to_find:\n",
    "        print('Found; breaking early')\n",
    "        break\n",
    "    else:\n",
    "        print('Not found; terminated loop')"
   ]
  },
  {
   "cell_type": "markdown",
   "metadata": {},
   "source": [
    "##### Exception Handling\n",
    "\n"
   ]
  },
  {
   "cell_type": "code",
   "execution_count": 57,
   "metadata": {},
   "outputs": [],
   "source": [
    "# raise Exception('Boommmmmm!')"
   ]
  },
  {
   "cell_type": "code",
   "execution_count": 58,
   "metadata": {},
   "outputs": [],
   "source": [
    "# raise NotImplementedError()"
   ]
  },
  {
   "cell_type": "code",
   "execution_count": 59,
   "metadata": {},
   "outputs": [
    {
     "name": "stdout",
     "output_type": "stream",
     "text": [
      "Exception encountered!\n"
     ]
    }
   ],
   "source": [
    "try:\n",
    "    raise Exception('Boom')\n",
    "except:\n",
    "    print('Exception encountered!')"
   ]
  },
  {
   "cell_type": "code",
   "execution_count": 60,
   "metadata": {},
   "outputs": [
    {
     "name": "stdout",
     "output_type": "stream",
     "text": [
      "ArithmeticError: Eeek!\n",
      "Done\n"
     ]
    }
   ],
   "source": [
    "try:\n",
    "    raise ArithmeticError('Eeek!')\n",
    "except LookupError as e:\n",
    "    print('LookupError:', e)\n",
    "except ArithmeticError as e:\n",
    "    print('ArithmeticError:', e)\n",
    "except Exception as e:\n",
    "    print(f'Just an Exception: {e}')\n",
    "finally:\n",
    "    print('Done')"
   ]
  },
  {
   "cell_type": "markdown",
   "metadata": {},
   "source": [
    "##### `for` loops (iteration)\n",
    "\n"
   ]
  },
  {
   "cell_type": "code",
   "execution_count": 61,
   "metadata": {},
   "outputs": [
    {
     "name": "stdout",
     "output_type": "stream",
     "text": [
      "range(0, 10)\n"
     ]
    }
   ],
   "source": [
    "print(range(10))"
   ]
  },
  {
   "cell_type": "code",
   "execution_count": 62,
   "metadata": {},
   "outputs": [
    {
     "name": "stdout",
     "output_type": "stream",
     "text": [
      "0\n",
      "1\n",
      "2\n",
      "3\n",
      "4\n",
      "5\n",
      "6\n",
      "7\n",
      "8\n",
      "9\n"
     ]
    }
   ],
   "source": [
    "for x in range(10):\n",
    "    print(x)"
   ]
  },
  {
   "cell_type": "code",
   "execution_count": 63,
   "metadata": {},
   "outputs": [
    {
     "name": "stdout",
     "output_type": "stream",
     "text": [
      "9\n",
      "18\n",
      "27\n",
      "36\n",
      "45\n",
      "54\n",
      "63\n",
      "72\n"
     ]
    }
   ],
   "source": [
    "for i in range(9, 81, 9):\n",
    "    print(i)"
   ]
  },
  {
   "cell_type": "code",
   "execution_count": 64,
   "metadata": {},
   "outputs": [
    {
     "name": "stdout",
     "output_type": "stream",
     "text": [
      "h\n",
      "e\n",
      "l\n",
      "l\n",
      "o\n",
      " \n",
      "w\n",
      "o\n",
      "r\n",
      "l\n",
      "d\n"
     ]
    }
   ],
   "source": [
    "for c in 'hello world':\n",
    "    print(c)"
   ]
  },
  {
   "cell_type": "code",
   "execution_count": 65,
   "metadata": {},
   "outputs": [
    {
     "name": "stdout",
     "output_type": "stream",
     "text": [
      "Completed loop\n",
      "Completed loop\n",
      "Completed loop\n",
      "Completed loop\n",
      "Completed loop\n",
      "Completed loop\n",
      "Completed loop\n",
      "Completed loop\n",
      "Completed loop\n",
      "Completed loop\n",
      "Completed loop\n",
      "Completed loop\n",
      "Completed loop\n",
      "Completed loop\n",
      "Completed loop\n",
      "Completed loop\n",
      "Completed loop\n",
      "Completed loop\n",
      "Completed loop\n",
      "Completed loop\n",
      "Completed loop\n",
      "Completed loop\n",
      "Completed loop\n",
      "Completed loop\n",
      "Completed loop\n",
      "Completed loop\n",
      "Completed loop\n",
      "Completed loop\n",
      "Completed loop\n",
      "Completed loop\n",
      "Completed loop\n",
      "Completed loop\n",
      "Completed loop\n",
      "Completed loop\n",
      "Completed loop\n",
      "Completed loop\n",
      "Completed loop\n",
      "Completed loop\n",
      "Completed loop\n",
      "Completed loop\n",
      "Completed loop\n",
      "Completed loop\n",
      "Completed loop\n",
      "Completed loop\n",
      "Completed loop\n",
      "Completed loop\n",
      "Completed loop\n",
      "Completed loop\n",
      "Completed loop\n",
      "Completed loop\n"
     ]
    }
   ],
   "source": [
    "to_find = 50\n",
    "for i in range(100):\n",
    "    if i == to_find:\n",
    "        break\n",
    "    else:\n",
    "        print('Completed loop')"
   ]
  },
  {
   "cell_type": "markdown",
   "metadata": {},
   "source": [
    "##### Generalized iteration (`iter` and `next`)\n",
    "\n"
   ]
  },
  {
   "cell_type": "code",
   "execution_count": 66,
   "metadata": {},
   "outputs": [],
   "source": [
    "r = range(10)\n",
    "it = iter(r)"
   ]
  },
  {
   "cell_type": "code",
   "execution_count": 67,
   "metadata": {},
   "outputs": [
    {
     "name": "stdout",
     "output_type": "stream",
     "text": [
      "<class 'range_iterator'>\n"
     ]
    }
   ],
   "source": [
    "print(type(it))"
   ]
  },
  {
   "cell_type": "code",
   "execution_count": 68,
   "metadata": {},
   "outputs": [
    {
     "name": "stdout",
     "output_type": "stream",
     "text": [
      "0\n"
     ]
    }
   ],
   "source": [
    "print(next(it))"
   ]
  },
  {
   "cell_type": "code",
   "execution_count": 69,
   "metadata": {},
   "outputs": [
    {
     "name": "stdout",
     "output_type": "stream",
     "text": [
      "0\n",
      "1\n",
      "2\n",
      "3\n",
      "4\n",
      "5\n",
      "6\n",
      "7\n",
      "8\n",
      "9\n"
     ]
    }
   ],
   "source": [
    "it = iter(r)\n",
    "while True:\n",
    "    try:\n",
    "        x = next(it)\n",
    "        print(x)\n",
    "    except StopIteration:\n",
    "        break"
   ]
  },
  {
   "cell_type": "code",
   "execution_count": 70,
   "metadata": {},
   "outputs": [
    {
     "name": "stdout",
     "output_type": "stream",
     "text": [
      "0 1 1\n",
      "2 3 5\n",
      "4 5 9\n",
      "6 7 13\n",
      "8 9 17\n"
     ]
    }
   ],
   "source": [
    "it = iter(r)\n",
    "while True:\n",
    "    try:\n",
    "        x = next(it)\n",
    "        y = next(it)\n",
    "        print(x, y, x+y)\n",
    "    except StopIteration:\n",
    "        break"
   ]
  },
  {
   "cell_type": "markdown",
   "metadata": {},
   "source": [
    "#### 1.  Functions\n",
    "\n"
   ]
  },
  {
   "cell_type": "code",
   "execution_count": 71,
   "metadata": {},
   "outputs": [],
   "source": [
    "def foo():\n",
    "    pass"
   ]
  },
  {
   "cell_type": "code",
   "execution_count": 72,
   "metadata": {},
   "outputs": [
    {
     "name": "stdout",
     "output_type": "stream",
     "text": [
      "(1, 2, 3)\n"
     ]
    }
   ],
   "source": [
    "def mymulti():\n",
    "    return 1,2,3\n",
    "print(mymulti())"
   ]
  },
  {
   "cell_type": "code",
   "execution_count": 73,
   "metadata": {},
   "outputs": [],
   "source": [
    "import math\n",
    "\n",
    "def quadratic_roots(a, b, c):\n",
    "    disc = b**2-4*a*c\n",
    "    if disc < 0:\n",
    "        return None\n",
    "    else:\n",
    "        return (-b+math.sqrt(disc))/(2*a), (-b-math.sqrt(disc))/(2*a)"
   ]
  },
  {
   "cell_type": "code",
   "execution_count": 74,
   "metadata": {},
   "outputs": [
    {
     "name": "stdout",
     "output_type": "stream",
     "text": [
      "(3.0, 2.0)\n"
     ]
    }
   ],
   "source": [
    "print(quadratic_roots(1, -5, 6)) # eq = (x-3)(x-2)"
   ]
  },
  {
   "cell_type": "code",
   "execution_count": 75,
   "metadata": {},
   "outputs": [],
   "source": [
    "import math\n",
    "\n",
    "def quadratic_roots(a: int, b: int, c: int):\n",
    "    disc = b**2-4*a*c\n",
    "    if disc < 0:\n",
    "        return None\n",
    "    else:\n",
    "        return (-b+math.sqrt(disc))/(2*a), (-b-math.sqrt(disc))/(2*a)"
   ]
  },
  {
   "cell_type": "code",
   "execution_count": 76,
   "metadata": {},
   "outputs": [
    {
     "name": "stdout",
     "output_type": "stream",
     "text": [
      "unsupported operand type(s) for -: 'int' and 'str'\n"
     ]
    }
   ],
   "source": [
    "try:\n",
    "    print(quadratic_roots('asdsad', -5, 6)) # eq = (x-3)(x-2)\n",
    "except Exception as e:\n",
    "    print(e)"
   ]
  },
  {
   "cell_type": "code",
   "execution_count": 77,
   "metadata": {},
   "outputs": [
    {
     "name": "stdout",
     "output_type": "stream",
     "text": [
      "(3.0, 2.0)\n"
     ]
    }
   ],
   "source": [
    "print(quadratic_roots(a=1, b=-5, c=6))"
   ]
  },
  {
   "cell_type": "code",
   "execution_count": 78,
   "metadata": {},
   "outputs": [
    {
     "name": "stdout",
     "output_type": "stream",
     "text": [
      "(3.0, 2.0)\n"
     ]
    }
   ],
   "source": [
    "print(quadratic_roots(c=6, a=1, b=-5))"
   ]
  },
  {
   "cell_type": "code",
   "execution_count": 79,
   "metadata": {},
   "outputs": [],
   "source": [
    "def create_character(name, race, hitpoints, ability):\n",
    "    print('Name:', name)\n",
    "    print('Race:', race)\n",
    "    print('Hitpoints:', hitpoints)\n",
    "    print('Ability:', ability)"
   ]
  },
  {
   "cell_type": "code",
   "execution_count": 80,
   "metadata": {},
   "outputs": [
    {
     "name": "stdout",
     "output_type": "stream",
     "text": [
      "Name: Legolas\n",
      "Race: Elf\n",
      "Hitpoints: 100\n",
      "Ability: Archery\n"
     ]
    }
   ],
   "source": [
    "create_character('Legolas', 'Elf', 100, 'Archery')"
   ]
  },
  {
   "cell_type": "code",
   "execution_count": 81,
   "metadata": {},
   "outputs": [],
   "source": [
    "def create_character(name, race='Human', hitpoints=100, ability=None):\n",
    "    print('Name:', name)\n",
    "    print('Race:', race)\n",
    "    print('Hitpoints:', hitpoints)\n",
    "    if ability:\n",
    "        print('Ability:', ability)"
   ]
  },
  {
   "cell_type": "code",
   "execution_count": 82,
   "metadata": {},
   "outputs": [
    {
     "name": "stdout",
     "output_type": "stream",
     "text": [
      "Name: Michael\n",
      "Race: Human\n",
      "Hitpoints: 100\n"
     ]
    }
   ],
   "source": [
    "create_character('Michael')"
   ]
  },
  {
   "cell_type": "code",
   "execution_count": 83,
   "metadata": {},
   "outputs": [],
   "source": [
    "def create_character(name, race='Human', hitpoints=100, abilities=()):\n",
    "    print('Name:', name)\n",
    "    print('Race:', race)\n",
    "    print('Hitpoints:', hitpoints)\n",
    "    if abilities:\n",
    "        print('Abilities:')\n",
    "        for ability in abilities:\n",
    "            print('  -', ability)"
   ]
  },
  {
   "cell_type": "code",
   "execution_count": 84,
   "metadata": {},
   "outputs": [
    {
     "name": "stdout",
     "output_type": "stream",
     "text": [
      "Name: Gimli\n",
      "Race: Dwarf\n",
      "Hitpoints: 100\n",
      "Abilities:\n",
      "  - Dig\n",
      "  - small\n"
     ]
    }
   ],
   "source": [
    "create_character('Gimli', race='Dwarf', abilities=(\"Dig\", \"small\"))"
   ]
  },
  {
   "cell_type": "code",
   "execution_count": 85,
   "metadata": {},
   "outputs": [
    {
     "name": "stdout",
     "output_type": "stream",
     "text": [
      "Name: Gandalf\n",
      "Race: Human\n",
      "Hitpoints: 1000\n"
     ]
    }
   ],
   "source": [
    "create_character('Gandalf', hitpoints=1000)"
   ]
  },
  {
   "cell_type": "code",
   "execution_count": 86,
   "metadata": {},
   "outputs": [
    {
     "name": "stdout",
     "output_type": "stream",
     "text": [
      "Name: Aragorn\n",
      "Race: Human\n",
      "Hitpoints: 100\n",
      "Abilities:\n",
      "  - Swording\n",
      "  - Healing\n"
     ]
    }
   ],
   "source": [
    "create_character('Aragorn', abilities=('Swording', 'Healing'))"
   ]
  },
  {
   "cell_type": "code",
   "execution_count": 87,
   "metadata": {},
   "outputs": [],
   "source": [
    "def create_character(name, *abilities, race='Human', hitpoints=100):\n",
    "    print('Name:', name)\n",
    "    print('Race:', race)\n",
    "    print('Hitpoints:', hitpoints)\n",
    "    if abilities:\n",
    "        print('Abilities:')\n",
    "        for ability in abilities:\n",
    "            print('  -', ability)"
   ]
  },
  {
   "cell_type": "code",
   "execution_count": 88,
   "metadata": {},
   "outputs": [
    {
     "name": "stdout",
     "output_type": "stream",
     "text": [
      "Name: Michael\n",
      "Race: Human\n",
      "Hitpoints: 100\n"
     ]
    }
   ],
   "source": [
    "create_character('Michael')"
   ]
  },
  {
   "cell_type": "code",
   "execution_count": 89,
   "metadata": {},
   "outputs": [
    {
     "name": "stdout",
     "output_type": "stream",
     "text": [
      "Name: Michael\n",
      "Race: Human\n",
      "Hitpoints: 25\n",
      "Abilities:\n",
      "  - Coding\n",
      "  - Teaching\n",
      "  - Sleeping\n",
      "  - Eat\n"
     ]
    }
   ],
   "source": [
    "create_character('Michael', 'Coding', 'Teaching', 'Sleeping', 'Eat', hitpoints=25, )"
   ]
  },
  {
   "cell_type": "markdown",
   "metadata": {},
   "source": [
    "##### Functions as Objects\n",
    "\n"
   ]
  },
  {
   "cell_type": "code",
   "execution_count": 90,
   "metadata": {},
   "outputs": [
    {
     "name": "stdout",
     "output_type": "stream",
     "text": [
      "Foo called\n"
     ]
    }
   ],
   "source": [
    "def foo():\n",
    "    print('Foo called')\n",
    "\n",
    "bar = foo\n",
    "bar()"
   ]
  },
  {
   "cell_type": "code",
   "execution_count": 91,
   "metadata": {},
   "outputs": [
    {
     "name": "stdout",
     "output_type": "stream",
     "text": [
      "Bar called\n"
     ]
    }
   ],
   "source": [
    "def foo(f):\n",
    "    f()\n",
    "\n",
    "def bar():\n",
    "    print('Bar called')\n",
    "\n",
    "foo(bar)"
   ]
  },
  {
   "cell_type": "code",
   "execution_count": 92,
   "metadata": {},
   "outputs": [
    {
     "name": "stdout",
     "output_type": "stream",
     "text": [
      "Anonymous function called\n"
     ]
    }
   ],
   "source": [
    "foo = lambda: print('Anonymous function called')\n",
    "\n",
    "foo()"
   ]
  },
  {
   "cell_type": "code",
   "execution_count": 93,
   "metadata": {},
   "outputs": [
    {
     "data": {
      "text/plain": [
       "3"
      ]
     },
     "execution_count": 93,
     "metadata": {},
     "output_type": "execute_result"
    }
   ],
   "source": [
    "f = lambda x,y: x+y\n",
    "\n",
    "f(1,2)"
   ]
  },
  {
   "cell_type": "code",
   "execution_count": 94,
   "metadata": {},
   "outputs": [],
   "source": [
    "def my_map(f, it):\n",
    "    for x in it:\n",
    "        print(f(x))"
   ]
  },
  {
   "cell_type": "code",
   "execution_count": 95,
   "metadata": {},
   "outputs": [
    {
     "name": "stdout",
     "output_type": "stream",
     "text": [
      "2\n",
      "4\n",
      "6\n",
      "8\n",
      "10\n",
      "12\n",
      "14\n",
      "16\n",
      "18\n",
      "None\n"
     ]
    }
   ],
   "source": [
    "print(my_map(lambda x: x*2, range(1,10)))"
   ]
  },
  {
   "cell_type": "code",
   "execution_count": 96,
   "metadata": {},
   "outputs": [
    {
     "name": "stdout",
     "output_type": "stream",
     "text": [
      "2\n",
      "4\n",
      "6\n",
      "8\n",
      "10\n",
      "12\n",
      "14\n",
      "16\n",
      "18\n"
     ]
    }
   ],
   "source": [
    "for x in map(lambda x: x*2, range(1,10)):\n",
    "    print(x)"
   ]
  },
  {
   "cell_type": "code",
   "execution_count": 97,
   "metadata": {},
   "outputs": [
    {
     "name": "stdout",
     "output_type": "stream",
     "text": [
      "<class 'function'>\n"
     ]
    }
   ],
   "source": [
    "def foo():\n",
    "    print('Foo called')\n",
    "\n",
    "print(type(foo))"
   ]
  },
  {
   "cell_type": "code",
   "execution_count": 98,
   "metadata": {},
   "outputs": [
    {
     "name": "stdout",
     "output_type": "stream",
     "text": [
      "['__annotations__', '__call__', '__class__', '__closure__', '__code__', '__defaults__', '__delattr__', '__dict__', '__dir__', '__doc__', '__eq__', '__format__', '__ge__', '__get__', '__getattribute__', '__globals__', '__gt__', '__hash__', '__init__', '__init_subclass__', '__kwdefaults__', '__le__', '__lt__', '__module__', '__name__', '__ne__', '__new__', '__qualname__', '__reduce__', '__reduce_ex__', '__repr__', '__setattr__', '__sizeof__', '__str__', '__subclasshook__']\n"
     ]
    }
   ],
   "source": [
    "print(dir(foo))"
   ]
  },
  {
   "cell_type": "code",
   "execution_count": 99,
   "metadata": {},
   "outputs": [
    {
     "name": "stdout",
     "output_type": "stream",
     "text": [
      "Foo called\n"
     ]
    }
   ],
   "source": [
    "foo.__call__()"
   ]
  },
  {
   "cell_type": "code",
   "execution_count": 100,
   "metadata": {},
   "outputs": [
    {
     "name": "stdout",
     "output_type": "stream",
     "text": [
      "<function foo at 0x10fc83790>\n"
     ]
    }
   ],
   "source": [
    "print(foo.__str__())"
   ]
  },
  {
   "cell_type": "markdown",
   "metadata": {},
   "source": [
    "#### 1.  OOP (Classes, Methods, etc.)\n",
    "\n"
   ]
  },
  {
   "cell_type": "code",
   "execution_count": 101,
   "metadata": {},
   "outputs": [],
   "source": [
    "class Foo:\n",
    "    pass"
   ]
  },
  {
   "cell_type": "code",
   "execution_count": 102,
   "metadata": {},
   "outputs": [
    {
     "data": {
      "text/plain": [
       "type"
      ]
     },
     "execution_count": 102,
     "metadata": {},
     "output_type": "execute_result"
    }
   ],
   "source": [
    "type(Foo)"
   ]
  },
  {
   "cell_type": "code",
   "execution_count": 103,
   "metadata": {},
   "outputs": [
    {
     "data": {
      "text/plain": [
       "<__main__.Foo at 0x10fc2ae80>"
      ]
     },
     "execution_count": 103,
     "metadata": {},
     "output_type": "execute_result"
    }
   ],
   "source": [
    "Foo()"
   ]
  },
  {
   "cell_type": "code",
   "execution_count": 104,
   "metadata": {},
   "outputs": [
    {
     "data": {
      "text/plain": [
       "__main__.Foo"
      ]
     },
     "execution_count": 104,
     "metadata": {},
     "output_type": "execute_result"
    }
   ],
   "source": [
    "type(Foo())"
   ]
  },
  {
   "cell_type": "code",
   "execution_count": 105,
   "metadata": {},
   "outputs": [
    {
     "data": {
      "text/plain": [
       "'__main__'"
      ]
     },
     "execution_count": 105,
     "metadata": {},
     "output_type": "execute_result"
    }
   ],
   "source": [
    "__name__ # name of the current \"module\" (for this notebook)"
   ]
  },
  {
   "cell_type": "code",
   "execution_count": 106,
   "metadata": {},
   "outputs": [
    {
     "data": {
      "text/plain": [
       "dict_keys(['__name__', '__doc__', '__package__', '__loader__', '__spec__', '__builtin__', '__builtins__', '_ih', '_oh', '_dh', 'In', 'Out', 'get_ipython', 'exit', 'quit', '_', '__', '___', '_i', '_ii', '_iii', '_i1', '_i2', 'x', '_i3', 'foo', '_i4', 'a', '_i5', '_i6', '_i7', '_i8', '_i9', '_i10', '_i11', '_i12', '_i13', '_i14', '_i15', 'y', '_i16', '_i17', '_i18', '_i19', '_i20', '_i21', 'greeting', '_i22', '_i23', '_i24', '_i25', '_i26', '_i27', '_i28', 'name', 'address', '_i29', '_i30', '_i31', '_i32', 'MyInt', '_i33', 'b', '_i34', '_i35', '_i36', '_i37', '_i38', 'c', '_i39', '_i40', '_i41', 'MyBool', '_i42', '_i43', '_i44', '_i45', 'z', '_i46', '_i47', '_i48', '_i49', '_i50', '_i51', '_i52', '_i53', 'randint', 'score', 'grade', '_i54', 'f0', 'f1', '_i55', 'i', 'to_find', '_i56', '_i57', '_i58', '_i59', '_i60', '_i61', '_i62', '_i63', '_i64', '_i65', '_i66', 'r', 'it', '_i67', '_i68', '_i69', '_i70', '_i71', '_i72', 'mymulti', '_i73', 'math', 'quadratic_roots', '_i74', '_i75', '_i76', '_i77', '_i78', '_i79', 'create_character', '_i80', '_i81', '_i82', '_i83', '_i84', '_i85', '_i86', '_i87', '_i88', '_i89', '_i90', 'bar', '_i91', '_i92', '_i93', 'f', '_93', '_i94', 'my_map', '_i95', '_i96', '_i97', '_i98', '_i99', '_i100', '_i101', 'Foo', '_i102', '_102', '_i103', '_103', '_i104', '_104', '_i105', '_105', '_i106'])"
      ]
     },
     "execution_count": 106,
     "metadata": {},
     "output_type": "execute_result"
    }
   ],
   "source": [
    "globals().keys() # symbol table of the current module"
   ]
  },
  {
   "cell_type": "code",
   "execution_count": 107,
   "metadata": {},
   "outputs": [
    {
     "data": {
      "text/plain": [
       "['Foo',\n",
       " 'In',\n",
       " 'MyBool',\n",
       " 'MyInt',\n",
       " 'Out',\n",
       " '_',\n",
       " '_102',\n",
       " '_103',\n",
       " '_104',\n",
       " '_105',\n",
       " '_106',\n",
       " '_93',\n",
       " '__',\n",
       " '___',\n",
       " '__builtin__',\n",
       " '__builtins__',\n",
       " '__doc__',\n",
       " '__loader__',\n",
       " '__name__',\n",
       " '__package__',\n",
       " '__spec__',\n",
       " '_dh',\n",
       " '_i',\n",
       " '_i1',\n",
       " '_i10',\n",
       " '_i100',\n",
       " '_i101',\n",
       " '_i102',\n",
       " '_i103',\n",
       " '_i104',\n",
       " '_i105',\n",
       " '_i106',\n",
       " '_i107',\n",
       " '_i11',\n",
       " '_i12',\n",
       " '_i13',\n",
       " '_i14',\n",
       " '_i15',\n",
       " '_i16',\n",
       " '_i17',\n",
       " '_i18',\n",
       " '_i19',\n",
       " '_i2',\n",
       " '_i20',\n",
       " '_i21',\n",
       " '_i22',\n",
       " '_i23',\n",
       " '_i24',\n",
       " '_i25',\n",
       " '_i26',\n",
       " '_i27',\n",
       " '_i28',\n",
       " '_i29',\n",
       " '_i3',\n",
       " '_i30',\n",
       " '_i31',\n",
       " '_i32',\n",
       " '_i33',\n",
       " '_i34',\n",
       " '_i35',\n",
       " '_i36',\n",
       " '_i37',\n",
       " '_i38',\n",
       " '_i39',\n",
       " '_i4',\n",
       " '_i40',\n",
       " '_i41',\n",
       " '_i42',\n",
       " '_i43',\n",
       " '_i44',\n",
       " '_i45',\n",
       " '_i46',\n",
       " '_i47',\n",
       " '_i48',\n",
       " '_i49',\n",
       " '_i5',\n",
       " '_i50',\n",
       " '_i51',\n",
       " '_i52',\n",
       " '_i53',\n",
       " '_i54',\n",
       " '_i55',\n",
       " '_i56',\n",
       " '_i57',\n",
       " '_i58',\n",
       " '_i59',\n",
       " '_i6',\n",
       " '_i60',\n",
       " '_i61',\n",
       " '_i62',\n",
       " '_i63',\n",
       " '_i64',\n",
       " '_i65',\n",
       " '_i66',\n",
       " '_i67',\n",
       " '_i68',\n",
       " '_i69',\n",
       " '_i7',\n",
       " '_i70',\n",
       " '_i71',\n",
       " '_i72',\n",
       " '_i73',\n",
       " '_i74',\n",
       " '_i75',\n",
       " '_i76',\n",
       " '_i77',\n",
       " '_i78',\n",
       " '_i79',\n",
       " '_i8',\n",
       " '_i80',\n",
       " '_i81',\n",
       " '_i82',\n",
       " '_i83',\n",
       " '_i84',\n",
       " '_i85',\n",
       " '_i86',\n",
       " '_i87',\n",
       " '_i88',\n",
       " '_i89',\n",
       " '_i9',\n",
       " '_i90',\n",
       " '_i91',\n",
       " '_i92',\n",
       " '_i93',\n",
       " '_i94',\n",
       " '_i95',\n",
       " '_i96',\n",
       " '_i97',\n",
       " '_i98',\n",
       " '_i99',\n",
       " '_ih',\n",
       " '_ii',\n",
       " '_iii',\n",
       " '_oh',\n",
       " 'a',\n",
       " 'address',\n",
       " 'b',\n",
       " 'bar',\n",
       " 'c',\n",
       " 'create_character',\n",
       " 'exit',\n",
       " 'f',\n",
       " 'f0',\n",
       " 'f1',\n",
       " 'foo',\n",
       " 'get_ipython',\n",
       " 'grade',\n",
       " 'greeting',\n",
       " 'i',\n",
       " 'it',\n",
       " 'm',\n",
       " 'math',\n",
       " 'my_map',\n",
       " 'mymulti',\n",
       " 'name',\n",
       " 'quadratic_roots',\n",
       " 'quit',\n",
       " 'r',\n",
       " 'randint',\n",
       " 'score',\n",
       " 'sys',\n",
       " 'to_find',\n",
       " 'x',\n",
       " 'y',\n",
       " 'z']"
      ]
     },
     "execution_count": 107,
     "metadata": {},
     "output_type": "execute_result"
    }
   ],
   "source": [
    "import sys\n",
    "m = sys.modules['__main__'] # explicitly accessing the __main__b module\n",
    "dir(m)"
   ]
  },
  {
   "cell_type": "code",
   "execution_count": 108,
   "metadata": {},
   "outputs": [
    {
     "data": {
      "text/plain": [
       "<__main__.Foo at 0x10fc4a430>"
      ]
     },
     "execution_count": 108,
     "metadata": {},
     "output_type": "execute_result"
    }
   ],
   "source": [
    "m.Foo()"
   ]
  },
  {
   "cell_type": "code",
   "execution_count": 109,
   "metadata": {},
   "outputs": [],
   "source": [
    "f = Foo()"
   ]
  },
  {
   "cell_type": "code",
   "execution_count": 110,
   "metadata": {},
   "outputs": [
    {
     "data": {
      "text/plain": [
       "150"
      ]
     },
     "execution_count": 110,
     "metadata": {},
     "output_type": "execute_result"
    }
   ],
   "source": [
    "f.x = 100\n",
    "f.y = 50\n",
    "f.x + f.y"
   ]
  },
  {
   "cell_type": "code",
   "execution_count": 111,
   "metadata": {},
   "outputs": [],
   "source": [
    "g = Foo()\n",
    "#  g.x"
   ]
  },
  {
   "cell_type": "code",
   "execution_count": 112,
   "metadata": {},
   "outputs": [],
   "source": [
    "class Foo:\n",
    "    def bar():\n",
    "        print('Bar called')"
   ]
  },
  {
   "cell_type": "code",
   "execution_count": 113,
   "metadata": {},
   "outputs": [
    {
     "data": {
      "text/plain": [
       "function"
      ]
     },
     "execution_count": 113,
     "metadata": {},
     "output_type": "execute_result"
    }
   ],
   "source": [
    "type(Foo.bar)"
   ]
  },
  {
   "cell_type": "code",
   "execution_count": 114,
   "metadata": {},
   "outputs": [],
   "source": [
    "f = Foo()"
   ]
  },
  {
   "cell_type": "code",
   "execution_count": 115,
   "metadata": {},
   "outputs": [
    {
     "data": {
      "text/plain": [
       "method"
      ]
     },
     "execution_count": 115,
     "metadata": {},
     "output_type": "execute_result"
    }
   ],
   "source": [
    "type(f.bar)"
   ]
  },
  {
   "cell_type": "code",
   "execution_count": 116,
   "metadata": {},
   "outputs": [
    {
     "name": "stdout",
     "output_type": "stream",
     "text": [
      "Bar called\n"
     ]
    }
   ],
   "source": [
    "Foo.bar()"
   ]
  },
  {
   "cell_type": "code",
   "execution_count": 117,
   "metadata": {},
   "outputs": [
    {
     "name": "stdout",
     "output_type": "stream",
     "text": [
      "bar() takes 0 positional arguments but 1 was given\n"
     ]
    }
   ],
   "source": [
    "try:\n",
    "    f.bar()\n",
    "except Exception as e:\n",
    "    print(e)"
   ]
  },
  {
   "cell_type": "code",
   "execution_count": 118,
   "metadata": {},
   "outputs": [],
   "source": [
    "class Foo:\n",
    "    def bar(x):\n",
    "        print('Bar called with', x)"
   ]
  },
  {
   "cell_type": "code",
   "execution_count": 119,
   "metadata": {},
   "outputs": [
    {
     "ename": "TypeError",
     "evalue": "bar() missing 1 required positional argument: 'x'",
     "output_type": "error",
     "traceback": [
      "\u001b[0;31m---------------------------------------------------------------------------\u001b[0m",
      "\u001b[0;31mTypeError\u001b[0m                                 Traceback (most recent call last)",
      "\u001b[0;32m<ipython-input-119-220bf08d7b55>\u001b[0m in \u001b[0;36m<module>\u001b[0;34m\u001b[0m\n\u001b[0;32m----> 1\u001b[0;31m \u001b[0mFoo\u001b[0m\u001b[0;34m.\u001b[0m\u001b[0mbar\u001b[0m\u001b[0;34m(\u001b[0m\u001b[0;34m)\u001b[0m\u001b[0;34m\u001b[0m\u001b[0;34m\u001b[0m\u001b[0m\n\u001b[0m",
      "\u001b[0;31mTypeError\u001b[0m: bar() missing 1 required positional argument: 'x'"
     ]
    }
   ],
   "source": [
    "Foo.bar()"
   ]
  },
  {
   "cell_type": "code",
   "execution_count": null,
   "metadata": {},
   "outputs": [],
   "source": [
    "f = Foo()\n",
    "f.bar()"
   ]
  },
  {
   "cell_type": "code",
   "execution_count": null,
   "metadata": {},
   "outputs": [],
   "source": [
    "class Foo:\n",
    "    def bar(self):\n",
    "        self.x = 'Some value'"
   ]
  },
  {
   "cell_type": "code",
   "execution_count": null,
   "metadata": {},
   "outputs": [],
   "source": [
    "f = Foo()\n",
    "f.bar()\n",
    "print(f.x)"
   ]
  },
  {
   "cell_type": "code",
   "execution_count": null,
   "metadata": {},
   "outputs": [],
   "source": [
    "class Shape:\n",
    "    def __init__(self, name):\n",
    "        self.name = name\n",
    "\n",
    "    def __repr__(self):\n",
    "        return self.name\n",
    "\n",
    "    def __str__(self):\n",
    "        return self.name.upper()\n",
    "\n",
    "    def area(self):\n",
    "        raise NotImplementedError()"
   ]
  },
  {
   "cell_type": "code",
   "execution_count": null,
   "metadata": {},
   "outputs": [],
   "source": [
    "s = Shape('circle')"
   ]
  },
  {
   "cell_type": "code",
   "execution_count": null,
   "metadata": {},
   "outputs": [],
   "source": [
    "print(s)"
   ]
  },
  {
   "cell_type": "code",
   "execution_count": null,
   "metadata": {},
   "outputs": [],
   "source": [
    "print(str(s))"
   ]
  },
  {
   "cell_type": "code",
   "execution_count": null,
   "metadata": {},
   "outputs": [],
   "source": [
    "try:\n",
    "    print(s.area())\n",
    "except Exception as e:\n",
    "    print(e)"
   ]
  },
  {
   "cell_type": "code",
   "execution_count": null,
   "metadata": {},
   "outputs": [],
   "source": [
    "class Circle(Shape):\n",
    "    def __init__(self, radius):\n",
    "        super().__init__('circle')\n",
    "        self.radius = radius\n",
    "\n",
    "    def area(self):\n",
    "        return 3.14 * self.radius ** 2"
   ]
  },
  {
   "cell_type": "code",
   "execution_count": null,
   "metadata": {},
   "outputs": [],
   "source": [
    "c = Circle(5.0)\n",
    "c\n",
    "print(c.area())"
   ]
  },
  {
   "cell_type": "code",
   "execution_count": null,
   "metadata": {},
   "outputs": [],
   "source": [
    "class Circle(Shape):\n",
    "    def __init__(self, radius):\n",
    "        super().__init__('circle')\n",
    "        self.radius = radius\n",
    "\n",
    "    def area(self):\n",
    "        return 3.14 * self.radius ** 2\n",
    "\n",
    "    def __eq__(self, other):\n",
    "        return isinstance(other, Circle) and self.radius == other.radius\n",
    "\n",
    "    def __add__(self, other):\n",
    "        return Circle(self.radius + other.radius)\n",
    "\n",
    "    def __repr__(self):\n",
    "        return 'Circle(r={})'.format(self.radius)\n",
    "\n",
    "    def __str__(self):\n",
    "        return self.__repr__()"
   ]
  },
  {
   "cell_type": "code",
   "execution_count": 120,
   "metadata": {},
   "outputs": [
    {
     "ename": "NameError",
     "evalue": "name 'Circle' is not defined",
     "output_type": "error",
     "traceback": [
      "\u001b[0;31m---------------------------------------------------------------------------\u001b[0m",
      "\u001b[0;31mNameError\u001b[0m                                 Traceback (most recent call last)",
      "\u001b[0;32m<ipython-input-120-c6543c3abfdd>\u001b[0m in \u001b[0;36m<module>\u001b[0;34m\u001b[0m\n\u001b[0;32m----> 1\u001b[0;31m \u001b[0mc1\u001b[0m \u001b[0;34m=\u001b[0m \u001b[0mCircle\u001b[0m\u001b[0;34m(\u001b[0m\u001b[0;36m2.0\u001b[0m\u001b[0;34m)\u001b[0m\u001b[0;34m\u001b[0m\u001b[0;34m\u001b[0m\u001b[0m\n\u001b[0m\u001b[1;32m      2\u001b[0m \u001b[0mc2\u001b[0m \u001b[0;34m=\u001b[0m \u001b[0mCircle\u001b[0m\u001b[0;34m(\u001b[0m\u001b[0;36m4.0\u001b[0m\u001b[0;34m)\u001b[0m\u001b[0;34m\u001b[0m\u001b[0;34m\u001b[0m\u001b[0m\n\u001b[1;32m      3\u001b[0m \u001b[0mc3\u001b[0m \u001b[0;34m=\u001b[0m \u001b[0mCircle\u001b[0m\u001b[0;34m(\u001b[0m\u001b[0;36m2.0\u001b[0m\u001b[0;34m)\u001b[0m\u001b[0;34m\u001b[0m\u001b[0;34m\u001b[0m\u001b[0m\n\u001b[1;32m      4\u001b[0m \u001b[0;34m\u001b[0m\u001b[0m\n\u001b[1;32m      5\u001b[0m \u001b[0mc1\u001b[0m\u001b[0;34m,\u001b[0m \u001b[0mc2\u001b[0m\u001b[0;34m,\u001b[0m \u001b[0mc3\u001b[0m\u001b[0;34m\u001b[0m\u001b[0;34m\u001b[0m\u001b[0m\n",
      "\u001b[0;31mNameError\u001b[0m: name 'Circle' is not defined"
     ]
    }
   ],
   "source": [
    "c1 = Circle(2.0)\n",
    "c2 = Circle(4.0)\n",
    "c3 = Circle(2.0)\n",
    "\n",
    "c1, c2, c3\n",
    "c1 == c2\n",
    "c1 == c3\n",
    "print(c1 + c2)"
   ]
  },
  {
   "cell_type": "markdown",
   "metadata": {},
   "source": [
    "#### 1.  Immutable Sequence Types: Strings, Ranges, Tuples\n",
    "\n"
   ]
  },
  {
   "cell_type": "markdown",
   "metadata": {},
   "source": [
    "Recall: All immutable sequences support the\n",
    " [common\n",
    " sequence operations](https://docs.python.org/3/library/stdtypes.html#common-sequence-operations). For many sequence types, there are constructors\n",
    " that allow us to create them from other sequence types.\n",
    "\n"
   ]
  },
  {
   "cell_type": "markdown",
   "metadata": {},
   "source": [
    "##### Strings\n",
    "\n"
   ]
  },
  {
   "cell_type": "code",
   "execution_count": null,
   "metadata": {},
   "outputs": [],
   "source": [
    "s = 'hello'\n",
    "print(s)"
   ]
  },
  {
   "cell_type": "code",
   "execution_count": null,
   "metadata": {},
   "outputs": [],
   "source": [
    "print(s[0])\n",
    "print(s[1:3])\n",
    "print('e' in s)\n",
    "print(s + s)"
   ]
  },
  {
   "cell_type": "code",
   "execution_count": null,
   "metadata": {},
   "outputs": [],
   "source": [
    "try:\n",
    "    s[0] = 'j'\n",
    "except TypeError as e:\n",
    "    print(e)"
   ]
  },
  {
   "cell_type": "code",
   "execution_count": null,
   "metadata": {},
   "outputs": [],
   "source": [
    "t = s\n",
    "s += s # not mutating the string!\n",
    "print(s)\n",
    "print(t)"
   ]
  },
  {
   "cell_type": "markdown",
   "metadata": {},
   "source": [
    "##### Ranges\n",
    "\n"
   ]
  },
  {
   "cell_type": "code",
   "execution_count": null,
   "metadata": {},
   "outputs": [],
   "source": [
    "r = range(150, 10, -8)\n",
    "print(r)"
   ]
  },
  {
   "cell_type": "code",
   "execution_count": null,
   "metadata": {},
   "outputs": [],
   "source": [
    "print(r[2])\n",
    "print(r[3:7])\n",
    "print(94 in r)"
   ]
  },
  {
   "cell_type": "markdown",
   "metadata": {},
   "source": [
    "##### Tuples\n",
    "\n"
   ]
  },
  {
   "cell_type": "code",
   "execution_count": null,
   "metadata": {},
   "outputs": [],
   "source": [
    "print(())"
   ]
  },
  {
   "cell_type": "code",
   "execution_count": null,
   "metadata": {},
   "outputs": [],
   "source": [
    "print((1, 2, 3))"
   ]
  },
  {
   "cell_type": "code",
   "execution_count": null,
   "metadata": {},
   "outputs": [],
   "source": [
    "print(('a', 10, False, 'hello'))"
   ]
  },
  {
   "cell_type": "code",
   "execution_count": null,
   "metadata": {},
   "outputs": [],
   "source": [
    "print(tuple(range(10)))"
   ]
  },
  {
   "cell_type": "code",
   "execution_count": null,
   "metadata": {},
   "outputs": [],
   "source": [
    "print(tuple('hello'))"
   ]
  },
  {
   "cell_type": "code",
   "execution_count": null,
   "metadata": {},
   "outputs": [],
   "source": [
    "t = tuple('hello')\n",
    "print('e' in t)\n",
    "print(t[::-1])\n",
    "print(t * 3)"
   ]
  },
  {
   "cell_type": "markdown",
   "metadata": {},
   "source": [
    "#### 1.  Mutable data structures: Lists, Sets, Dicts\n",
    "\n"
   ]
  },
  {
   "cell_type": "markdown",
   "metadata": {},
   "source": [
    "##### Lists\n",
    "\n"
   ]
  },
  {
   "cell_type": "markdown",
   "metadata": {},
   "source": [
    "This list supports the  [mutable sequence operations](https://docs.python.org/3/library/stdtypes.html#mutable-sequence-types) in addition to the [common sequence operations](https://docs.python.org/3/library/stdtypes.html#common-sequence-operations).\n",
    "\n"
   ]
  },
  {
   "cell_type": "code",
   "execution_count": null,
   "metadata": {},
   "outputs": [],
   "source": [
    "l = [1, 2, 1, 1, 2, 3, 3, 1]"
   ]
  },
  {
   "cell_type": "code",
   "execution_count": null,
   "metadata": {},
   "outputs": [],
   "source": [
    "len(l)"
   ]
  },
  {
   "cell_type": "code",
   "execution_count": null,
   "metadata": {},
   "outputs": [],
   "source": [
    "l[5]"
   ]
  },
  {
   "cell_type": "code",
   "execution_count": null,
   "metadata": {},
   "outputs": [],
   "source": [
    "l[1:-1]"
   ]
  },
  {
   "cell_type": "code",
   "execution_count": null,
   "metadata": {},
   "outputs": [],
   "source": [
    "l + ['hello', 'world']"
   ]
  },
  {
   "cell_type": "code",
   "execution_count": 121,
   "metadata": {},
   "outputs": [
    {
     "ename": "NameError",
     "evalue": "name 'l' is not defined",
     "output_type": "error",
     "traceback": [
      "\u001b[0;31m---------------------------------------------------------------------------\u001b[0m",
      "\u001b[0;31mNameError\u001b[0m                                 Traceback (most recent call last)",
      "\u001b[0;32m<ipython-input-121-efec9f6a09dc>\u001b[0m in \u001b[0;36m<module>\u001b[0;34m\u001b[0m\n\u001b[0;32m----> 1\u001b[0;31m \u001b[0ml\u001b[0m \u001b[0;31m# `+` does *not* mutate the list!\u001b[0m\u001b[0;34m\u001b[0m\u001b[0;34m\u001b[0m\u001b[0m\n\u001b[0m",
      "\u001b[0;31mNameError\u001b[0m: name 'l' is not defined"
     ]
    }
   ],
   "source": [
    "l # `+` does *not* mutate the list!"
   ]
  },
  {
   "cell_type": "code",
   "execution_count": null,
   "metadata": {},
   "outputs": [],
   "source": [
    "l * 3"
   ]
  },
  {
   "cell_type": "code",
   "execution_count": null,
   "metadata": {},
   "outputs": [],
   "source": [
    "sum = 0\n",
    "for x in l:\n",
    "    sum += x\n",
    "sum"
   ]
  },
  {
   "cell_type": "markdown",
   "metadata": {},
   "source": [
    "###### Mutable list operations\n",
    "\n"
   ]
  },
  {
   "cell_type": "code",
   "execution_count": null,
   "metadata": {},
   "outputs": [],
   "source": [
    "l = list('hell')"
   ]
  },
  {
   "cell_type": "code",
   "execution_count": null,
   "metadata": {},
   "outputs": [],
   "source": [
    "l.append('o')"
   ]
  },
  {
   "cell_type": "code",
   "execution_count": null,
   "metadata": {},
   "outputs": [],
   "source": [
    "l"
   ]
  },
  {
   "cell_type": "code",
   "execution_count": null,
   "metadata": {},
   "outputs": [],
   "source": [
    "l.append(' there')"
   ]
  },
  {
   "cell_type": "code",
   "execution_count": null,
   "metadata": {},
   "outputs": [],
   "source": [
    "l"
   ]
  },
  {
   "cell_type": "code",
   "execution_count": null,
   "metadata": {},
   "outputs": [],
   "source": [
    "del l[-1]"
   ]
  },
  {
   "cell_type": "code",
   "execution_count": null,
   "metadata": {},
   "outputs": [],
   "source": [
    "l.extend(' there')"
   ]
  },
  {
   "cell_type": "code",
   "execution_count": null,
   "metadata": {},
   "outputs": [],
   "source": [
    "l"
   ]
  },
  {
   "cell_type": "code",
   "execution_count": null,
   "metadata": {},
   "outputs": [],
   "source": [
    "l[2:7]"
   ]
  },
  {
   "cell_type": "code",
   "execution_count": null,
   "metadata": {},
   "outputs": [],
   "source": [
    "del l[2:7]"
   ]
  },
  {
   "cell_type": "code",
   "execution_count": null,
   "metadata": {},
   "outputs": [],
   "source": [
    "l"
   ]
  },
  {
   "cell_type": "code",
   "execution_count": null,
   "metadata": {},
   "outputs": [],
   "source": [
    "l[:]"
   ]
  },
  {
   "cell_type": "markdown",
   "metadata": {},
   "source": [
    "###### List comprehensions\n",
    "\n"
   ]
  },
  {
   "cell_type": "code",
   "execution_count": null,
   "metadata": {},
   "outputs": [],
   "source": [
    "[x for x in range(10)]"
   ]
  },
  {
   "cell_type": "code",
   "execution_count": null,
   "metadata": {},
   "outputs": [],
   "source": [
    "[2*x+1 for x in range(10)] # odd numbers"
   ]
  },
  {
   "cell_type": "code",
   "execution_count": null,
   "metadata": {},
   "outputs": [],
   "source": [
    "adjs = ('hot', 'blue', 'quick')\n",
    "nouns = ('table', 'fox', 'sky')\n",
    "[adj + ' ' + noun for adj in adjs for noun in nouns]"
   ]
  },
  {
   "cell_type": "code",
   "execution_count": null,
   "metadata": {},
   "outputs": [],
   "source": [
    "# pythagorean triples\n",
    "n = 50\n",
    "[(a,b,c) for a in range(1,n)\n",
    "           for b in range(a,n)\n",
    "           for c in range(b,n)\n",
    "           if a**2 + b**2 == c**2]"
   ]
  },
  {
   "cell_type": "markdown",
   "metadata": {},
   "source": [
    "##### Sets\n",
    "\n"
   ]
  },
  {
   "cell_type": "markdown",
   "metadata": {},
   "source": [
    "A\n",
    " [set](https://docs.python.org/3.7/library/stdtypes.html#set-types-set-frozenset)\n",
    " is a data structure that represents an *unordered* collection of unique\n",
    " objects (like the mathematical set).\n",
    "\n"
   ]
  },
  {
   "cell_type": "code",
   "execution_count": null,
   "metadata": {},
   "outputs": [],
   "source": [
    "s = {1, 2, 1, 1, 2, 3, 3, 1}"
   ]
  },
  {
   "cell_type": "code",
   "execution_count": null,
   "metadata": {},
   "outputs": [],
   "source": [
    "s"
   ]
  },
  {
   "cell_type": "code",
   "execution_count": null,
   "metadata": {},
   "outputs": [],
   "source": [
    "t = {2, 3, 4, 5}"
   ]
  },
  {
   "cell_type": "code",
   "execution_count": 122,
   "metadata": {},
   "outputs": [
    {
     "ename": "NameError",
     "evalue": "name 's' is not defined",
     "output_type": "error",
     "traceback": [
      "\u001b[0;31m---------------------------------------------------------------------------\u001b[0m",
      "\u001b[0;31mNameError\u001b[0m                                 Traceback (most recent call last)",
      "\u001b[0;32m<ipython-input-122-44738a97ecb7>\u001b[0m in \u001b[0;36m<module>\u001b[0;34m\u001b[0m\n\u001b[0;32m----> 1\u001b[0;31m \u001b[0ms\u001b[0m\u001b[0;34m.\u001b[0m\u001b[0munion\u001b[0m\u001b[0;34m(\u001b[0m\u001b[0mt\u001b[0m\u001b[0;34m)\u001b[0m\u001b[0;34m\u001b[0m\u001b[0;34m\u001b[0m\u001b[0m\n\u001b[0m",
      "\u001b[0;31mNameError\u001b[0m: name 's' is not defined"
     ]
    }
   ],
   "source": [
    "s.union(t)"
   ]
  },
  {
   "cell_type": "code",
   "execution_count": null,
   "metadata": {},
   "outputs": [],
   "source": [
    "s.difference(t)"
   ]
  },
  {
   "cell_type": "code",
   "execution_count": null,
   "metadata": {},
   "outputs": [],
   "source": [
    "s.intersection(t)"
   ]
  },
  {
   "cell_type": "markdown",
   "metadata": {},
   "source": [
    "##### Dicts\n",
    "\n"
   ]
  },
  {
   "cell_type": "markdown",
   "metadata": {},
   "source": [
    "A\n",
    " [dictionary](https://docs.python.org/3/library/stdtypes.html#mapping-types-dict)\n",
    " is a data structure that contains a set of unique key → value mappings.\n",
    "\n"
   ]
  },
  {
   "cell_type": "code",
   "execution_count": null,
   "metadata": {},
   "outputs": [],
   "source": [
    "d = {\n",
    "    'Superman':  'Clark Kent',\n",
    "    'Batman':    'Bruce Wayne',\n",
    "    'Spiderman': 'Peter Parker',\n",
    "    'Ironman':   'Tony Stark'\n",
    "}"
   ]
  },
  {
   "cell_type": "code",
   "execution_count": null,
   "metadata": {},
   "outputs": [],
   "source": [
    "d['Ironman']"
   ]
  },
  {
   "cell_type": "code",
   "execution_count": null,
   "metadata": {},
   "outputs": [],
   "source": [
    "d['Ironman'] = 'James Rhodes'"
   ]
  },
  {
   "cell_type": "code",
   "execution_count": null,
   "metadata": {},
   "outputs": [],
   "source": [
    "d"
   ]
  },
  {
   "cell_type": "markdown",
   "metadata": {},
   "source": [
    "###### Dictionary comprehensions\n",
    "\n"
   ]
  },
  {
   "cell_type": "code",
   "execution_count": null,
   "metadata": {},
   "outputs": [],
   "source": [
    "{e:2**e for e in range(0,100,10)}"
   ]
  },
  {
   "cell_type": "code",
   "execution_count": null,
   "metadata": {},
   "outputs": [],
   "source": [
    "{x:y for x in range(3) for y in range(10)}"
   ]
  },
  {
   "cell_type": "code",
   "execution_count": null,
   "metadata": {},
   "outputs": [],
   "source": [
    "sentence = 'a man a plan a canal panama'\n",
    "{w:w[::-1] for w in sentence.split()}"
   ]
  },
  {
   "cell_type": "markdown",
   "metadata": {},
   "source": [
    "#### 1.  Modules and the Standard Library\n",
    "\n"
   ]
  },
  {
   "cell_type": "markdown",
   "metadata": {},
   "source": [
    "##### Importing modules\n",
    "\n"
   ]
  },
  {
   "cell_type": "markdown",
   "metadata": {},
   "source": [
    "##### The Python Standard Library\n",
    "\n"
   ]
  },
  {
   "cell_type": "markdown",
   "metadata": {},
   "source": [
    "##### Installing Libraries\n",
    "\n"
   ]
  },
  {
   "cell_type": "markdown",
   "metadata": {},
   "source": [
    "##### Pip and PyPI\n",
    "\n"
   ]
  },
  {
   "cell_type": "markdown",
   "metadata": {},
   "source": [
    "### Lists\n",
    "\n"
   ]
  },
  {
   "cell_type": "markdown",
   "metadata": {},
   "source": [
    "#### The Array-Backed List\n",
    "\n"
   ]
  },
  {
   "cell_type": "markdown",
   "metadata": {},
   "source": [
    "##### Agenda\n",
    "\n"
   ]
  },
  {
   "cell_type": "markdown",
   "metadata": {},
   "source": [
    "1.  The List **Abstract Data Type** (ADT)\n",
    "2.  A List **Data Structure**\n",
    "3.  Our List API\n",
    "4.  Getting started: how to store our data?\n",
    "5.  Built-in `list` as array\n",
    "6.  The `ArrayList` data structure\n",
    "\n"
   ]
  },
  {
   "cell_type": "markdown",
   "metadata": {},
   "source": [
    "##### 1.  The List **Abstract Data Type** (ADT)\n",
    "\n"
   ]
  },
  {
   "cell_type": "markdown",
   "metadata": {},
   "source": [
    "An **abstract data type (ADT)** defines a *conceptual model* for how data\n",
    "may be stored and accessed.\n",
    "\n",
    "A **list ADT** is a data container where:\n",
    "\n",
    "-   values are ordered in a *sequence*\n",
    "-   each value has at most one preceding and one succeeding value\n",
    "-   a given value may appear more than once in a list\n",
    "\n",
    "Other common ADTs (some of which we'll explore later) include:\n",
    "\n",
    "-   Stacks\n",
    "-   Queues\n",
    "-   Priority Queues\n",
    "-   Maps\n",
    "-   Graphs\n",
    "\n"
   ]
  },
  {
   "cell_type": "markdown",
   "metadata": {},
   "source": [
    "##### 1.  A List **Data Structure**\n",
    "\n"
   ]
  },
  {
   "cell_type": "markdown",
   "metadata": {},
   "source": [
    "A **list data structure** is a *concrete implementation* of the list ADT\n",
    "in some programming language, which, in addition to adhering to the\n",
    "basic premises of the ADT, will also typically support operations that:\n",
    "\n",
    "-   access values in the list by their position (index)\n",
    "-   append and insert new values into the list\n",
    "-   remove values from the list\n",
    "\n",
    "The implementation of any data structure will generally rely on simpler,\n",
    "constituent data types (e.g., \"primitive\" types offered by the\n",
    "language), the choice of which may affect the runtime complexities of\n",
    "said operations.\n",
    "\n"
   ]
  },
  {
   "cell_type": "markdown",
   "metadata": {},
   "source": [
    "##### 1.  The List API\n",
    "\n"
   ]
  },
  {
   "cell_type": "markdown",
   "metadata": {},
   "source": [
    "The operations we'll be building into our list data structures will be\n",
    "based on the\n",
    "[common](https://docs.python.org/3.6/library/stdtypes.html#common-sequence-operations)\n",
    "and\n",
    "[mutable](https://docs.python.org/3.6/library/stdtypes.html#mutable-sequence-types)\n",
    "sequence operations defined by the Ipython library.\n",
    "\n"
   ]
  },
  {
   "cell_type": "code",
   "execution_count": 123,
   "metadata": {},
   "outputs": [
    {
     "ename": "IndentationError",
     "evalue": "expected an indented block (<ipython-input-123-6b54ec0da59f>, line 5)",
     "output_type": "error",
     "traceback": [
      "\u001b[0;36m  File \u001b[0;32m\"<ipython-input-123-6b54ec0da59f>\"\u001b[0;36m, line \u001b[0;32m5\u001b[0m\n\u001b[0;31m    \"\"\"Implements `x = self[idx]`\"\"\"\u001b[0m\n\u001b[0m    ^\u001b[0m\n\u001b[0;31mIndentationError\u001b[0m\u001b[0;31m:\u001b[0m expected an indented block\n"
     ]
    }
   ],
   "source": [
    "class List:\n",
    "    ### subscript-based access ###\n",
    "\n",
    "    def __getitem__(self, idx):\n",
    "    \"\"\"Implements `x = self[idx]`\"\"\"\n",
    "    pass\n",
    "\n",
    "    def __setitem__(self, idx, value):\n",
    "    \"\"\"Implements `self[idx] = x`\"\"\"\n",
    "    pass\n",
    "\n",
    "    def __delitem__(self, idx):\n",
    "    \"\"\"Implements `del self[idx]`\"\"\"\n",
    "    pass\n",
    "\n",
    "    ### stringification ###\n",
    "\n",
    "    def __repr__(self):\n",
    "    \"\"\"Supports inspection\"\"\"\n",
    "    return '[]'\n",
    "\n",
    "    def __str__(self):\n",
    "    \"\"\"Implements `str(self)`\"\"\"\n",
    "    return '[]'\n",
    "\n",
    "    ### single-element manipulation ###\n",
    "\n",
    "    def append(self, value):\n",
    "    pass\n",
    "\n",
    "    def insert(self, idx, value):\n",
    "    pass\n",
    "\n",
    "    def pop(self, idx=-1):\n",
    "    pass\n",
    "\n",
    "    def remove(self, value):\n",
    "    pass\n",
    "\n",
    "    ### predicates (T/F queries) ###\n",
    "\n",
    "    def __eq__(self, other):\n",
    "    \"\"\"Implements `self == other`\"\"\"\n",
    "    return True\n",
    "\n",
    "    def __contains__(self, value):\n",
    "    \"\"\"Implements `val in self`\"\"\"\n",
    "    return True\n",
    "\n",
    "    ### queries ###\n",
    "\n",
    "    def __len__(self):\n",
    "    \"\"\"Implements `len(self)`\"\"\"\n",
    "    return len(self.data)\n",
    "\n",
    "    def min(self):\n",
    "    pass\n",
    "\n",
    "    def max(self):\n",
    "    pass\n",
    "\n",
    "    def index(self, value, i, j):\n",
    "    pass\n",
    "\n",
    "    def count(self, value):\n",
    "    pass\n",
    "\n",
    "    ### bulk operations ###\n",
    "\n",
    "    def __add__(self, other):\n",
    "    \"\"\"Implements `self + other_array_list`\"\"\"\n",
    "    return self\n",
    "\n",
    "    def clear(self):\n",
    "    pass\n",
    "\n",
    "    def copy(self):\n",
    "    pass\n",
    "\n",
    "    def extend(self, other):\n",
    "    pass\n",
    "\n",
    "    ### iteration ###\n",
    "\n",
    "    def __iter__(self):\n",
    "    \"\"\"Supports iteration (via `iter(self)`)\"\"\"\n",
    "    pass"
   ]
  },
  {
   "cell_type": "markdown",
   "metadata": {},
   "source": [
    "##### 1.  Getting started: how to store our data?\n",
    "\n"
   ]
  },
  {
   "cell_type": "code",
   "execution_count": null,
   "metadata": {},
   "outputs": [],
   "source": [
    "class List:\n",
    "    def ini():\n",
    "    pass\n",
    "\n",
    "    def append(self, value):\n",
    "    pass\n",
    "\n",
    "    def __getitem__(self, idx):\n",
    "    \"\"\"Implements `x = self[idx]`\"\"\"\n",
    "    pass\n",
    "\n",
    "    def __setitem__(self, idx, value):\n",
    "    \"\"\"Implements `self[idx] = x`\"\"\"\n",
    "    pass\n",
    "\n",
    "    def __repr__(self):\n",
    "    \"\"\"Supports inspection\"\"\"\n",
    "    pass"
   ]
  },
  {
   "cell_type": "markdown",
   "metadata": {},
   "source": [
    "##### 1.  Built-in `list` as array\n",
    "\n"
   ]
  },
  {
   "cell_type": "markdown",
   "metadata": {},
   "source": [
    "To use the built-in list as though it were a primitive array, we will\n",
    "constrain ourselves to just the following APIs on a given list `lst`:\n",
    "\n",
    "1.  `lst[i]` for getting and setting values at an *existing, positive*\n",
    "    index `i`\n",
    "2.  `len(lst)` to obtain the number of slots\n",
    "3.  `lst.append(None)` to grow the list by *one slot at a time*\n",
    "4.  `del lst[len(lst)-1]` to delete the last slot in a list\n",
    "\n"
   ]
  },
  {
   "cell_type": "markdown",
   "metadata": {},
   "source": [
    "##### 1.  The `ArrayList` data structure\n",
    "\n"
   ]
  },
  {
   "cell_type": "code",
   "execution_count": null,
   "metadata": {},
   "outputs": [],
   "source": [
    "class MyArrayList:\n",
    "    def __init__(self):\n",
    "    self.data = []\n",
    "\n",
    "    def append(self, value):\n",
    "    self.data.append(value)\n",
    "\n",
    "    def __getitem__(self, idx):\n",
    "    \"\"\"Implements `x = self[idx]`\"\"\"\n",
    "    assert(isinstance(idx, int))\n",
    "    self.data[idx]\n",
    "\n",
    "    def __setitem__(self, idx, value):\n",
    "    \"\"\"Implements `self[idx] = x`\"\"\"\n",
    "    assert(isinstance(idx, int))\n",
    "    self.data[idx] = value\n",
    "\n",
    "    def __delitem__(self, idx):\n",
    "    \"\"\"Implements `del self[idx]`\"\"\"\n",
    "    assert(isinstance(idx, int))\n",
    "\n",
    "    pass\n",
    "\n",
    "    def __len__(self):\n",
    "    \"\"\"Implements `len(self)`\"\"\"\n",
    "    len(self.data)\n",
    "\n",
    "    def __repr__(self):\n",
    "    \"\"\"Supports inspection\"\"\"\n",
    "    return \"[\" + \",\".join([str(x) for x in self.data]) + \"]\""
   ]
  },
  {
   "cell_type": "code",
   "execution_count": null,
   "metadata": {},
   "outputs": [],
   "source": [
    "x = MyArrayList()\n",
    "x.append(1)\n",
    "x.append(2)\n",
    "x"
   ]
  },
  {
   "cell_type": "markdown",
   "metadata": {},
   "source": [
    "    [1,2]\n",
    "\n"
   ]
  },
  {
   "cell_type": "code",
   "execution_count": null,
   "metadata": {},
   "outputs": [],
   "source": [
    "y = MyArrayList()\n",
    "y.append(1)\n",
    "y.append(3)\n",
    "y.append(4)\n",
    "y"
   ]
  },
  {
   "cell_type": "markdown",
   "metadata": {},
   "source": [
    "    [1,3,4]\n",
    "\n"
   ]
  },
  {
   "cell_type": "markdown",
   "metadata": {},
   "source": [
    "#### Linked Structures\n",
    "\n"
   ]
  },
  {
   "cell_type": "markdown",
   "metadata": {},
   "source": [
    "##### Agenda\n",
    "\n"
   ]
  },
  {
   "cell_type": "markdown",
   "metadata": {},
   "source": [
    "1.  Motives\n",
    "2.  Objectives\n",
    "3.  Mechanisms\n",
    "4.  Linked Data Structures\n",
    "\n"
   ]
  },
  {
   "cell_type": "markdown",
   "metadata": {},
   "source": [
    "##### 1.  Motives\n",
    "\n"
   ]
  },
  {
   "cell_type": "code",
   "execution_count": null,
   "metadata": {},
   "outputs": [],
   "source": [
    "%matplotlib inline\n",
    "import matplotlib.pyplot as plt\n",
    "import numpy as np\n",
    "from timeit import timeit\n",
    "\n",
    "def time_array_front_insert_delete(n):\n",
    "    return timeit('lst.insert(0, None) ; del lst[0]',\n",
    "                    'lst = list(range({}))'.format(n),\n",
    "                    number=1000)\n",
    "\n",
    "ns = np.linspace(100, 10000, 50)\n",
    "plt.plot(ns, [time_array_front_insert_delete(int(n)) for n in ns], 'ro')\n",
    "plt.show()"
   ]
  },
  {
   "cell_type": "code",
   "execution_count": null,
   "metadata": {},
   "outputs": [],
   "source": [
    "# consider:\n",
    "\n",
    "def concatenate(arr1, arr2):\n",
    "    \"\"\"Concatenates the contents of arr1 and arr2 as efficiently (time-wise)\n",
    "    as possible, so that the resulting structure can be used to index all\n",
    "    combined elements (arr1's followed by arr2's).\"\"\"\n",
    "\n",
    "    # option 1: O(?)\n",
    "    for x in arr2:\n",
    "    arr1.append(x)\n",
    "    return arr1\n",
    "\n",
    "    # option 2: O(?)\n",
    "    arr1.extend(arr2)\n",
    "    return arr1\n",
    "\n",
    "    # option 3: O(?)\n",
    "    return arr1 + arr2"
   ]
  },
  {
   "cell_type": "markdown",
   "metadata": {},
   "source": [
    "##### 1.  Objectives\n",
    "\n"
   ]
  },
  {
   "cell_type": "markdown",
   "metadata": {},
   "source": [
    "We would like a new data storage mechanism for constructing data\n",
    "structures that:\n",
    "\n",
    "-   does not require monolithic, contiguous memory allocation,\n",
    "-   allows individual elements to be flexibly and efficiently reorganized,\n",
    "-   and preserves the ability to locate (e.g., via position) and iterate\n",
    "    over elements\n",
    "\n"
   ]
  },
  {
   "cell_type": "markdown",
   "metadata": {},
   "source": [
    "##### 1.  Mechanisms\n",
    "\n"
   ]
  },
  {
   "cell_type": "markdown",
   "metadata": {},
   "source": [
    "###### 3.1. Two-Element Lists\n",
    "\n"
   ]
  },
  {
   "cell_type": "code",
   "execution_count": null,
   "metadata": {},
   "outputs": [],
   "source": [
    "# data items\n",
    "i1 = 'lions'\n",
    "i2 = 'tigers'\n",
    "i3 = 'bears'\n",
    "i4 = 'oh, my'"
   ]
  },
  {
   "cell_type": "code",
   "execution_count": null,
   "metadata": {},
   "outputs": [],
   "source": [
    "# creating individual \"links\"\n",
    "l1 = [,]\n",
    "l2 = [,]\n",
    "l3 = [,]\n",
    "l4 = [,]"
   ]
  },
  {
   "cell_type": "code",
   "execution_count": null,
   "metadata": {},
   "outputs": [],
   "source": [
    "# link-ing them together"
   ]
  },
  {
   "cell_type": "code",
   "execution_count": null,
   "metadata": {},
   "outputs": [],
   "source": [
    "# iteration"
   ]
  },
  {
   "cell_type": "code",
   "execution_count": null,
   "metadata": {},
   "outputs": [],
   "source": [
    "# prepending\n",
    "\n",
    "i0 = 'walruses'"
   ]
  },
  {
   "cell_type": "code",
   "execution_count": 124,
   "metadata": {},
   "outputs": [],
   "source": [
    "# insertion\n",
    "\n",
    "i2_5 = 'elephants'"
   ]
  },
  {
   "cell_type": "code",
   "execution_count": 125,
   "metadata": {},
   "outputs": [],
   "source": [
    "# deletion"
   ]
  },
  {
   "cell_type": "markdown",
   "metadata": {},
   "source": [
    "###### 3.2. \"Link\" objects\n",
    "\n"
   ]
  },
  {
   "cell_type": "code",
   "execution_count": 126,
   "metadata": {},
   "outputs": [
    {
     "ename": "IndentationError",
     "evalue": "expected an indented block (<ipython-input-126-70845cce355e>, line 3)",
     "output_type": "error",
     "traceback": [
      "\u001b[0;36m  File \u001b[0;32m\"<ipython-input-126-70845cce355e>\"\u001b[0;36m, line \u001b[0;32m3\u001b[0m\n\u001b[0;31m    self.val = val\u001b[0m\n\u001b[0m    ^\u001b[0m\n\u001b[0;31mIndentationError\u001b[0m\u001b[0;31m:\u001b[0m expected an indented block\n"
     ]
    }
   ],
   "source": [
    "class Link:\n",
    "    def __init__(self, val, next=None):\n",
    "    self.val = val\n",
    "    self.next = next"
   ]
  },
  {
   "cell_type": "code",
   "execution_count": null,
   "metadata": {},
   "outputs": [],
   "source": [
    "# manually constructing a list"
   ]
  },
  {
   "cell_type": "code",
   "execution_count": null,
   "metadata": {},
   "outputs": [],
   "source": [
    "# prepending\n",
    "\n",
    "def prepend(l, val):\n",
    "    pass"
   ]
  },
  {
   "cell_type": "code",
   "execution_count": null,
   "metadata": {},
   "outputs": [],
   "source": [
    "l = None\n",
    "for x in range(10):\n",
    "    l = prepend(l, x)"
   ]
  },
  {
   "cell_type": "code",
   "execution_count": null,
   "metadata": {},
   "outputs": [],
   "source": [
    "# iterator\n",
    "\n",
    "def link_iterator(l):\n",
    "    yield"
   ]
  },
  {
   "cell_type": "code",
   "execution_count": null,
   "metadata": {},
   "outputs": [],
   "source": [
    "for x in link_iterator(l):\n",
    "    print(x)"
   ]
  },
  {
   "cell_type": "code",
   "execution_count": null,
   "metadata": {},
   "outputs": [],
   "source": [
    "# iteration based on a recursive pattern\n",
    "\n",
    "def link_iterator_rec(l):\n",
    "    yield"
   ]
  },
  {
   "cell_type": "code",
   "execution_count": null,
   "metadata": {},
   "outputs": [],
   "source": [
    "for x in link_iterator_rec(l):\n",
    "    print(x)"
   ]
  },
  {
   "cell_type": "markdown",
   "metadata": {},
   "source": [
    "##### 1.  Linked Data Structures\n",
    "\n"
   ]
  },
  {
   "cell_type": "markdown",
   "metadata": {},
   "source": [
    "###### 4.1 Linked List\n",
    "\n"
   ]
  },
  {
   "cell_type": "code",
   "execution_count": null,
   "metadata": {},
   "outputs": [],
   "source": [
    "class LinkedList:\n",
    "    class Link:\n",
    "    def __init__(self, val, next=None):\n",
    "    self.val = val\n",
    "    self.next = next\n",
    "\n",
    "    def __init__(self):\n",
    "    self.head = None\n",
    "\n",
    "    def prepend(self, val):\n",
    "    pass\n",
    "\n",
    "    def __iter__(self):\n",
    "    pass\n",
    "\n",
    "    def __repr__(self):\n",
    "    return '[' + ', '.join(str(x) for x in self) + ']'"
   ]
  },
  {
   "cell_type": "code",
   "execution_count": null,
   "metadata": {},
   "outputs": [],
   "source": [
    "l = LinkedList()\n",
    "for x in range(10):\n",
    "    l.prepend(x)\n",
    "l"
   ]
  },
  {
   "cell_type": "markdown",
   "metadata": {},
   "source": [
    "###### 4.2 Binary Tree\n",
    "\n"
   ]
  },
  {
   "cell_type": "code",
   "execution_count": null,
   "metadata": {},
   "outputs": [],
   "source": [
    "class BinaryLink:\n",
    "    def __init__(self, val, left=None, right=None):\n",
    "    self.val = val\n",
    "    self.left = left\n",
    "    self.right = right"
   ]
  },
  {
   "cell_type": "code",
   "execution_count": null,
   "metadata": {},
   "outputs": [],
   "source": [
    "# manual construction of a \"tree\" representing the expression ((5+3)*(8-4))\n",
    "t = BinaryLink('*')\n",
    "t.left = BinaryLink('+')\n",
    "t.left.left  = BinaryLink('5')\n",
    "t.left.right = BinaryLink('3')\n",
    "t.right = BinaryLink('-')\n",
    "t.right.left  = BinaryLink('8')\n",
    "t.right.right = BinaryLink('4')"
   ]
  },
  {
   "cell_type": "code",
   "execution_count": null,
   "metadata": {},
   "outputs": [],
   "source": [
    "def print_expr_tree(t):\n",
    "    if t:\n",
    "    if not t.val.isdigit():\n",
    "    print('(', end='')\n",
    "    print_expr_tree(t.left)\n",
    "    print(t.val, end='')\n",
    "    print_expr_tree(t.right)\n",
    "    if not t.val.isdigit():\n",
    "    print(')', end='')"
   ]
  },
  {
   "cell_type": "code",
   "execution_count": null,
   "metadata": {},
   "outputs": [],
   "source": [
    "print_expr_tree(t)"
   ]
  },
  {
   "cell_type": "markdown",
   "metadata": {},
   "source": [
    "###### 4.3 N-ary Tree\n",
    "\n"
   ]
  },
  {
   "cell_type": "code",
   "execution_count": null,
   "metadata": {},
   "outputs": [],
   "source": [
    "class NaryLink:\n",
    "    def __init__(self, val, n=2):\n",
    "    self.val = val\n",
    "    self.children = [None] * n\n",
    "\n",
    "    def __getitem__(self, idx):\n",
    "    return self.children[idx]\n",
    "\n",
    "    def __setitem__(self, idx, val):\n",
    "    self.children[idx] = val\n",
    "\n",
    "    def __iter__(self):\n",
    "    for c in self.children:\n",
    "    yield c"
   ]
  },
  {
   "cell_type": "code",
   "execution_count": null,
   "metadata": {},
   "outputs": [],
   "source": [
    "root = NaryLink('Kingdoms', n=5)\n",
    "\n",
    "root[0] = NaryLink('Animalia', n=35)\n",
    "root[1] = NaryLink('Plantae', n=12)\n",
    "root[2] = NaryLink('Fungi', n=7)\n",
    "root[3] = NaryLink('Protista', n=5)\n",
    "root[4] = NaryLink('Monera', n=5)\n",
    "\n",
    "root[2][0] = NaryLink('Chytridiomycota')\n",
    "root[2][1] = NaryLink('Blastocladiomycota')\n",
    "root[2][2] = NaryLink('Glomeromycota')\n",
    "root[2][3] = NaryLink('Ascomycota')\n",
    "root[2][4] = NaryLink('Basidiomycota')\n",
    "root[2][5] = NaryLink('Microsporidia')\n",
    "root[2][6] = NaryLink('Neocallimastigomycota')\n",
    "\n",
    "def tree_iter(root):\n",
    "    if root:\n",
    "    yield root.val\n",
    "    for c in root:\n",
    "    yield from tree_iter(c)"
   ]
  },
  {
   "cell_type": "code",
   "execution_count": null,
   "metadata": {},
   "outputs": [],
   "source": [
    "for x in tree_iter(root):\n",
    "    print(x)"
   ]
  },
  {
   "cell_type": "markdown",
   "metadata": {},
   "source": [
    "#### Linked Lists\n",
    "\n"
   ]
  },
  {
   "cell_type": "markdown",
   "metadata": {},
   "source": [
    "##### Agenda\n",
    "\n"
   ]
  },
  {
   "cell_type": "markdown",
   "metadata": {},
   "source": [
    "1.  The `LinkedList` and `Node` classes\n",
    "2.  Implementing `append`\n",
    "3.  Implementing deletion\n",
    "4.  Bidirectional links\n",
    "5.  Run-time analysis\n",
    "6.  Closing remarks\n",
    "\n"
   ]
  },
  {
   "cell_type": "markdown",
   "metadata": {},
   "source": [
    "##### 1.  The `LinkedList` and `Node` classes\n",
    "\n"
   ]
  },
  {
   "cell_type": "code",
   "execution_count": 127,
   "metadata": {},
   "outputs": [
    {
     "ename": "IndentationError",
     "evalue": "expected an indented block (<ipython-input-127-6a3b005d5930>, line 3)",
     "output_type": "error",
     "traceback": [
      "\u001b[0;36m  File \u001b[0;32m\"<ipython-input-127-6a3b005d5930>\"\u001b[0;36m, line \u001b[0;32m3\u001b[0m\n\u001b[0;31m    def __init__(self, val, next=None):\u001b[0m\n\u001b[0m    ^\u001b[0m\n\u001b[0;31mIndentationError\u001b[0m\u001b[0;31m:\u001b[0m expected an indented block\n"
     ]
    }
   ],
   "source": [
    "class LinkedList:\n",
    "    class Node:\n",
    "    def __init__(self, val, next=None):\n",
    "    self.val = val\n",
    "    self.next = next\n",
    "\n",
    "    def __init__(self):\n",
    "    self.head = None\n",
    "    self.count = 0\n",
    "\n",
    "    def prepend(self, value):\n",
    "    pass\n",
    "\n",
    "    def __len__(self):\n",
    "    return self.count\n",
    "\n",
    "    def __iter__(self):\n",
    "    n = self.head\n",
    "    while n:\n",
    "    yield n.val\n",
    "    n = n.next\n",
    "\n",
    "    def __repr__(self):\n",
    "    return '[' + ', '.join(x for x in self) + ']'"
   ]
  },
  {
   "cell_type": "code",
   "execution_count": null,
   "metadata": {},
   "outputs": [],
   "source": [
    "lst = LinkedList()\n",
    "for i in range(10):\n",
    "    lst.prepend(i)\n",
    "lst"
   ]
  },
  {
   "cell_type": "markdown",
   "metadata": {},
   "source": [
    "##### 1.  Implementing `append`\n",
    "\n"
   ]
  },
  {
   "cell_type": "markdown",
   "metadata": {},
   "source": [
    "###### Option 1\n",
    "\n"
   ]
  },
  {
   "cell_type": "code",
   "execution_count": null,
   "metadata": {},
   "outputs": [],
   "source": [
    "class LinkedList (LinkedList): # note: using inheritance to extend prior definition\n",
    "    def append(self, value):\n",
    "    pass"
   ]
  },
  {
   "cell_type": "code",
   "execution_count": null,
   "metadata": {},
   "outputs": [],
   "source": [
    "lst = LinkedList()\n",
    "for i in range(10):\n",
    "    lst.append(i)\n",
    "lst"
   ]
  },
  {
   "cell_type": "markdown",
   "metadata": {},
   "source": [
    "###### Option 2\n",
    "\n"
   ]
  },
  {
   "cell_type": "code",
   "execution_count": null,
   "metadata": {},
   "outputs": [],
   "source": [
    "class LinkedList (LinkedList):\n",
    "    def __init__(self):\n",
    "    self.head = self.tail = None\n",
    "    self.count = 0\n",
    "\n",
    "    def prepend(self, value):\n",
    "    pass\n",
    "\n",
    "    def append(self, value):\n",
    "    pass"
   ]
  },
  {
   "cell_type": "code",
   "execution_count": null,
   "metadata": {},
   "outputs": [],
   "source": [
    "lst = LinkedList()\n",
    "for i in range(10):\n",
    "    lst.append(i)\n",
    "lst"
   ]
  },
  {
   "cell_type": "markdown",
   "metadata": {},
   "source": [
    "##### 1.  Implementing deletion\n",
    "\n"
   ]
  },
  {
   "cell_type": "markdown",
   "metadata": {},
   "source": [
    "###### Deleting the head\n",
    "\n"
   ]
  },
  {
   "cell_type": "code",
   "execution_count": null,
   "metadata": {},
   "outputs": [],
   "source": [
    "class LinkedList (LinkedList):\n",
    "    def del_head(self):\n",
    "    assert(len(self) > 0)\n",
    "    pass"
   ]
  },
  {
   "cell_type": "code",
   "execution_count": null,
   "metadata": {},
   "outputs": [],
   "source": [
    "lst = LinkedList()\n",
    "for i in range(10):\n",
    "    lst.append(i)\n",
    "lst.del_head()\n",
    "lst.del_head()\n",
    "lst"
   ]
  },
  {
   "cell_type": "markdown",
   "metadata": {},
   "source": [
    "###### Deleting the tail\n",
    "\n"
   ]
  },
  {
   "cell_type": "code",
   "execution_count": null,
   "metadata": {},
   "outputs": [],
   "source": [
    "class LinkedList (LinkedList):\n",
    "    def del_tail(self):\n",
    "    assert(len(self) > 0)\n",
    "    pass"
   ]
  },
  {
   "cell_type": "code",
   "execution_count": null,
   "metadata": {},
   "outputs": [],
   "source": [
    "lst = LinkedList()\n",
    "for i in range(10):\n",
    "    lst.append(i)\n",
    "lst.del_tail()\n",
    "lst.del_tail()\n",
    "lst"
   ]
  },
  {
   "cell_type": "markdown",
   "metadata": {},
   "source": [
    "##### 1.  Bidirectional links (Doubly-linked list) & Sentinel head\n",
    "\n"
   ]
  },
  {
   "cell_type": "code",
   "execution_count": null,
   "metadata": {},
   "outputs": [],
   "source": [
    "class LinkedList:\n",
    "    class Node:\n",
    "    def __init__(self, val, prior=None, next=None):\n",
    "    self.val = val\n",
    "    self.prior = prior\n",
    "    self.next  = next\n",
    "\n",
    "    def __init__(self):\n",
    "    self.count = 0\n",
    "\n",
    "    def prepend(self, value):\n",
    "    self.count += 1\n",
    "\n",
    "    def append(self, value):\n",
    "    self.count += 1\n",
    "\n",
    "    def __getitem__(self, idx):\n",
    "    pass\n",
    "\n",
    "    def __len__(self):\n",
    "    return self.count\n",
    "\n",
    "    def __iter__(self):\n",
    "    n = self.head.next\n",
    "    while n is not self.head:\n",
    "    yield n.val\n",
    "    n = n.next\n",
    "\n",
    "    def __repr__(self):\n",
    "    return '[' + ', '.join(str(x) for x in self) + ']'"
   ]
  },
  {
   "cell_type": "code",
   "execution_count": null,
   "metadata": {},
   "outputs": [],
   "source": [
    "lst = LinkedList()\n",
    "for i in range(10):\n",
    "    lst.prepend(i)\n",
    "for i in range(10):\n",
    "    lst.append(i)\n",
    "lst"
   ]
  },
  {
   "cell_type": "markdown",
   "metadata": {},
   "source": [
    "##### 1.  Incorporating a \"cursor\"\n",
    "\n"
   ]
  },
  {
   "cell_type": "code",
   "execution_count": null,
   "metadata": {},
   "outputs": [],
   "source": [
    "class LinkedList:\n",
    "    class Node:\n",
    "    def __init__(self, val, prior=None, next=None):\n",
    "    self.val = val\n",
    "    self.prior = prior\n",
    "    self.next  = next\n",
    "\n",
    "    def __init__(self):\n",
    "    self.head = self.cursor = LinkedList.Node(None)\n",
    "    self.head.prior = self.head.next = self.head\n",
    "    self.count = 0\n",
    "\n",
    "    def append(self, value):\n",
    "    n = LinkedList.Node(value, prior=self.head.prior, next=self.head)\n",
    "    n.prior.next = n.next.prior = n\n",
    "    self.count += 1\n",
    "\n",
    "    def cursor_set(self, idx):\n",
    "    pass\n",
    "\n",
    "    def cursor_insert(self, x):\n",
    "    pass\n",
    "\n",
    "    def cursor_delete(self):\n",
    "    pass\n",
    "\n",
    "    def __len__(self):\n",
    "    return self.count\n",
    "\n",
    "    def __iter__(self):\n",
    "    n = self.head.next\n",
    "    while n is not self.head:\n",
    "    yield n.val\n",
    "    n = n.next\n",
    "\n",
    "    def __repr__(self):\n",
    "    return '[' + ', '.join(str(x) for x in self) + ']'"
   ]
  },
  {
   "cell_type": "code",
   "execution_count": null,
   "metadata": {},
   "outputs": [],
   "source": [
    "lst = LinkedList()\n",
    "for i in range(10):\n",
    "    lst.append(i)\n",
    "lst"
   ]
  },
  {
   "cell_type": "code",
   "execution_count": null,
   "metadata": {},
   "outputs": [],
   "source": [
    "lst.cursor_set(4)\n",
    "for x in 'abcd':\n",
    "    lst.cursor_insert(x)\n",
    "lst"
   ]
  },
  {
   "cell_type": "code",
   "execution_count": null,
   "metadata": {},
   "outputs": [],
   "source": [
    "lst.cursor_set(8)\n",
    "for _ in range(4):\n",
    "    lst.cursor_delete()"
   ]
  },
  {
   "cell_type": "markdown",
   "metadata": {},
   "source": [
    "##### 1.  Run-time analysis\n",
    "\n"
   ]
  },
  {
   "cell_type": "markdown",
   "metadata": {},
   "source": [
    "Run-time complexities for circular, doubly-linked list of $N$ elements:\n",
    "\n",
    "-   indexing (position-based access) = $O(?)$\n",
    "-   search (unsorted) = $O(?)$\n",
    "-   search (sorted) = $O(?)$ &#x2014; binary search isn't possible!\n",
    "-   prepend = $O(?)$\n",
    "-   append = $O(?)$\n",
    "-   indexing = $O(?)$\n",
    "-   insertion at arbitrary position: indexing = $O(?)$ + insertion =\n",
    "    $O(?)$\n",
    "-   deletion of arbitrary element: indexing = $O(?)$ + deletion = $O(?)$\n",
    "\n"
   ]
  },
  {
   "cell_type": "markdown",
   "metadata": {},
   "source": [
    "#### Priority Queues\n",
    "\n"
   ]
  },
  {
   "cell_type": "markdown",
   "metadata": {},
   "source": [
    "##### Agenda\n",
    "\n"
   ]
  },
  {
   "cell_type": "markdown",
   "metadata": {},
   "source": [
    "1.  Motives\n",
    "2.  Naive implementation\n",
    "3.  Heaps\n",
    "    -   Mechanics\n",
    "    -   Implementation\n",
    "    -   Run-time Analysis\n",
    "\n",
    "4.  Heapsort\n",
    "\n"
   ]
  },
  {
   "cell_type": "markdown",
   "metadata": {},
   "source": [
    "##### 1.  Motives\n",
    "\n"
   ]
  },
  {
   "cell_type": "markdown",
   "metadata": {},
   "source": [
    "##### 1.  Naive implementation\n",
    "\n"
   ]
  },
  {
   "cell_type": "code",
   "execution_count": 128,
   "metadata": {},
   "outputs": [
    {
     "ename": "IndentationError",
     "evalue": "expected an indented block (<ipython-input-128-8251671cca1f>, line 3)",
     "output_type": "error",
     "traceback": [
      "\u001b[0;36m  File \u001b[0;32m\"<ipython-input-128-8251671cca1f>\"\u001b[0;36m, line \u001b[0;32m3\u001b[0m\n\u001b[0;31m    self.data = []\u001b[0m\n\u001b[0m    ^\u001b[0m\n\u001b[0;31mIndentationError\u001b[0m\u001b[0;31m:\u001b[0m expected an indented block\n"
     ]
    }
   ],
   "source": [
    "class PriorityQueue:\n",
    "    def __init__(self):\n",
    "    self.data = []\n",
    "\n",
    "    def add(self, x):\n",
    "    pass\n",
    "\n",
    "    def max(self):\n",
    "    pass\n",
    "\n",
    "    def pop_max(self):\n",
    "    pass\n",
    "\n",
    "    def __bool__(self):\n",
    "    return len(self.data) > 0\n",
    "\n",
    "    def __len__(self):\n",
    "    return len(self.data)\n",
    "\n",
    "    def __repr__(self):\n",
    "    return repr(self.data)"
   ]
  },
  {
   "cell_type": "code",
   "execution_count": null,
   "metadata": {},
   "outputs": [],
   "source": [
    "pq = PriorityQueue()"
   ]
  },
  {
   "cell_type": "code",
   "execution_count": null,
   "metadata": {},
   "outputs": [],
   "source": [
    "import random\n",
    "for _ in range(10):\n",
    "    pq.add(random.randrange(100))"
   ]
  },
  {
   "cell_type": "code",
   "execution_count": null,
   "metadata": {},
   "outputs": [],
   "source": [
    "pq"
   ]
  },
  {
   "cell_type": "code",
   "execution_count": null,
   "metadata": {},
   "outputs": [],
   "source": [
    "while pq:\n",
    "    print(pq.pop_max())"
   ]
  },
  {
   "cell_type": "markdown",
   "metadata": {},
   "source": [
    "##### 1.  Heaps\n",
    "\n"
   ]
  },
  {
   "cell_type": "markdown",
   "metadata": {},
   "source": [
    "###### Mechanics\n",
    "\n"
   ]
  },
  {
   "cell_type": "markdown",
   "metadata": {},
   "source": [
    "###### Implementation\n",
    "\n"
   ]
  },
  {
   "cell_type": "code",
   "execution_count": null,
   "metadata": {},
   "outputs": [],
   "source": [
    "class Heap:\n",
    "    def __init__(self):\n",
    "    self.data = []\n",
    "\n",
    "    def add(self, x):\n",
    "    pass\n",
    "\n",
    "    def max(self):\n",
    "    pass\n",
    "\n",
    "    def pop_max(self):\n",
    "    pass\n",
    "\n",
    "    def __bool__(self):\n",
    "    return len(self.data) > 0\n",
    "\n",
    "    def __len__(self):\n",
    "    return len(self.data)\n",
    "\n",
    "    def __repr__(self):\n",
    "    return repr(self.data)"
   ]
  },
  {
   "cell_type": "code",
   "execution_count": null,
   "metadata": {},
   "outputs": [],
   "source": [
    "h = Heap()"
   ]
  },
  {
   "cell_type": "code",
   "execution_count": null,
   "metadata": {},
   "outputs": [],
   "source": [
    "import random\n",
    "for _ in range(10):\n",
    "    h.add(random.randrange(100))"
   ]
  },
  {
   "cell_type": "code",
   "execution_count": null,
   "metadata": {},
   "outputs": [],
   "source": [
    "h"
   ]
  },
  {
   "cell_type": "code",
   "execution_count": null,
   "metadata": {},
   "outputs": [],
   "source": [
    "while h:\n",
    "    print(h.pop_max())"
   ]
  },
  {
   "cell_type": "markdown",
   "metadata": {},
   "source": [
    "###### Run-time Analysis\n",
    "\n"
   ]
  },
  {
   "cell_type": "markdown",
   "metadata": {},
   "source": [
    "##### 1.  Heapsort\n",
    "\n"
   ]
  },
  {
   "cell_type": "code",
   "execution_count": null,
   "metadata": {},
   "outputs": [],
   "source": [
    "def heapsort(iterable):\n",
    "    heap = Heap()\n",
    "    pass"
   ]
  },
  {
   "cell_type": "code",
   "execution_count": null,
   "metadata": {},
   "outputs": [],
   "source": [
    "import random\n",
    "\n",
    "def pairs(iterable):\n",
    "    it = iter(iterable)\n",
    "    a = next(it)\n",
    "    while True:\n",
    "    b = next(it)\n",
    "    yield a,b\n",
    "    a = b\n",
    "\n",
    "lst = heapsort(random.random() for _ in range(1000))\n",
    "all((a <= b) for a, b in pairs(lst))"
   ]
  },
  {
   "cell_type": "code",
   "execution_count": null,
   "metadata": {},
   "outputs": [],
   "source": [
    "import timeit\n",
    "def time_heapsort(n):\n",
    "    return timeit.timeit('heapsort(rlst)',\n",
    "                           'from __main__ import heapsort; '\n",
    "                           'import random; '\n",
    "                           'rlst = (random.random() for _ in range({}))'.format(n),\n",
    "                           number=1000)"
   ]
  },
  {
   "cell_type": "code",
   "execution_count": null,
   "metadata": {},
   "outputs": [],
   "source": [
    "%matplotlib inline\n",
    "import matplotlib.pyplot as plt\n",
    "import numpy as np\n",
    "\n",
    "ns = np.linspace(100, 10000, 50, dtype=np.int_)\n",
    "plt.plot(ns, [time_heapsort(n) for n in ns], 'r+')\n",
    "plt.show()"
   ]
  },
  {
   "cell_type": "code",
   "execution_count": null,
   "metadata": {},
   "outputs": [],
   "source": [
    "%matplotlib inline\n",
    "import matplotlib.pyplot as plt\n",
    "import numpy as np\n",
    "\n",
    "ns = np.linspace(100, 10000, 50, dtype=np.int_)\n",
    "plt.plot(ns, [time_heapsort(n) for n in ns], 'r+')\n",
    "plt.plot(ns, ns*np.log2(ns)*0.01/10000, 'b') # O(n log n) plot\n",
    "plt.show()"
   ]
  },
  {
   "cell_type": "markdown",
   "metadata": {},
   "source": [
    "#### Stacks and Queues\n",
    "\n"
   ]
  },
  {
   "cell_type": "markdown",
   "metadata": {},
   "source": [
    "##### Agenda\n",
    "\n"
   ]
  },
  {
   "cell_type": "markdown",
   "metadata": {},
   "source": [
    "1.  Stacks\n",
    "    -   &#x2026; for delimiter pairing\n",
    "    -   &#x2026; for postfix expression evaluation\n",
    "    -   &#x2026; for tracking execution and *backtracking*\n",
    "\n",
    "2.  Queues\n",
    "    -   &#x2026; for tracking execution and *backtracking*\n",
    "    -   &#x2026; for fair scheduling (aka \"round-robin\" scheduling)\n",
    "    -   &#x2026; for apportioning work\n",
    "\n",
    "3.  Run-time analysis\n",
    "\n"
   ]
  },
  {
   "cell_type": "markdown",
   "metadata": {},
   "source": [
    "##### Overview\n",
    "\n"
   ]
  },
  {
   "cell_type": "markdown",
   "metadata": {},
   "source": [
    "While the list data structure is incredibly useful, both implementations\n",
    "we explored (array-backed and linked) have operations that run in $O(N)$\n",
    "time, which make them non-ideal for use with large, growing collections\n",
    "of data.\n",
    "\n",
    "By further restricting the list API, however &#x2014; in particular, by\n",
    "*isolating points of access to either the front or end of the data set*\n",
    "&#x2014; we can create data structures whose operations are all $O(1)$, and\n",
    "remain very useful in their own right.\n",
    "\n"
   ]
  },
  {
   "cell_type": "markdown",
   "metadata": {},
   "source": [
    "##### 1.  Stacks\n",
    "\n"
   ]
  },
  {
   "cell_type": "markdown",
   "metadata": {},
   "source": [
    "Stacks are linear data structures which only permit access to one \"end\"\n",
    "of the data collection. We can only append (\"push\") items onto the tail\n",
    "end (a.k.a. the \"top\") of a stack, and only the most recently added item\n",
    "can be removed (\"popped\"). The last item to be pushed onto a stack is\n",
    "therefore the first one to be popped off, which is why we refer to\n",
    "stacks as last-in, first out (LIFO) structures.\n",
    "\n"
   ]
  },
  {
   "cell_type": "code",
   "execution_count": 129,
   "metadata": {},
   "outputs": [
    {
     "ename": "IndentationError",
     "evalue": "expected an indented block (<ipython-input-129-90431255e428>, line 5)",
     "output_type": "error",
     "traceback": [
      "\u001b[0;36m  File \u001b[0;32m\"<ipython-input-129-90431255e428>\"\u001b[0;36m, line \u001b[0;32m5\u001b[0m\n\u001b[0;31m    self.data = []\u001b[0m\n\u001b[0m    ^\u001b[0m\n\u001b[0;31mIndentationError\u001b[0m\u001b[0;31m:\u001b[0m expected an indented block\n"
     ]
    }
   ],
   "source": [
    "# array-backed implementation\n",
    "\n",
    "class Stack:\n",
    "    def __init__(self):\n",
    "    self.data = []\n",
    "\n",
    "    def push(self, val):\n",
    "    pass\n",
    "\n",
    "    def pop(self):\n",
    "    assert not self.empty()\n",
    "    pass\n",
    "\n",
    "    def peek(self):\n",
    "    assert not self.empty()\n",
    "    pass\n",
    "\n",
    "    def empty(self):\n",
    "    pass\n",
    "\n",
    "    def __bool__(self):\n",
    "    return not self.empty()"
   ]
  },
  {
   "cell_type": "code",
   "execution_count": null,
   "metadata": {},
   "outputs": [],
   "source": [
    "s = Stack()\n",
    "for x in range(10):\n",
    "    s.push(x)"
   ]
  },
  {
   "cell_type": "code",
   "execution_count": null,
   "metadata": {},
   "outputs": [],
   "source": [
    "while s:\n",
    "    print(s.pop())"
   ]
  },
  {
   "cell_type": "code",
   "execution_count": null,
   "metadata": {},
   "outputs": [],
   "source": [
    "# linked implementation\n",
    "\n",
    "class Stack:\n",
    "    class Node:\n",
    "    def __init__(self, val, next=None):\n",
    "    self.val = val\n",
    "    self.next  = next\n",
    "\n",
    "    def __init__(self):\n",
    "    self.top = None\n",
    "\n",
    "    def push(self, val):\n",
    "    pass\n",
    "\n",
    "    def pop(self):\n",
    "    assert not self.empty()\n",
    "    pass\n",
    "\n",
    "    def peek(self):\n",
    "    assert not self.empty()\n",
    "    pass\n",
    "\n",
    "    def empty(self):\n",
    "    pass\n",
    "\n",
    "    def __bool__(self):\n",
    "    return not self.empty()"
   ]
  },
  {
   "cell_type": "code",
   "execution_count": null,
   "metadata": {},
   "outputs": [],
   "source": [
    "s = Stack()\n",
    "for x in range(10):\n",
    "    s.push(x)"
   ]
  },
  {
   "cell_type": "code",
   "execution_count": null,
   "metadata": {},
   "outputs": [],
   "source": [
    "while s:\n",
    "    print(s.pop())"
   ]
  },
  {
   "cell_type": "markdown",
   "metadata": {},
   "source": [
    "###### &#x2026; for delimiter pairing\n",
    "\n"
   ]
  },
  {
   "cell_type": "markdown",
   "metadata": {},
   "source": [
    "Stacks are used by parsers to decide if delimited expressions are\n",
    "well-formed.\n",
    "\n",
    "e.g., `'(1 + 2 * (3 - (4 / 2) + 5) - (6 + 1))'`\n",
    "\n"
   ]
  },
  {
   "cell_type": "code",
   "execution_count": null,
   "metadata": {},
   "outputs": [],
   "source": [
    "def check_parens(expr):\n",
    "    s = Stack()\n",
    "    for c in expr:\n",
    "    pass\n",
    "    return False"
   ]
  },
  {
   "cell_type": "code",
   "execution_count": null,
   "metadata": {},
   "outputs": [],
   "source": [
    "check_parens('()')"
   ]
  },
  {
   "cell_type": "code",
   "execution_count": null,
   "metadata": {},
   "outputs": [],
   "source": [
    "check_parens('((()))')"
   ]
  },
  {
   "cell_type": "code",
   "execution_count": null,
   "metadata": {},
   "outputs": [],
   "source": [
    "check_parens('()(()()(()))')"
   ]
  },
  {
   "cell_type": "code",
   "execution_count": null,
   "metadata": {},
   "outputs": [],
   "source": [
    "check_parens('(')"
   ]
  },
  {
   "cell_type": "code",
   "execution_count": null,
   "metadata": {},
   "outputs": [],
   "source": [
    "check_parens('())')"
   ]
  },
  {
   "cell_type": "code",
   "execution_count": null,
   "metadata": {},
   "outputs": [],
   "source": [
    "check_parens('(1 + 2 * (3 - (4 / 2) + 5) - (6 + 1))')"
   ]
  },
  {
   "cell_type": "markdown",
   "metadata": {},
   "source": [
    "###### &#x2026; for postfix expression (aka \"reverse polish notation\")\n",
    "\n"
   ]
  },
  {
   "cell_type": "markdown",
   "metadata": {},
   "source": [
    "evaluation\n",
    "Stacks are used for the evaluation of postfix arithmetic expressions\n",
    "(which can be easily converted back and forth between the more common\n",
    "infix expressions).\n",
    "\n",
    "e.g., `'(1 + 2) * 5'` $\\rightarrow$ `'1 2 + 5 *'`\n",
    "\n"
   ]
  },
  {
   "cell_type": "code",
   "execution_count": null,
   "metadata": {},
   "outputs": [],
   "source": [
    "def eval_postfix(expr):\n",
    "    s = Stack()\n",
    "    toks = expr.split()\n",
    "    for t in toks:\n",
    "    pass\n",
    "    return 0"
   ]
  },
  {
   "cell_type": "code",
   "execution_count": null,
   "metadata": {},
   "outputs": [],
   "source": [
    "eval_postfix('1 2 + 5 *')"
   ]
  },
  {
   "cell_type": "code",
   "execution_count": null,
   "metadata": {},
   "outputs": [],
   "source": [
    "eval_postfix('1 2 5 * +')"
   ]
  },
  {
   "cell_type": "code",
   "execution_count": 130,
   "metadata": {},
   "outputs": [
    {
     "ename": "NameError",
     "evalue": "name 'eval_postfix' is not defined",
     "output_type": "error",
     "traceback": [
      "\u001b[0;31m---------------------------------------------------------------------------\u001b[0m",
      "\u001b[0;31mNameError\u001b[0m                                 Traceback (most recent call last)",
      "\u001b[0;32m<ipython-input-130-e001a32f8cee>\u001b[0m in \u001b[0;36m<module>\u001b[0;34m\u001b[0m\n\u001b[1;32m      1\u001b[0m \u001b[0;31m# ((1 + 2) * (3 + 2)) * 10\u001b[0m\u001b[0;34m\u001b[0m\u001b[0;34m\u001b[0m\u001b[0;34m\u001b[0m\u001b[0m\n\u001b[0;32m----> 2\u001b[0;31m \u001b[0meval_postfix\u001b[0m\u001b[0;34m(\u001b[0m\u001b[0;34m'1 2 + 3 2 + * 10 *'\u001b[0m\u001b[0;34m)\u001b[0m\u001b[0;34m\u001b[0m\u001b[0;34m\u001b[0m\u001b[0m\n\u001b[0m",
      "\u001b[0;31mNameError\u001b[0m: name 'eval_postfix' is not defined"
     ]
    }
   ],
   "source": [
    "# ((1 + 2) * (3 + 2)) * 10\n",
    "eval_postfix('1 2 + 3 2 + * 10 *')"
   ]
  },
  {
   "cell_type": "markdown",
   "metadata": {},
   "source": [
    "###### &#x2026; for tracking execution and backtracking\n",
    "\n"
   ]
  },
  {
   "cell_type": "code",
   "execution_count": null,
   "metadata": {},
   "outputs": [],
   "source": [
    "maze_str = \"\"\"######\n",
    "                I    #\n",
    "                # ## #\n",
    "                # ####\n",
    "                #    O\n",
    "                ######\"\"\"\n",
    "\n",
    "def parse_maze(maze_str):\n",
    "    '''Parses a string representing a maze into a 2D array.'''\n",
    "    grid = []\n",
    "    for line in maze_str.split('\\n'):\n",
    "    grid.append(['# IO'.index(c) for c in line.strip()])\n",
    "    return grid\n",
    "\n",
    "def print_maze(grid):\n",
    "    '''Takes a 2D array maze representation and pretty-prints it.\n",
    "         The contents of the 2D maze are in the range 0-5, which are interpreted as:\n",
    "\n",
    "    0: a wall\n",
    "    1: an unvisited (i.e., not previously traversed) path\n",
    "    2: the maze entrance\n",
    "    3: the maze exit\n",
    "    4: a discovered but unvisited path\n",
    "    5: a visited path\n",
    "    '''\n",
    "    for r in grid:\n",
    "    print(''.join('# IO!+'[c] for c in r))"
   ]
  },
  {
   "cell_type": "code",
   "execution_count": null,
   "metadata": {},
   "outputs": [],
   "source": [
    "parse_maze(maze_str)"
   ]
  },
  {
   "cell_type": "code",
   "execution_count": null,
   "metadata": {},
   "outputs": [],
   "source": [
    "print_maze(parse_maze(maze_str))"
   ]
  },
  {
   "cell_type": "code",
   "execution_count": null,
   "metadata": {},
   "outputs": [],
   "source": [
    "maze = parse_maze(maze_str)\n",
    "maze[1][0] = maze[1][1] = 5\n",
    "maze[1][2] = maze[2][1] = 4\n",
    "print_maze(maze)"
   ]
  },
  {
   "cell_type": "code",
   "execution_count": null,
   "metadata": {},
   "outputs": [],
   "source": [
    "class Move:\n",
    "    '''Represents a move in the maze between orthogonally adjacent locations\n",
    "        `frm` and `to`, which are both (row,col) tuples.'''\n",
    "    def __init__(self, frm, to):\n",
    "    self.frm = frm\n",
    "    self.to  = to\n",
    "\n",
    "    def __repr__(self):\n",
    "    return '({},{}) -> ({},{})'.format(self.frm[0], self.frm[1],\n",
    "                                             self.to[0],  self.to[1])\n",
    "\n",
    "def moves(maze, loc):\n",
    "    '''Returns all possible moves within a maze from the provide location.'''\n",
    "    moves = [Move(loc, (loc[0]+d[0], loc[1]+d[1]))\n",
    "    for d in ((-1, 0), (1, 0), (0, -1), (0, 1))\n",
    "    if loc[0]+d[0] in range(len(maze)) and\n",
    "                 loc[1]+d[1] in range(len(maze[0])) and\n",
    "                 maze[loc[0]+d[0]][loc[1]+d[1]] in (1, 2, 3)]\n",
    "    return moves"
   ]
  },
  {
   "cell_type": "code",
   "execution_count": null,
   "metadata": {},
   "outputs": [],
   "source": [
    "maze = parse_maze(maze_str)\n",
    "print_maze(maze)"
   ]
  },
  {
   "cell_type": "code",
   "execution_count": null,
   "metadata": {},
   "outputs": [],
   "source": [
    "moves(maze, (1, 0))"
   ]
  },
  {
   "cell_type": "code",
   "execution_count": null,
   "metadata": {},
   "outputs": [],
   "source": [
    "moves(maze, (1, 1))"
   ]
  },
  {
   "cell_type": "code",
   "execution_count": null,
   "metadata": {},
   "outputs": [],
   "source": [
    "maze[1][0] = 5\n",
    "moves(maze, (1, 1))"
   ]
  },
  {
   "cell_type": "code",
   "execution_count": null,
   "metadata": {},
   "outputs": [],
   "source": [
    "from time import sleep\n",
    "from Ipython.display import clear_output\n",
    "\n",
    "def mark(maze, loc):\n",
    "    '''Marks a loc in the maze as having been discovered'''\n",
    "    if maze[loc[0]][loc[1]] != 3:\n",
    "    maze[loc[0]][loc[1]] = 4\n",
    "\n",
    "def visit(maze, loc):\n",
    "    '''Marks a loc in the maze as having been visited'''\n",
    "    maze[loc[0]][loc[1]] = 5\n",
    "\n",
    "def display(maze):\n",
    "    '''Prints out the maze after clearing the cell -- useful for animation.'''\n",
    "    clear_output(True)\n",
    "    print_maze(maze)\n",
    "    sleep(0.5)"
   ]
  },
  {
   "cell_type": "code",
   "execution_count": null,
   "metadata": {},
   "outputs": [],
   "source": [
    "def solve_maze(maze, entry):\n",
    "    '''Searches for the exit in a maze starting from the given entry point.\n",
    "\n",
    "         The algorithm works as follows:\n",
    "\n",
    "         1. Visit the entry point and save all possible moves from that location.\n",
    "         2. Remove and consider one of the saved moves. If it is the exit, we are done,\n",
    "            otherwise visit the destination and save all possible moves from there.\n",
    "         3. If we run out of saved moves, we can't find an exit.\n",
    "\n",
    "         When we save a move, we also mark it as \"discovered\" in the maze.\n",
    "\n",
    "         The data structure used to save moves plays a critical role in how maze\n",
    "         exploration proceeds!\n",
    "    '''\n",
    "    for m in moves(maze, entry):\n",
    "    save_move(m)\n",
    "    visit(maze, entry)\n",
    "    while not out_of_moves():\n",
    "    move = next_move()\n",
    "    if maze[move.to[0]][move.to[1]] == 3:\n",
    "    break\n",
    "    display(maze)\n",
    "    visit(maze, move.to)\n",
    "    for m in moves(maze, move.to):\n",
    "    mark(maze, m.to)\n",
    "    save_move(m)\n",
    "    display(maze)"
   ]
  },
  {
   "cell_type": "code",
   "execution_count": null,
   "metadata": {},
   "outputs": [],
   "source": [
    "move_stack = Stack()\n",
    "\n",
    "def save_move(move):\n",
    "    pass\n",
    "\n",
    "def next_move():\n",
    "    pass\n",
    "\n",
    "def out_of_moves():\n",
    "    pass"
   ]
  },
  {
   "cell_type": "code",
   "execution_count": null,
   "metadata": {},
   "outputs": [],
   "source": [
    "maze_str = \"\"\"######\n",
    "                I    #\n",
    "                # ## #\n",
    "                # ####\n",
    "                #    O\n",
    "                ######\"\"\"\n",
    "solve_maze(parse_maze(maze_str), (1, 0))"
   ]
  },
  {
   "cell_type": "code",
   "execution_count": null,
   "metadata": {},
   "outputs": [],
   "source": [
    "maze_str = \"\"\"#################\n",
    "                I #       #     #\n",
    "                # ##### # # # # #\n",
    "                #     # # # # # #\n",
    "                # ### ### # # ###\n",
    "                #   #       #   O\n",
    "                #################\"\"\"\n",
    "\n",
    "solve_maze(parse_maze(maze_str), (1, 0))"
   ]
  },
  {
   "cell_type": "code",
   "execution_count": null,
   "metadata": {},
   "outputs": [],
   "source": [
    "maze_str = \"\"\"#################\n",
    "                I               #\n",
    "                # # # # # # # # #\n",
    "                # # # # # # # # #\n",
    "                # ###############\n",
    "                #               O\n",
    "                #################\"\"\"\n",
    "\n",
    "solve_maze(parse_maze(maze_str), (1, 0))"
   ]
  },
  {
   "cell_type": "markdown",
   "metadata": {},
   "source": [
    "Intuitively, because the stack is a last-in, first-out data structure,\n",
    "it keeps following moves down the most recently discovered path until it\n",
    "either reaches the exit or reaches a dead end. It then picks up from the\n",
    "previously discovered path. We call this type of exploration\n",
    "*depth-first traversal*.\n",
    "\n"
   ]
  },
  {
   "cell_type": "markdown",
   "metadata": {},
   "source": [
    "##### 1.  Queues\n",
    "\n"
   ]
  },
  {
   "cell_type": "markdown",
   "metadata": {},
   "source": [
    "Queues are linear data structures wherein we are only permitted to\n",
    "append (\"enqueue\") items onto the rear, and remove (\"dequeue\") items\n",
    "from the front. The oldest item still in a queue is therefore the next\n",
    "one to be dequeued, which is why we refer to a queue as a first-in,\n",
    "first-out (FIFO) structure. It is helpful to think of a queue as being\n",
    "the model for a line at a typical supermarket checkout aisle (first\n",
    "customer in, first customer to be checked out).\n",
    "\n"
   ]
  },
  {
   "cell_type": "code",
   "execution_count": null,
   "metadata": {},
   "outputs": [],
   "source": [
    "# array-backed implementation\n",
    "\n",
    "class Queue:\n",
    "    def __init__(self):\n",
    "    self.data = []\n",
    "\n",
    "    def enqueue(self, val):\n",
    "    pass\n",
    "\n",
    "    def dequeue(self):\n",
    "    assert not self.empty()\n",
    "    pass\n",
    "\n",
    "    def empty(self):\n",
    "    pass\n",
    "\n",
    "    def __bool__(self):\n",
    "    return not self.empty()"
   ]
  },
  {
   "cell_type": "code",
   "execution_count": null,
   "metadata": {},
   "outputs": [],
   "source": [
    "q = Queue()\n",
    "for x in range(10):\n",
    "    q.enqueue(x)"
   ]
  },
  {
   "cell_type": "code",
   "execution_count": null,
   "metadata": {},
   "outputs": [],
   "source": [
    "while q:\n",
    "    print(q.dequeue())"
   ]
  },
  {
   "cell_type": "code",
   "execution_count": null,
   "metadata": {},
   "outputs": [],
   "source": [
    "# circular array-backed implementation (partial)\n",
    "\n",
    "class Queue:\n",
    "    def __init__(self, size):\n",
    "    self.data = [None] * size\n",
    "    self.head = self.tail = -1\n",
    "\n",
    "    def enqueue(self, val):\n",
    "    pass\n",
    "\n",
    "    def dequeue(self):\n",
    "    pass"
   ]
  },
  {
   "cell_type": "code",
   "execution_count": 131,
   "metadata": {},
   "outputs": [
    {
     "ename": "NameError",
     "evalue": "name 'Queue' is not defined",
     "output_type": "error",
     "traceback": [
      "\u001b[0;31m---------------------------------------------------------------------------\u001b[0m",
      "\u001b[0;31mNameError\u001b[0m                                 Traceback (most recent call last)",
      "\u001b[0;32m<ipython-input-131-7cd73ae9be6f>\u001b[0m in \u001b[0;36m<module>\u001b[0;34m\u001b[0m\n\u001b[0;32m----> 1\u001b[0;31m \u001b[0mq\u001b[0m \u001b[0;34m=\u001b[0m \u001b[0mQueue\u001b[0m\u001b[0;34m(\u001b[0m\u001b[0;36m10\u001b[0m\u001b[0;34m)\u001b[0m\u001b[0;34m\u001b[0m\u001b[0;34m\u001b[0m\u001b[0m\n\u001b[0m\u001b[1;32m      2\u001b[0m \u001b[0;32mfor\u001b[0m \u001b[0mx\u001b[0m \u001b[0;32min\u001b[0m \u001b[0mrange\u001b[0m\u001b[0;34m(\u001b[0m\u001b[0;36m6\u001b[0m\u001b[0;34m)\u001b[0m\u001b[0;34m:\u001b[0m\u001b[0;34m\u001b[0m\u001b[0;34m\u001b[0m\u001b[0m\n\u001b[1;32m      3\u001b[0m     \u001b[0mq\u001b[0m\u001b[0;34m.\u001b[0m\u001b[0menqueue\u001b[0m\u001b[0;34m(\u001b[0m\u001b[0mx\u001b[0m\u001b[0;34m)\u001b[0m\u001b[0;34m\u001b[0m\u001b[0;34m\u001b[0m\u001b[0m\n",
      "\u001b[0;31mNameError\u001b[0m: name 'Queue' is not defined"
     ]
    }
   ],
   "source": [
    "q = Queue(10)\n",
    "for x in range(6):\n",
    "    q.enqueue(x)"
   ]
  },
  {
   "cell_type": "code",
   "execution_count": null,
   "metadata": {},
   "outputs": [],
   "source": [
    "q.data"
   ]
  },
  {
   "cell_type": "code",
   "execution_count": null,
   "metadata": {},
   "outputs": [],
   "source": [
    "for x in range(5):\n",
    "    print(q.dequeue())"
   ]
  },
  {
   "cell_type": "code",
   "execution_count": null,
   "metadata": {},
   "outputs": [],
   "source": [
    "q.data"
   ]
  },
  {
   "cell_type": "code",
   "execution_count": null,
   "metadata": {},
   "outputs": [],
   "source": [
    "for x in range(6, 12):\n",
    "    q.enqueue(x)"
   ]
  },
  {
   "cell_type": "code",
   "execution_count": null,
   "metadata": {},
   "outputs": [],
   "source": [
    "q.data"
   ]
  },
  {
   "cell_type": "code",
   "execution_count": null,
   "metadata": {},
   "outputs": [],
   "source": [
    "# linked implementation\n",
    "\n",
    "class Queue:\n",
    "    class Node:\n",
    "    def __init__(self, val, next=None):\n",
    "    self.val = val\n",
    "    self.next  = next\n",
    "\n",
    "    def __init__(self):\n",
    "    self.head = self.tail = None\n",
    "\n",
    "    def enqueue(self, val):\n",
    "    pass\n",
    "\n",
    "    def dequeue(self):\n",
    "    assert not self.empty()\n",
    "    pass\n",
    "\n",
    "    def empty(self):\n",
    "    pass\n",
    "\n",
    "    def __bool__(self):\n",
    "    return not self.empty()"
   ]
  },
  {
   "cell_type": "code",
   "execution_count": null,
   "metadata": {},
   "outputs": [],
   "source": [
    "q = Queue()\n",
    "for x in range(10):\n",
    "    q.enqueue(x)"
   ]
  },
  {
   "cell_type": "code",
   "execution_count": null,
   "metadata": {},
   "outputs": [],
   "source": [
    "while q:\n",
    "    print(q.dequeue())"
   ]
  },
  {
   "cell_type": "markdown",
   "metadata": {},
   "source": [
    "###### &#x2026; for tracking execution and backtracking\n",
    "\n"
   ]
  },
  {
   "cell_type": "code",
   "execution_count": null,
   "metadata": {},
   "outputs": [],
   "source": [
    "move_queue = Queue()\n",
    "\n",
    "def save_move(move):\n",
    "    pass\n",
    "\n",
    "def next_move():\n",
    "    pass\n",
    "\n",
    "def out_of_moves():\n",
    "    pass"
   ]
  },
  {
   "cell_type": "code",
   "execution_count": null,
   "metadata": {},
   "outputs": [],
   "source": [
    "maze_str = \"\"\"######\n",
    "                I    #\n",
    "                # ## #\n",
    "                # ####\n",
    "                #    O\n",
    "                ######\"\"\"\n",
    "\n",
    "solve_maze(parse_maze(maze_str), (1, 0))"
   ]
  },
  {
   "cell_type": "code",
   "execution_count": null,
   "metadata": {},
   "outputs": [],
   "source": [
    "maze_str = \"\"\"#################\n",
    "                I #       #     #\n",
    "                # ##### # # # # #\n",
    "                #     # # # # # #\n",
    "                # ### ### # # ###\n",
    "                #   #       #   O\n",
    "                #################\"\"\"\n",
    "\n",
    "solve_maze(parse_maze(maze_str), (1, 0))"
   ]
  },
  {
   "cell_type": "code",
   "execution_count": null,
   "metadata": {},
   "outputs": [],
   "source": [
    "maze_str = \"\"\"#################\n",
    "                I               #\n",
    "                # # # # # # # # #\n",
    "                # # # # # # # # #\n",
    "                # ###############\n",
    "                #               O\n",
    "                #################\"\"\"\n",
    "\n",
    "solve_maze(parse_maze(maze_str), (1, 0))"
   ]
  },
  {
   "cell_type": "markdown",
   "metadata": {},
   "source": [
    "Intuitively, because the queue is a first-in, first-out &#x2013; i.e., *fair*\n",
    "&#x2013; data structure, it keeps rotating through all the paths which haven't\n",
    "yet dead-ended, making just one move further down each time. We call\n",
    "this type of exploration *breadth-first traversal*.\n",
    "\n",
    "Are there types of mazes which might be more suitably tackled using one\n",
    "approach over the other (i.e., depth-first vs. breadth-first)?\n",
    "\n"
   ]
  },
  {
   "cell_type": "markdown",
   "metadata": {},
   "source": [
    "###### &#x2026; for fair scheduling (aka \"round-robin\" scheduling)\n",
    "\n"
   ]
  },
  {
   "cell_type": "markdown",
   "metadata": {},
   "source": [
    "Queues are often used to either carry out or simulate the fair\n",
    "allocation of resources. Here we implement a \"round-robin\" scheduler for\n",
    "permitting different tasks to run for small, fixed periods of time until\n",
    "they complete:\n",
    "\n"
   ]
  },
  {
   "cell_type": "code",
   "execution_count": null,
   "metadata": {},
   "outputs": [],
   "source": [
    "from random import randint\n",
    "from time import sleep\n",
    "\n",
    "task_queue = Queue()\n",
    "for i in range(3):\n",
    "    task_queue.enqueue(('Job {}'.format(i), randint(3, 6)))"
   ]
  },
  {
   "cell_type": "code",
   "execution_count": null,
   "metadata": {},
   "outputs": [],
   "source": [
    "n = task_queue.head\n",
    "while n:\n",
    "    print(n.val)\n",
    "    n = n.next"
   ]
  },
  {
   "cell_type": "code",
   "execution_count": null,
   "metadata": {},
   "outputs": [],
   "source": [
    "while not task_queue.empty():\n",
    "    job, time_left = task_queue.dequeue()\n",
    "    print('Running', job)\n",
    "    sleep(1)\n",
    "    time_left -= 1\n",
    "    if time_left > 0:\n",
    "    print('Re-queueuing', job, 'with remaining time =', time_left)\n",
    "    task_queue.enqueue((job, time_left))\n",
    "    else:\n",
    "    print('*', job, 'done')"
   ]
  },
  {
   "cell_type": "markdown",
   "metadata": {},
   "source": [
    "###### &#x2026; for doling out work\n",
    "\n"
   ]
  },
  {
   "cell_type": "markdown",
   "metadata": {},
   "source": [
    "Queues are also frequently used as a sort of conveyer belt for multiple\n",
    "worker functions to draw from. Here we implement a \"work queue\" pattern\n",
    "used by multiple threads of execution:\n",
    "\n"
   ]
  },
  {
   "cell_type": "code",
   "execution_count": null,
   "metadata": {},
   "outputs": [],
   "source": [
    "from threading import Thread, Lock\n",
    "from time import sleep\n",
    "import random\n",
    "\n",
    "lock = Lock()\n",
    "def worker_fn(cid, q):\n",
    "    while True:\n",
    "        try:\n",
    "            with lock:\n",
    "                work = q.dequeue()\n",
    "        except: # queue is empty\n",
    "            sleep(1)\n",
    "            continue\n",
    "        if work == 'Stop':\n",
    "            print('Consumer', cid, 'stopping.')\n",
    "            break\n",
    "        else:\n",
    "            print('Consumer', cid, 'processing', work)\n",
    "            sleep(random.random())\n",
    "\n",
    "work_queue = Queue()\n",
    "for i in range(5):\n",
    "    Thread(target=worker_fn, args=(i, work_queue)).start()"
   ]
  },
  {
   "cell_type": "code",
   "execution_count": null,
   "metadata": {},
   "outputs": [],
   "source": [
    "import threading\n",
    "threading.active_count()"
   ]
  },
  {
   "cell_type": "code",
   "execution_count": null,
   "metadata": {},
   "outputs": [],
   "source": [
    "for i in range(10):\n",
    "    with lock:\n",
    "    work_queue.enqueue(i)"
   ]
  },
  {
   "cell_type": "code",
   "execution_count": 132,
   "metadata": {},
   "outputs": [
    {
     "ename": "NameError",
     "evalue": "name 'lock' is not defined",
     "output_type": "error",
     "traceback": [
      "\u001b[0;31m---------------------------------------------------------------------------\u001b[0m",
      "\u001b[0;31mNameError\u001b[0m                                 Traceback (most recent call last)",
      "\u001b[0;32m<ipython-input-132-1fa92ea6f3a0>\u001b[0m in \u001b[0;36m<module>\u001b[0;34m\u001b[0m\n\u001b[1;32m      1\u001b[0m \u001b[0;32mfor\u001b[0m \u001b[0mi\u001b[0m \u001b[0;32min\u001b[0m \u001b[0mrange\u001b[0m\u001b[0;34m(\u001b[0m\u001b[0;36m5\u001b[0m\u001b[0;34m)\u001b[0m\u001b[0;34m:\u001b[0m\u001b[0;34m\u001b[0m\u001b[0;34m\u001b[0m\u001b[0m\n\u001b[0;32m----> 2\u001b[0;31m     \u001b[0;32mwith\u001b[0m \u001b[0mlock\u001b[0m\u001b[0;34m:\u001b[0m\u001b[0;34m\u001b[0m\u001b[0;34m\u001b[0m\u001b[0m\n\u001b[0m\u001b[1;32m      3\u001b[0m         \u001b[0mwork_queue\u001b[0m\u001b[0;34m.\u001b[0m\u001b[0menqueue\u001b[0m\u001b[0;34m(\u001b[0m\u001b[0;34m'Stop'\u001b[0m\u001b[0;34m)\u001b[0m\u001b[0;34m\u001b[0m\u001b[0;34m\u001b[0m\u001b[0m\n",
      "\u001b[0;31mNameError\u001b[0m: name 'lock' is not defined"
     ]
    }
   ],
   "source": [
    "for i in range(5):\n",
    "    with lock:\n",
    "        work_queue.enqueue('Stop')"
   ]
  },
  {
   "cell_type": "markdown",
   "metadata": {},
   "source": [
    "##### 1.  Run-time analysis\n",
    "\n"
   ]
  },
  {
   "cell_type": "markdown",
   "metadata": {},
   "source": [
    "Stack & Queue implementations:\n",
    "\n",
    "-   **Insertion** (push and enqueue) = $O(1)$\n",
    "-   **Deletion** (pop and dequeue) = $O(1)$\n",
    "\n"
   ]
  },
  {
   "cell_type": "markdown",
   "metadata": {},
   "source": [
    "### On Recursion\n",
    "\n"
   ]
  },
  {
   "cell_type": "markdown",
   "metadata": {},
   "source": [
    "#### Agenda\n",
    "\n"
   ]
  },
  {
   "cell_type": "markdown",
   "metadata": {},
   "source": [
    "1.  Recursion\n",
    "    \n",
    "    -   stopping recursion: simplification & base cases\n",
    "    \n",
    "    2.  Recursive \"shapes\":\n",
    "        -   Linear (single) recursion:\n",
    "        \n",
    "        -   Factorial\n",
    "        -   Addition\n",
    "        -   Binary search\n",
    "        \n",
    "        -   Tree (multiple) recursion: *divide and conquer*\n",
    "        \n",
    "        -   Fibonacci numbers\n",
    "        -   Tower of Hanoi\n",
    "        -   Merge sort\n",
    "        -   Making change\n",
    "    \n",
    "    3.  The Call Stack and Stack Frames\n",
    "        -   simulating recursion\n",
    "        -   debugging with `pdb` and `%debug`\n",
    "\n"
   ]
  },
  {
   "cell_type": "markdown",
   "metadata": {},
   "source": [
    "#### 1.  Recursion\n",
    "\n"
   ]
  },
  {
   "cell_type": "markdown",
   "metadata": {},
   "source": [
    "Recursive functions, directly or indirectly, call themselves.\n",
    "\n",
    "Recursive solutions are applicable when a problem can be broken down\n",
    "into more easily solved sub-problems that resemble the original, and\n",
    "whose solutions can then be combined.\n",
    "\n",
    "E.g., computing the combined price of a bunch of nested shopping bags of\n",
    "items:\n",
    "\n"
   ]
  },
  {
   "cell_type": "code",
   "execution_count": null,
   "metadata": {},
   "outputs": [],
   "source": [
    "class Bag:\n",
    "    def __init__(self, price, *contents):\n",
    "    self.price = price\n",
    "    self.contents = contents"
   ]
  },
  {
   "cell_type": "code",
   "execution_count": null,
   "metadata": {},
   "outputs": [],
   "source": [
    "bag1 = Bag(10)"
   ]
  },
  {
   "cell_type": "code",
   "execution_count": null,
   "metadata": {},
   "outputs": [],
   "source": [
    "bag2 = Bag(5, Bag(3))"
   ]
  },
  {
   "cell_type": "code",
   "execution_count": null,
   "metadata": {},
   "outputs": [],
   "source": [
    "bag3 = Bag(5, Bag(4, Bag(3)), Bag(2))"
   ]
  },
  {
   "cell_type": "code",
   "execution_count": null,
   "metadata": {},
   "outputs": [],
   "source": [
    "bag4 = Bag(0, Bag(5), Bag(10), Bag(3, Bag(2), Bag(100)), Bag(9, Bag(2, Bag(25))))"
   ]
  },
  {
   "cell_type": "code",
   "execution_count": null,
   "metadata": {},
   "outputs": [],
   "source": [
    "def price(bag):\n",
    "    pass"
   ]
  },
  {
   "cell_type": "code",
   "execution_count": null,
   "metadata": {},
   "outputs": [],
   "source": [
    "price(bag1)"
   ]
  },
  {
   "cell_type": "markdown",
   "metadata": {},
   "source": [
    "##### Stopping recursion: simplification & base case(s)\n",
    "\n"
   ]
  },
  {
   "cell_type": "code",
   "execution_count": null,
   "metadata": {},
   "outputs": [],
   "source": [
    "import sys\n",
    "sys.setrecursionlimit(200)"
   ]
  },
  {
   "cell_type": "code",
   "execution_count": null,
   "metadata": {},
   "outputs": [],
   "source": [
    "def silly_rec(n):\n",
    "    print(n)\n",
    "    pass"
   ]
  },
  {
   "cell_type": "code",
   "execution_count": null,
   "metadata": {},
   "outputs": [],
   "source": [
    "silly_rec(1)"
   ]
  },
  {
   "cell_type": "markdown",
   "metadata": {},
   "source": [
    "#### 1.  Recursive \"shapes\"\n",
    "\n"
   ]
  },
  {
   "cell_type": "markdown",
   "metadata": {},
   "source": [
    "##### Linear recursion\n",
    "\n"
   ]
  },
  {
   "cell_type": "markdown",
   "metadata": {},
   "source": [
    "###### Example: Factorial\n",
    "\n"
   ]
  },
  {
   "cell_type": "markdown",
   "metadata": {},
   "source": [
    "$n! = \\begin{cases}  1 & \\text{if}\\ n=0 \\\\  n \\cdot (n-1)! & \\text{if}\\ n>0  \\end{cases}$\n",
    "\n",
    "i.e., $n! = n \\cdot (n-1) \\cdot (n-2) \\cdots 3 \\cdot 2 \\cdot 1$\n",
    "\n"
   ]
  },
  {
   "cell_type": "code",
   "execution_count": null,
   "metadata": {},
   "outputs": [],
   "source": [
    "def rec_factorial(n):\n",
    "    print('n = ', n)\n",
    "    pass\n",
    "\n",
    "rec_factorial(10)"
   ]
  },
  {
   "cell_type": "markdown",
   "metadata": {},
   "source": [
    "###### Example: Addition of two positive numbers $m$, $n$\n",
    "\n"
   ]
  },
  {
   "cell_type": "markdown",
   "metadata": {},
   "source": [
    "$m + n = \\begin{cases}  m & \\text{if}\\ n=0 \\\\  (m + 1) + (n - 1) & \\text{if}\\ n > 0  \\end{cases}$\n",
    "\n"
   ]
  },
  {
   "cell_type": "code",
   "execution_count": null,
   "metadata": {},
   "outputs": [],
   "source": [
    "def add(m, n):\n",
    "    print('m, n = ', (m, n))\n",
    "    pass"
   ]
  },
  {
   "cell_type": "code",
   "execution_count": null,
   "metadata": {},
   "outputs": [],
   "source": [
    "add(5, 0)"
   ]
  },
  {
   "cell_type": "code",
   "execution_count": 133,
   "metadata": {},
   "outputs": [
    {
     "ename": "NameError",
     "evalue": "name 'add' is not defined",
     "output_type": "error",
     "traceback": [
      "\u001b[0;31m---------------------------------------------------------------------------\u001b[0m",
      "\u001b[0;31mNameError\u001b[0m                                 Traceback (most recent call last)",
      "\u001b[0;32m<ipython-input-133-7705af4ee895>\u001b[0m in \u001b[0;36m<module>\u001b[0;34m\u001b[0m\n\u001b[0;32m----> 1\u001b[0;31m \u001b[0madd\u001b[0m\u001b[0;34m(\u001b[0m\u001b[0;36m5\u001b[0m\u001b[0;34m,\u001b[0m \u001b[0;36m1\u001b[0m\u001b[0;34m)\u001b[0m\u001b[0;34m\u001b[0m\u001b[0;34m\u001b[0m\u001b[0m\n\u001b[0m",
      "\u001b[0;31mNameError\u001b[0m: name 'add' is not defined"
     ]
    }
   ],
   "source": [
    "add(5, 1)"
   ]
  },
  {
   "cell_type": "code",
   "execution_count": null,
   "metadata": {},
   "outputs": [],
   "source": [
    "add(5, 5)"
   ]
  },
  {
   "cell_type": "markdown",
   "metadata": {},
   "source": [
    "###### Example: Binary search\n",
    "\n"
   ]
  },
  {
   "cell_type": "code",
   "execution_count": null,
   "metadata": {},
   "outputs": [],
   "source": [
    "def bin_search(x, lst):\n",
    "    pass"
   ]
  },
  {
   "cell_type": "code",
   "execution_count": null,
   "metadata": {},
   "outputs": [],
   "source": [
    "bin_search(20, list(range(100)))"
   ]
  },
  {
   "cell_type": "code",
   "execution_count": null,
   "metadata": {},
   "outputs": [],
   "source": [
    "bin_search(-1, list(range(100)))"
   ]
  },
  {
   "cell_type": "code",
   "execution_count": null,
   "metadata": {},
   "outputs": [],
   "source": [
    "bin_search(50.5, list(range(100)))"
   ]
  },
  {
   "cell_type": "markdown",
   "metadata": {},
   "source": [
    "##### Tree recursion\n",
    "\n"
   ]
  },
  {
   "cell_type": "markdown",
   "metadata": {},
   "source": [
    "###### Example: Fibonacci numbers\n",
    "\n"
   ]
  },
  {
   "cell_type": "markdown",
   "metadata": {},
   "source": [
    "$fib(n) = \\begin{cases}  0 & \\text{if}\\ n=0 \\\\  1 & \\text{if}\\ n=1 \\\\  fib(n-1) + fib(n-2) & \\text{otherwise}  \\end{cases}$\n",
    "\n",
    "i.e., 0, 1, 1, 2, 3, 5, 8, 13, 21, &#x2026;\n",
    "\n"
   ]
  },
  {
   "cell_type": "code",
   "execution_count": null,
   "metadata": {},
   "outputs": [],
   "source": [
    "def rec_fib(n):\n",
    "    print('n = ', n)\n",
    "    pass\n",
    "\n",
    "rec_fib(5)"
   ]
  },
  {
   "cell_type": "markdown",
   "metadata": {},
   "source": [
    "###### Example: Tower of Hanoi\n",
    "\n"
   ]
  },
  {
   "cell_type": "markdown",
   "metadata": {},
   "source": [
    "Setup: three rods, with one or more discs of different sizes all stacked\n",
    " on one rod, smallest (top) to largest (bottom). E.g.,\n",
    "\n",
    "           ||          ||          ||\n",
    "           ==          ||          ||\n",
    "        ====         ||          ||\n",
    "         ======        ||          ||\n",
    "    ------------------------------------\n",
    "\n",
    "Goal: move all the discs, one by one, to another rod, with the rules\n",
    "being that (1) only smaller discs can be stacked on larger ones and (2)\n",
    "only the top disc in a stack can be moved to another rod.\n",
    "\n",
    "For three discs, as shown above, we would carry out the following\n",
    "sequence to move the stack to the rightmost rod. The rods are\n",
    "abbreviated L (left), M (middle), R (right):\n",
    "\n",
    "1.  Move the small disc (0) from L to R\n",
    "2.  Move the medium disc (1) from L to M\n",
    "3.  Move 0 from R to M (R is empty)\n",
    "4.  Move the large disc (2) from L to R\n",
    "5.  Move 0 from M to L\n",
    "6.  Move 1 from M to R\n",
    "7.  Move 0 from L to R (done)\n",
    "\n",
    "Can you come up with the sequence needed to move a stack of 4 discs from\n",
    "one rod to another? 5 discs? An arbitrary number of discs?\n",
    "\n"
   ]
  },
  {
   "cell_type": "code",
   "execution_count": null,
   "metadata": {},
   "outputs": [],
   "source": [
    "height = 3\n",
    "towers = [[] for _ in range(3)]\n",
    "towers[0] = list(range(height, 0, -1))\n",
    "\n",
    "def move(frm, to):\n",
    "    towers[to].append(towers[frm].pop(-1))\n",
    "    display()\n",
    "\n",
    "def hanoi(frm, to, using, levels):\n",
    "    pass"
   ]
  },
  {
   "cell_type": "code",
   "execution_count": null,
   "metadata": {},
   "outputs": [],
   "source": [
    "towers"
   ]
  },
  {
   "cell_type": "code",
   "execution_count": null,
   "metadata": {},
   "outputs": [],
   "source": [
    "from time import sleep\n",
    "from Ipython.display import clear_output\n",
    "\n",
    "def display():\n",
    "    clear_output(True)\n",
    "    print('{:^12}'.format('||') * 3)\n",
    "    for level in range(height, 0, -1):\n",
    "    for t in towers:\n",
    "    try:\n",
    "    print('{:^12}'.format('==' * t[level-1]), end='')\n",
    "    except IndexError:\n",
    "    print('{:^12}'.format('||'), end='')\n",
    "    print()\n",
    "    print('-' * 36)\n",
    "    sleep(1)"
   ]
  },
  {
   "cell_type": "code",
   "execution_count": null,
   "metadata": {},
   "outputs": [],
   "source": [
    "display()"
   ]
  },
  {
   "cell_type": "code",
   "execution_count": null,
   "metadata": {},
   "outputs": [],
   "source": [
    "hanoi(0, 2, 1, 3)"
   ]
  },
  {
   "cell_type": "markdown",
   "metadata": {},
   "source": [
    "###### Example: Mergesort\n",
    "\n"
   ]
  },
  {
   "cell_type": "code",
   "execution_count": null,
   "metadata": {},
   "outputs": [],
   "source": [
    "def merge(l1, l2): # O(N), where N is the number of elements in the two lists\n",
    "    merged = []\n",
    "    i1 = i2 = 0\n",
    "    while i1 < len(l1) or i2 < len(l2):\n",
    "    if i2 == len(l2) or (i1 < len(l1)\n",
    "                               and l1[i1] < l2[i2]):\n",
    "    merged.append(l1[i1])\n",
    "    i1 += 1\n",
    "    else:\n",
    "    merged.append(l2[i2])\n",
    "    i2 += 1\n",
    "    return merged"
   ]
  },
  {
   "cell_type": "code",
   "execution_count": null,
   "metadata": {},
   "outputs": [],
   "source": [
    "l1 = [1, 5, 9]\n",
    "l2 = [2, 6, 8, 11]\n",
    "merge(l1, l2)"
   ]
  },
  {
   "cell_type": "code",
   "execution_count": null,
   "metadata": {},
   "outputs": [],
   "source": [
    "def mergesort(lst):\n",
    "    pass"
   ]
  },
  {
   "cell_type": "code",
   "execution_count": null,
   "metadata": {},
   "outputs": [],
   "source": [
    "import random\n",
    "lst = list(range(10))\n",
    "random.shuffle(lst)"
   ]
  },
  {
   "cell_type": "code",
   "execution_count": null,
   "metadata": {},
   "outputs": [],
   "source": [
    "lst"
   ]
  },
  {
   "cell_type": "code",
   "execution_count": null,
   "metadata": {},
   "outputs": [],
   "source": [
    "mergesort(lst)"
   ]
  },
  {
   "cell_type": "code",
   "execution_count": null,
   "metadata": {},
   "outputs": [],
   "source": [
    "def insertion_sort(lst):\n",
    "    for i in range(1, len(lst)):\n",
    "    for j in range(i, 0, -1):\n",
    "    if lst[j-1] > lst[j]:\n",
    "    lst[j-1], lst[j] = lst[j], lst[j-1] # swap\n",
    "    else:\n",
    "    break"
   ]
  },
  {
   "cell_type": "code",
   "execution_count": 134,
   "metadata": {},
   "outputs": [
    {
     "ename": "IndentationError",
     "evalue": "expected an indented block (<ipython-input-134-3b94eb764e40>, line 3)",
     "output_type": "error",
     "traceback": [
      "\u001b[0;36m  File \u001b[0;32m\"<ipython-input-134-3b94eb764e40>\"\u001b[0;36m, line \u001b[0;32m3\u001b[0m\n\u001b[0;31m    self.data = []\u001b[0m\n\u001b[0m    ^\u001b[0m\n\u001b[0;31mIndentationError\u001b[0m\u001b[0;31m:\u001b[0m expected an indented block\n"
     ]
    }
   ],
   "source": [
    "class Heap:\n",
    "    def __init__(self):\n",
    "    self.data = []\n",
    "\n",
    "    @staticmethod\n",
    "    def _parent(idx):\n",
    "    return (idx-1)//2\n",
    "\n",
    "    @staticmethod\n",
    "    def _left(idx):\n",
    "    return idx*2+1\n",
    "\n",
    "    @staticmethod\n",
    "    def _right(idx):\n",
    "    return idx*2+2\n",
    "\n",
    "    def _heapify(self, idx=0):\n",
    "    while True:\n",
    "    l = Heap._left(idx)\n",
    "    r = Heap._right(idx)\n",
    "    maxidx = idx\n",
    "    if l < len(self) and self.data[l] > self.data[idx]:\n",
    "    maxidx = l\n",
    "    if r < len(self) and self.data[r] > self.data[maxidx]:\n",
    "    maxidx = r\n",
    "    if maxidx != idx:\n",
    "    self.data[idx], self.data[maxidx] = self.data[maxidx], self.data[idx]\n",
    "    idx = maxidx\n",
    "    else:\n",
    "    break\n",
    "\n",
    "    def add(self, x):\n",
    "    self.data.append(x)\n",
    "    i = len(self.data) - 1\n",
    "    p = Heap._parent(i)\n",
    "    while i > 0 and self.data[p] < self.data[i]:\n",
    "    self.data[p], self.data[i] = self.data[i], self.data[p]\n",
    "    i = p\n",
    "    p = Heap._parent(i)\n",
    "\n",
    "    def max(self):\n",
    "    return self.data[0]\n",
    "\n",
    "    def pop_max(self):\n",
    "    ret = self.data[0]\n",
    "    self.data[0] = self.data[len(self.data)-1]\n",
    "    del self.data[len(self.data)-1]\n",
    "    self._heapify()\n",
    "    return ret\n",
    "\n",
    "    def __bool__(self):\n",
    "    return len(self.data) > 0\n",
    "\n",
    "    def __len__(self):\n",
    "    return len(self.data)\n",
    "\n",
    "\n",
    "def heapsort(iterable):\n",
    "    heap = Heap()\n",
    "    for x in iterable:\n",
    "    heap.add(x)\n",
    "    sorted_lst = []\n",
    "    while heap:\n",
    "    sorted_lst.append(heap.pop_max())\n",
    "    sorted_lst.reverse()\n",
    "    return sorted_lst"
   ]
  },
  {
   "cell_type": "code",
   "execution_count": null,
   "metadata": {},
   "outputs": [],
   "source": [
    "import timeit\n",
    "import random\n",
    "insertionsort_times = []\n",
    "heapsort_times = []\n",
    "mergesort_times = []\n",
    "for size in range(100, 3000, 100):\n",
    "    insertionsort_times.append(timeit.timeit(stmt='insertion_sort(lst)',\n",
    "                                 setup='import random ; from __main__ import insertion_sort ; '\n",
    "                                           'lst = [random.random() for _ in range({})]'.format(size),\n",
    "                                 number=1))\n",
    "    heapsort_times.append(timeit.timeit(stmt='heapsort(lst)',\n",
    "                                 setup='import random ; from __main__ import heapsort ; '\n",
    "                                           'lst = [random.random() for _ in range({})]'.format(size),\n",
    "                                 number=1))\n",
    "    mergesort_times.append(timeit.timeit(stmt='mergesort(lst)'.format(size),\n",
    "                                 setup='import random ; from __main__ import mergesort ; '\n",
    "                                           'lst = [random.random() for _ in range({})]'.format(size),\n",
    "                                 number=1))"
   ]
  },
  {
   "cell_type": "code",
   "execution_count": null,
   "metadata": {},
   "outputs": [],
   "source": [
    "%matplotlib inline\n",
    "import matplotlib.pyplot as plt\n",
    "plt.plot(insertionsort_times, 'ro')\n",
    "plt.plot(heapsort_times, 'b^')\n",
    "plt.plot(mergesort_times, 'gs')\n",
    "plt.show()"
   ]
  },
  {
   "cell_type": "markdown",
   "metadata": {},
   "source": [
    "###### Example: Making Change\n",
    "\n"
   ]
  },
  {
   "cell_type": "markdown",
   "metadata": {},
   "source": [
    "Question: how many different ways are there of making up a specified\n",
    " amount of money, given a list of available denominations?\n",
    "\n",
    "E.g., how many ways of making 10 cents, given 1c, 5c, 10c, 25c coins?\n",
    "\n"
   ]
  },
  {
   "cell_type": "code",
   "execution_count": null,
   "metadata": {},
   "outputs": [],
   "source": [
    "def change(amount, denoms):\n",
    "    pass"
   ]
  },
  {
   "cell_type": "code",
   "execution_count": null,
   "metadata": {},
   "outputs": [],
   "source": [
    "change(5, (1, 5, 10, 25))"
   ]
  },
  {
   "cell_type": "code",
   "execution_count": null,
   "metadata": {},
   "outputs": [],
   "source": [
    "change(10, (1, 5, 10, 25))"
   ]
  },
  {
   "cell_type": "code",
   "execution_count": null,
   "metadata": {},
   "outputs": [],
   "source": [
    "change(1000, (1, 5, 10, 25))"
   ]
  },
  {
   "cell_type": "markdown",
   "metadata": {},
   "source": [
    "#### 1.  The Call Stack\n",
    "\n"
   ]
  },
  {
   "cell_type": "markdown",
   "metadata": {},
   "source": [
    "##### Simulating recursive `factorial`\n",
    "\n"
   ]
  },
  {
   "cell_type": "code",
   "execution_count": null,
   "metadata": {},
   "outputs": [],
   "source": [
    "class Stack(list):\n",
    "    push = list.append\n",
    "    pop  = lambda self: list.pop(self, -1)\n",
    "    peek = lambda self: self[-1]\n",
    "    empty = lambda self: len(self) == 0"
   ]
  },
  {
   "cell_type": "code",
   "execution_count": null,
   "metadata": {},
   "outputs": [],
   "source": [
    "call_stack = Stack()\n",
    "\n",
    "def call(arg):\n",
    "    call_stack.push('<frame begin>')\n",
    "    call_stack.push(('arg', arg))\n",
    "\n",
    "def get_arg():\n",
    "    return call_stack.peek()[-1]\n",
    "\n",
    "def save_local(name, val):\n",
    "    call_stack.push(('local', name, val))\n",
    "\n",
    "def restore_local():\n",
    "    return call_stack.pop()[2]\n",
    "\n",
    "def return_with(val):\n",
    "    while call_stack.pop() != '<frame begin>':\n",
    "    pass\n",
    "    call_stack.push(('ret', val))\n",
    "\n",
    "def last_return_val():\n",
    "    return call_stack.pop()[-1]"
   ]
  },
  {
   "cell_type": "code",
   "execution_count": null,
   "metadata": {},
   "outputs": [],
   "source": [
    "call(10) # initial call\n",
    "while True: # recursive calls\n",
    "    n = get_arg()\n",
    "    if n == 1:\n",
    "    return_with(1)\n",
    "    break\n",
    "    else:\n",
    "    save_local('n', n)\n",
    "    call(n-1)"
   ]
  },
  {
   "cell_type": "code",
   "execution_count": null,
   "metadata": {},
   "outputs": [],
   "source": [
    "call_stack"
   ]
  },
  {
   "cell_type": "code",
   "execution_count": null,
   "metadata": {},
   "outputs": [],
   "source": [
    "ret = last_return_val()\n",
    "n = restore_local()\n",
    "return_with(n * ret)\n",
    "call_stack"
   ]
  },
  {
   "cell_type": "markdown",
   "metadata": {},
   "source": [
    "##### Debugging with `pdb` and `%debug`\n",
    "\n"
   ]
  },
  {
   "cell_type": "code",
   "execution_count": null,
   "metadata": {},
   "outputs": [],
   "source": [
    "import sys\n",
    "sys.setrecursionlimit(100)"
   ]
  },
  {
   "cell_type": "code",
   "execution_count": null,
   "metadata": {},
   "outputs": [],
   "source": [
    "def rec_factorial(n):\n",
    "    if n <= 1:   # detect base case\n",
    "    raise Exception('base case!')\n",
    "    else:\n",
    "    return n * rec_factorial(n-1)"
   ]
  },
  {
   "cell_type": "code",
   "execution_count": null,
   "metadata": {},
   "outputs": [],
   "source": [
    "rec_factorial(10)"
   ]
  },
  {
   "cell_type": "code",
   "execution_count": null,
   "metadata": {},
   "outputs": [],
   "source": [
    "%debug\n",
    "# commands to try:\n",
    "# help, where, args, p n, up, u 10, down, d 10, l, up 100, u, d (& enter to repeat)"
   ]
  },
  {
   "cell_type": "code",
   "execution_count": null,
   "metadata": {},
   "outputs": [],
   "source": [
    "def bin_search(x, lst):\n",
    "    if len(lst) == 0:\n",
    "    return False\n",
    "    else:\n",
    "    print('lo, hi = ', (lst[0], lst[-1]))\n",
    "    mid = len(lst) // 2\n",
    "    if x == lst[mid]:\n",
    "    import pdb ; pdb.set_trace()\n",
    "    return True\n",
    "    elif x < lst[mid]:\n",
    "    return bin_search(x, lst[:mid])\n",
    "    else:\n",
    "    return bin_search(x, lst[mid+1:])"
   ]
  },
  {
   "cell_type": "code",
   "execution_count": null,
   "metadata": {},
   "outputs": [],
   "source": [
    "bin_search(20, list(range(100)))"
   ]
  },
  {
   "cell_type": "markdown",
   "metadata": {},
   "source": [
    "### Implementing Iteration\n",
    "\n"
   ]
  },
  {
   "cell_type": "markdown",
   "metadata": {},
   "source": [
    "#### Agenda\n",
    "\n"
   ]
  },
  {
   "cell_type": "markdown",
   "metadata": {},
   "source": [
    "1.  Review: Iteration\n",
    "    1.  Details: *iterables*, *iterators*, `iter`, and `next`\n",
    "    2.  Implementing iterators with classes\n",
    "    3.  Implementing iterators with *generators* and `yield`\n",
    "\n"
   ]
  },
  {
   "cell_type": "markdown",
   "metadata": {},
   "source": [
    "#### 1.  Review: Iteration\n",
    "\n"
   ]
  },
  {
   "cell_type": "markdown",
   "metadata": {},
   "source": [
    "*Iteration* simply refers to the process of accessing &#x2014; one by one &#x2014;\n",
    " the items stored in some container. The order of the items, and whether\n",
    " or not the iteration is comprehensive, depends on the container.\n",
    "\n",
    "In Ipython, we typically perform iteration using the `for` loop.\n",
    "\n"
   ]
  },
  {
   "cell_type": "code",
   "execution_count": 135,
   "metadata": {},
   "outputs": [
    {
     "name": "stdout",
     "output_type": "stream",
     "text": [
      "1\n",
      "2\n",
      "4\n",
      "8\n",
      "16\n",
      "32\n",
      "64\n",
      "128\n",
      "256\n",
      "512\n"
     ]
    }
   ],
   "source": [
    "# e.g., iterating over a list\n",
    "l = [2**x for x in range(10)]\n",
    "for n in l:\n",
    "    print(n)"
   ]
  },
  {
   "cell_type": "code",
   "execution_count": 136,
   "metadata": {},
   "outputs": [
    {
     "name": "stdout",
     "output_type": "stream",
     "text": [
      "0 => 1\n",
      "1 => 2\n",
      "2 => 4\n",
      "3 => 8\n",
      "4 => 16\n",
      "5 => 32\n",
      "6 => 64\n",
      "7 => 128\n",
      "8 => 256\n",
      "9 => 512\n"
     ]
    }
   ],
   "source": [
    "# e.g., iterating over the key-value pairs in a dictionary\n",
    "d = {x:2**x for x in range(10)}\n",
    "for k,v in d.items():\n",
    "    print(k, '=>', v)"
   ]
  },
  {
   "cell_type": "markdown",
   "metadata": {},
   "source": [
    "#### 1.  Details: *iterables*, *iterators*, `iter`, and `next`\n",
    "\n"
   ]
  },
  {
   "cell_type": "markdown",
   "metadata": {},
   "source": [
    "We can iterate over anything that is *iterable*. Intuitively, if\n",
    " something can be used as the source of items in a `for` loop, it is\n",
    " iterable.\n",
    "\n",
    "But how does a `for` loop really work? (Review time!)\n",
    "\n"
   ]
  },
  {
   "cell_type": "code",
   "execution_count": 137,
   "metadata": {},
   "outputs": [],
   "source": [
    "l = [2**x for x in range(10)]"
   ]
  },
  {
   "cell_type": "markdown",
   "metadata": {},
   "source": [
    "#### 1.  Implementing iterators with classes\n",
    "\n"
   ]
  },
  {
   "cell_type": "code",
   "execution_count": 138,
   "metadata": {},
   "outputs": [
    {
     "ename": "IndentationError",
     "evalue": "expected an indented block (<ipython-input-138-42193614fc3d>, line 3)",
     "output_type": "error",
     "traceback": [
      "\u001b[0;36m  File \u001b[0;32m\"<ipython-input-138-42193614fc3d>\"\u001b[0;36m, line \u001b[0;32m3\u001b[0m\n\u001b[0;31m    self.max = max\u001b[0m\n\u001b[0m    ^\u001b[0m\n\u001b[0;31mIndentationError\u001b[0m\u001b[0;31m:\u001b[0m expected an indented block\n"
     ]
    }
   ],
   "source": [
    "class MyIterator:\n",
    "    def __init__(self, max):\n",
    "    self.max = max\n",
    "    self.curr = 0\n",
    "\n",
    "    # the following methods are required for iterator objects\n",
    "\n",
    "    def __next__(self):\n",
    "    pass\n",
    "\n",
    "    def __iter__(self):\n",
    "    pass"
   ]
  },
  {
   "cell_type": "code",
   "execution_count": null,
   "metadata": {},
   "outputs": [],
   "source": [
    "it = MyIterator(10)"
   ]
  },
  {
   "cell_type": "code",
   "execution_count": null,
   "metadata": {},
   "outputs": [],
   "source": [
    "next(it)"
   ]
  },
  {
   "cell_type": "code",
   "execution_count": null,
   "metadata": {},
   "outputs": [],
   "source": [
    "it = MyIterator(10)\n",
    "while True:\n",
    "    try:\n",
    "    print(next(it))\n",
    "    except StopIteration:\n",
    "    break"
   ]
  },
  {
   "cell_type": "code",
   "execution_count": null,
   "metadata": {},
   "outputs": [],
   "source": [
    "it = MyIterator(10)\n",
    "for i in it:\n",
    "    print(i)"
   ]
  },
  {
   "cell_type": "markdown",
   "metadata": {},
   "source": [
    "For a container type, we need to implement an `__iter__` method that\n",
    " returns an iterator.\n",
    "\n"
   ]
  },
  {
   "cell_type": "code",
   "execution_count": null,
   "metadata": {},
   "outputs": [],
   "source": [
    "class ArrayList:\n",
    "    def __init__(self):\n",
    "    self.data = []\n",
    "\n",
    "    def append(self, val):\n",
    "    self.data.append(None)\n",
    "    self.data[len(self.data)-1] = val\n",
    "\n",
    "    def __iter__(self):\n",
    "    pass"
   ]
  },
  {
   "cell_type": "code",
   "execution_count": null,
   "metadata": {},
   "outputs": [],
   "source": [
    "l = ArrayList()\n",
    "for x in range(10):\n",
    "    l.append(2**x)"
   ]
  },
  {
   "cell_type": "code",
   "execution_count": null,
   "metadata": {},
   "outputs": [],
   "source": [
    "it = iter(l)"
   ]
  },
  {
   "cell_type": "code",
   "execution_count": null,
   "metadata": {},
   "outputs": [],
   "source": [
    "type(it)"
   ]
  },
  {
   "cell_type": "code",
   "execution_count": null,
   "metadata": {},
   "outputs": [],
   "source": [
    "next(it)"
   ]
  },
  {
   "cell_type": "code",
   "execution_count": null,
   "metadata": {},
   "outputs": [],
   "source": [
    "for x in l:\n",
    "    print(x)"
   ]
  },
  {
   "cell_type": "markdown",
   "metadata": {},
   "source": [
    "#### 1.  Implementing iterators with generators and `yield`\n",
    "\n"
   ]
  },
  {
   "cell_type": "markdown",
   "metadata": {},
   "source": [
    "What's a \"generator\"?\n",
    "\n"
   ]
  },
  {
   "cell_type": "markdown",
   "metadata": {},
   "source": [
    "### Maps\n",
    "\n"
   ]
  },
  {
   "cell_type": "markdown",
   "metadata": {},
   "source": [
    "#### Binary Search Trees\n",
    "\n"
   ]
  },
  {
   "cell_type": "markdown",
   "metadata": {},
   "source": [
    "##### Agenda\n",
    "\n"
   ]
  },
  {
   "cell_type": "markdown",
   "metadata": {},
   "source": [
    "-   Binary Trees & Binary Search Trees: definitions\n",
    "-   Linked tree structure and Manual construction\n",
    "-   Recursive binary search tree functions\n",
    "\n"
   ]
  },
  {
   "cell_type": "markdown",
   "metadata": {},
   "source": [
    "##### Binary Tree: def\n",
    "\n"
   ]
  },
  {
   "cell_type": "markdown",
   "metadata": {},
   "source": [
    "-   A *binary tree* is a structure that is either empty, or consists of a\n",
    "    *root* node containing a value and references to a left and right\n",
    "    *sub-tree*, which are themselves binary trees.\n",
    "\n",
    "Naming nodes:\n",
    "\n",
    "-   The single node in a binary tree without a parent is the root node of\n",
    "    the tree\n",
    "-   We say that a given node is the *parent* of its left and right *child*\n",
    "    nodes; nodes with the same parent are called *siblings*\n",
    "-   If a node has no children we call it a *leaf* node; otherwise, we call\n",
    "    it an *internal* node\n",
    "\n",
    "Binary tree metrics (note: alternative defs are sometimes used!):\n",
    "\n",
    "-   The *depth* of a node is the number of nodes from the root of the tree\n",
    "    to that node (inclusive)\n",
    "-   The *height* of a node is the number of nodes on the longest path from\n",
    "    that node down to a leaf (inclusive)\n",
    "\n",
    "Categorizing binary trees:\n",
    "\n",
    "-   A *complete* binary tree is one where all but the last level are\n",
    "    filled, and in the last level leaves are as far to the left as\n",
    "    possible\n",
    "-   A *perfect* binary tree is one where all internal nodes have 2\n",
    "    children, and all leaves have the same depth\n",
    "-   A *balanced* binary tree is &#x2026; ?\n",
    "\n"
   ]
  },
  {
   "cell_type": "markdown",
   "metadata": {},
   "source": [
    "##### Binary Search Tree (BSTree): def\n",
    "\n"
   ]
  },
  {
   "cell_type": "markdown",
   "metadata": {},
   "source": [
    "-   A *binary search tree* is a binary tree where the value contained in\n",
    "    every node is:\n",
    "    -   *greater than* all keys in its left subtree, and\n",
    "    -   *less than* all keys in its right subtree\n",
    "\n"
   ]
  },
  {
   "cell_type": "markdown",
   "metadata": {},
   "source": [
    "##### Linked tree structure and Manual construction:\n",
    "\n"
   ]
  },
  {
   "cell_type": "code",
   "execution_count": 139,
   "metadata": {},
   "outputs": [
    {
     "ename": "IndentationError",
     "evalue": "expected an indented block (<ipython-input-139-df5e1156590d>, line 3)",
     "output_type": "error",
     "traceback": [
      "\u001b[0;36m  File \u001b[0;32m\"<ipython-input-139-df5e1156590d>\"\u001b[0;36m, line \u001b[0;32m3\u001b[0m\n\u001b[0;31m    self.val = val\u001b[0m\n\u001b[0m    ^\u001b[0m\n\u001b[0;31mIndentationError\u001b[0m\u001b[0;31m:\u001b[0m expected an indented block\n"
     ]
    }
   ],
   "source": [
    "class Node:\n",
    "    def __init__(self, val, left=None, right=None):\n",
    "    self.val = val\n",
    "    self.left = left\n",
    "    self.right = right\n",
    "\n",
    "    def __repr__(self):\n",
    "    def str_rec(t,depth):\n",
    "    if not t:\n",
    "    return \"\"\n",
    "    else:\n",
    "    return ((\"\\t\" * depth)\n",
    "    + str(t.val)\n",
    "    + \"\\n\" + str_rec(t.left, depth + 1)\n",
    "    + str_rec(t.right, depth + 1))\n",
    "\n",
    "    return str_rec(self, 0)"
   ]
  },
  {
   "cell_type": "markdown",
   "metadata": {},
   "source": [
    "##### Recursive bstree functions\n",
    "\n"
   ]
  },
  {
   "cell_type": "code",
   "execution_count": null,
   "metadata": {},
   "outputs": [],
   "source": [
    "def tmin(t):\n",
    "    pass"
   ]
  },
  {
   "cell_type": "code",
   "execution_count": null,
   "metadata": {},
   "outputs": [],
   "source": [
    "import sys\n",
    "\n",
    "def max_with_none(*nums):\n",
    "    result = None\n",
    "    for n in nums:\n",
    "    if not result:\n",
    "    result = n\n",
    "    elif n:\n",
    "    result = max(result,n)\n",
    "    return result\n",
    "\n",
    "def tmax(t: Node):\n",
    "    if not t:\n",
    "    return None\n",
    "    return max_with_none(t.val, tmax(t.left), tmax(t.right))"
   ]
  },
  {
   "cell_type": "code",
   "execution_count": null,
   "metadata": {},
   "outputs": [],
   "source": [
    "def find(t, x):\n",
    "    if not t:\n",
    "    return False\n",
    "    if t.val == x:\n",
    "    return True\n",
    "    if t.val > x:\n",
    "    return find(t.left, x)\n",
    "    if t.val < x:\n",
    "    return find(t.right, x)"
   ]
  },
  {
   "cell_type": "code",
   "execution_count": null,
   "metadata": {},
   "outputs": [],
   "source": [
    "import builtins\n",
    "max = builtins.max\n",
    "def height(t):\n",
    "    if not t:\n",
    "    return 0\n",
    "    return 1 + max([height(t.left), height(t.right)])"
   ]
  },
  {
   "cell_type": "code",
   "execution_count": null,
   "metadata": {},
   "outputs": [],
   "source": [
    "def visit(t):\n",
    "    pass"
   ]
  },
  {
   "cell_type": "code",
   "execution_count": null,
   "metadata": {},
   "outputs": [],
   "source": [
    "def map(t,f):\n",
    "    f(t.val)\n",
    "    if t.left:\n",
    "    map(t.left, f)\n",
    "    if t.right:\n",
    "    map(t.right, f)"
   ]
  },
  {
   "cell_type": "code",
   "execution_count": null,
   "metadata": {},
   "outputs": [],
   "source": [
    "myt = Node(3, Node(1), Node(5))\n",
    "#print(f\"height: {height(myt)}\")\n",
    "myt\n",
    "height(myt)\n",
    "tmax(myt)"
   ]
  },
  {
   "cell_type": "markdown",
   "metadata": {},
   "source": [
    "    5\n",
    "\n"
   ]
  },
  {
   "cell_type": "code",
   "execution_count": null,
   "metadata": {},
   "outputs": [],
   "source": [
    "map(myt,lambda x: print (x))"
   ]
  },
  {
   "cell_type": "markdown",
   "metadata": {},
   "source": [
    "    3\n",
    "    1\n",
    "    5\n",
    "\n"
   ]
  },
  {
   "cell_type": "code",
   "execution_count": null,
   "metadata": {},
   "outputs": [],
   "source": [
    "print(f\"\"\"find 3: {find(myt, 3)}\n",
    "find 5: {find(myt, 5)}\n",
    "find 1: {find(myt, 1)}\n",
    "find 2: {find(myt, 2)}\"\"\")"
   ]
  },
  {
   "cell_type": "markdown",
   "metadata": {},
   "source": [
    "    find 3: True\n",
    "    find 5: True\n",
    "    find 1: True\n",
    "    find 2: False\n",
    "\n"
   ]
  },
  {
   "cell_type": "code",
   "execution_count": null,
   "metadata": {},
   "outputs": [],
   "source": []
  },
  {
   "cell_type": "markdown",
   "metadata": {},
   "source": [
    "#### The BSTree data structure\n",
    "\n"
   ]
  },
  {
   "cell_type": "markdown",
   "metadata": {},
   "source": [
    "##### Agenda\n",
    "\n"
   ]
  },
  {
   "cell_type": "markdown",
   "metadata": {},
   "source": [
    "-   API\n",
    "-   Implementation\n",
    "    -   Search\n",
    "    -   Addition\n",
    "    -   Removal\n",
    "    -   Iteration / Traversal\n",
    "\n"
   ]
  },
  {
   "cell_type": "markdown",
   "metadata": {},
   "source": [
    "##### API\n",
    "\n"
   ]
  },
  {
   "cell_type": "code",
   "execution_count": null,
   "metadata": {},
   "outputs": [],
   "source": [
    "class BSTree:\n",
    "    class Node:\n",
    "    def __init__(self, val, left=None, right=None):\n",
    "    self.val = val\n",
    "    self.left = left\n",
    "    self.right = right\n",
    "\n",
    "    def __init__(self):\n",
    "    self.size = 0\n",
    "    self.root = None\n",
    "\n",
    "    def add(self, val):\n",
    "    \"\"\"Adds `val` to this tree while maintaining BSTree properties.\"\"\"\n",
    "    assert(val not in self)\n",
    "    pass\n",
    "\n",
    "    def __contains__(self, val):\n",
    "    \"\"\"Returns `True` if val is in this tree and `False` otherwise.\"\"\"\n",
    "    pass\n",
    "\n",
    "    def __delitem__(self, val):\n",
    "    \"\"\"Removes `val` from this tree while maintaining BSTree properties.\"\"\"\n",
    "    assert(val in self)\n",
    "    pass\n",
    "\n",
    "    def __iter__(self):\n",
    "    \"\"\"Returns an iterator over all the values in the tree, in ascending order.\"\"\"\n",
    "    pass\n",
    "\n",
    "    def __len__(self):\n",
    "    return self.size\n",
    "\n",
    "    def pprint(self, width=64):\n",
    "    \"\"\"Attempts to pretty-print this tree's contents.\"\"\"\n",
    "    height = self.height()\n",
    "    nodes  = [(self.root, 0)]\n",
    "    prev_level = 0\n",
    "    repr_str = ''\n",
    "    while nodes:\n",
    "    n,level = nodes.pop(0)\n",
    "    if prev_level != level:\n",
    "    prev_level = level\n",
    "    repr_str += '\\n'\n",
    "    if not n:\n",
    "    if level < height-1:\n",
    "    nodes.extend([(None, level+1), (None, level+1)])\n",
    "    repr_str += '{val:^{width}}'.format(val='-', width=width//2**level)\n",
    "    elif n:\n",
    "    if n.left or level < height-1:\n",
    "    nodes.append((n.left, level+1))\n",
    "    if n.right or level < height-1:\n",
    "    nodes.append((n.right, level+1))\n",
    "    repr_str += '{val:^{width}}'.format(val=n.val, width=width//2**level)\n",
    "    print(repr_str)\n",
    "\n",
    "    def height(self):\n",
    "    \"\"\"Returns the height of the longest branch of the tree.\"\"\"\n",
    "    def height_rec(t):\n",
    "    if not t:\n",
    "    return 0\n",
    "    else:\n",
    "    return max(1+height_rec(t.left), 1+height_rec(t.right))\n",
    "    return height_rec(self.root)"
   ]
  },
  {
   "cell_type": "code",
   "execution_count": null,
   "metadata": {},
   "outputs": [],
   "source": [
    "t = BSTree()\n",
    "t.root = BSTree.Node(5,\n",
    "    left=BSTree.Node(2),\n",
    "    right=BSTree.Node(10))\n",
    "t.size = 3"
   ]
  },
  {
   "cell_type": "code",
   "execution_count": null,
   "metadata": {},
   "outputs": [],
   "source": [
    "t.pprint()"
   ]
  },
  {
   "cell_type": "code",
   "execution_count": null,
   "metadata": {},
   "outputs": [],
   "source": [
    "t.height()"
   ]
  },
  {
   "cell_type": "markdown",
   "metadata": {},
   "source": [
    "##### Implementation\n",
    "\n"
   ]
  },
  {
   "cell_type": "markdown",
   "metadata": {},
   "source": [
    "###### Search\n",
    "\n"
   ]
  },
  {
   "cell_type": "code",
   "execution_count": 140,
   "metadata": {},
   "outputs": [
    {
     "ename": "IndentationError",
     "evalue": "expected an indented block (<ipython-input-140-c568163d162c>, line 3)",
     "output_type": "error",
     "traceback": [
      "\u001b[0;36m  File \u001b[0;32m\"<ipython-input-140-c568163d162c>\"\u001b[0;36m, line \u001b[0;32m3\u001b[0m\n\u001b[0;31m    pass\u001b[0m\n\u001b[0m    ^\u001b[0m\n\u001b[0;31mIndentationError\u001b[0m\u001b[0;31m:\u001b[0m expected an indented block\n"
     ]
    }
   ],
   "source": [
    "class BSTree(BSTree):\n",
    "    def __contains__(self, val):\n",
    "    pass"
   ]
  },
  {
   "cell_type": "code",
   "execution_count": null,
   "metadata": {},
   "outputs": [],
   "source": [
    "t = BSTree()\n",
    "t.root = BSTree.Node(5,\n",
    "    left=BSTree.Node(2),\n",
    "    right=BSTree.Node(10))\n",
    "t.size = 3"
   ]
  },
  {
   "cell_type": "code",
   "execution_count": null,
   "metadata": {},
   "outputs": [],
   "source": [
    "5 in t"
   ]
  },
  {
   "cell_type": "markdown",
   "metadata": {},
   "source": [
    "###### Addition\n",
    "\n"
   ]
  },
  {
   "cell_type": "code",
   "execution_count": null,
   "metadata": {},
   "outputs": [],
   "source": [
    "class BSTree(BSTree):\n",
    "    def add(self, val):\n",
    "    assert(val not in self)\n",
    "    pass"
   ]
  },
  {
   "cell_type": "code",
   "execution_count": null,
   "metadata": {},
   "outputs": [],
   "source": [
    "import random\n",
    "t = BSTree()\n",
    "vals = list(range(5))\n",
    "random.shuffle(vals)\n",
    "for x in vals:\n",
    "    t.add(x)\n",
    "t.pprint()"
   ]
  },
  {
   "cell_type": "markdown",
   "metadata": {},
   "source": [
    "###### Removal\n",
    "\n"
   ]
  },
  {
   "cell_type": "code",
   "execution_count": null,
   "metadata": {},
   "outputs": [],
   "source": [
    "class BSTree(BSTree):\n",
    "    def __delitem__(self, val):\n",
    "    assert(val in self)\n",
    "    # deal with relatively simple cases first!\n",
    "    pass"
   ]
  },
  {
   "cell_type": "code",
   "execution_count": null,
   "metadata": {},
   "outputs": [],
   "source": [
    "t = BSTree()\n",
    "for x in [10, 5, 15, 2, 17]:\n",
    "    t.add(x)\n",
    "t.pprint()"
   ]
  },
  {
   "cell_type": "code",
   "execution_count": null,
   "metadata": {},
   "outputs": [],
   "source": [
    "del t[2]\n",
    "t.pprint()"
   ]
  },
  {
   "cell_type": "code",
   "execution_count": null,
   "metadata": {},
   "outputs": [],
   "source": [
    "t = BSTree()\n",
    "for x in [10, 5, 15, 2, 17]:\n",
    "    t.add(x)\n",
    "t.pprint()"
   ]
  },
  {
   "cell_type": "code",
   "execution_count": null,
   "metadata": {},
   "outputs": [],
   "source": [
    "del t[5]\n",
    "t.pprint()"
   ]
  },
  {
   "cell_type": "code",
   "execution_count": null,
   "metadata": {},
   "outputs": [],
   "source": [
    "t = BSTree()\n",
    "for x in [10, 5, 15, 2, 17]:\n",
    "    t.add(x)\n",
    "t.pprint()"
   ]
  },
  {
   "cell_type": "code",
   "execution_count": null,
   "metadata": {},
   "outputs": [],
   "source": [
    "del t[15]\n",
    "t.pprint()"
   ]
  },
  {
   "cell_type": "code",
   "execution_count": null,
   "metadata": {},
   "outputs": [],
   "source": [
    "t = BSTree()\n",
    "for x in [10, 5, 15, 2, 17]:\n",
    "    t.add(x)\n",
    "t.pprint()"
   ]
  },
  {
   "cell_type": "code",
   "execution_count": null,
   "metadata": {},
   "outputs": [],
   "source": [
    "del t[10]\n",
    "t.pprint()"
   ]
  },
  {
   "cell_type": "code",
   "execution_count": null,
   "metadata": {},
   "outputs": [],
   "source": [
    "class BSTree(BSTree):\n",
    "    def __delitem__(self, val):\n",
    "    # fully working delete\n",
    "    assert(val in self)\n",
    "    pass"
   ]
  },
  {
   "cell_type": "code",
   "execution_count": null,
   "metadata": {},
   "outputs": [],
   "source": [
    "t = BSTree()\n",
    "for x in [10, 5, 2, 7, 9, 8, 1, 15, 12, 18]:\n",
    "    t.add(x)\n",
    "t.pprint()"
   ]
  },
  {
   "cell_type": "code",
   "execution_count": null,
   "metadata": {},
   "outputs": [],
   "source": [
    "del t[15]\n",
    "t.pprint()"
   ]
  },
  {
   "cell_type": "code",
   "execution_count": null,
   "metadata": {},
   "outputs": [],
   "source": [
    "t = BSTree()\n",
    "for x in [10, 5, 2, 7, 9, 8, 1, 15, 12, 18]:\n",
    "    t.add(x)\n",
    "t.pprint()"
   ]
  },
  {
   "cell_type": "code",
   "execution_count": null,
   "metadata": {},
   "outputs": [],
   "source": [
    "del t[5]\n",
    "t.pprint()"
   ]
  },
  {
   "cell_type": "code",
   "execution_count": null,
   "metadata": {},
   "outputs": [],
   "source": [
    "t = BSTree()\n",
    "for x in [10, 5, 2, 7, 9, 8, 1, 15, 12, 18]:\n",
    "    t.add(x)\n",
    "t.pprint()"
   ]
  },
  {
   "cell_type": "code",
   "execution_count": null,
   "metadata": {},
   "outputs": [],
   "source": [
    "del t[10]\n",
    "t.pprint()"
   ]
  },
  {
   "cell_type": "markdown",
   "metadata": {},
   "source": [
    "###### Iteration / Traversal\n",
    "\n"
   ]
  },
  {
   "cell_type": "code",
   "execution_count": null,
   "metadata": {},
   "outputs": [],
   "source": [
    "class BSTree(BSTree):\n",
    "    def __iter__(self):\n",
    "    pass"
   ]
  },
  {
   "cell_type": "code",
   "execution_count": 141,
   "metadata": {},
   "outputs": [
    {
     "ename": "NameError",
     "evalue": "name 'BSTree' is not defined",
     "output_type": "error",
     "traceback": [
      "\u001b[0;31m---------------------------------------------------------------------------\u001b[0m",
      "\u001b[0;31mNameError\u001b[0m                                 Traceback (most recent call last)",
      "\u001b[0;32m<ipython-input-141-aaaaa0b6fe99>\u001b[0m in \u001b[0;36m<module>\u001b[0;34m\u001b[0m\n\u001b[1;32m      1\u001b[0m \u001b[0;32mimport\u001b[0m \u001b[0mrandom\u001b[0m\u001b[0;34m\u001b[0m\u001b[0;34m\u001b[0m\u001b[0m\n\u001b[0;32m----> 2\u001b[0;31m \u001b[0mt\u001b[0m \u001b[0;34m=\u001b[0m \u001b[0mBSTree\u001b[0m\u001b[0;34m(\u001b[0m\u001b[0;34m)\u001b[0m\u001b[0;34m\u001b[0m\u001b[0;34m\u001b[0m\u001b[0m\n\u001b[0m\u001b[1;32m      3\u001b[0m \u001b[0mvals\u001b[0m \u001b[0;34m=\u001b[0m \u001b[0mlist\u001b[0m\u001b[0;34m(\u001b[0m\u001b[0mrange\u001b[0m\u001b[0;34m(\u001b[0m\u001b[0;36m20\u001b[0m\u001b[0;34m)\u001b[0m\u001b[0;34m)\u001b[0m\u001b[0;34m\u001b[0m\u001b[0;34m\u001b[0m\u001b[0m\n\u001b[1;32m      4\u001b[0m \u001b[0mrandom\u001b[0m\u001b[0;34m.\u001b[0m\u001b[0mshuffle\u001b[0m\u001b[0;34m(\u001b[0m\u001b[0mvals\u001b[0m\u001b[0;34m)\u001b[0m\u001b[0;34m\u001b[0m\u001b[0;34m\u001b[0m\u001b[0m\n\u001b[1;32m      5\u001b[0m \u001b[0;32mfor\u001b[0m \u001b[0mx\u001b[0m \u001b[0;32min\u001b[0m \u001b[0mvals\u001b[0m\u001b[0;34m:\u001b[0m\u001b[0;34m\u001b[0m\u001b[0;34m\u001b[0m\u001b[0m\n",
      "\u001b[0;31mNameError\u001b[0m: name 'BSTree' is not defined"
     ]
    }
   ],
   "source": [
    "import random\n",
    "t = BSTree()\n",
    "vals = list(range(20))\n",
    "random.shuffle(vals)\n",
    "for x in vals:\n",
    "    t.add(x)\n",
    "for x in t:\n",
    "    print(x)"
   ]
  },
  {
   "cell_type": "markdown",
   "metadata": {},
   "source": [
    "#### Balanced BS Tree: AVL Tree\n",
    "\n"
   ]
  },
  {
   "cell_type": "markdown",
   "metadata": {},
   "source": [
    "##### Agenda\n",
    "\n"
   ]
  },
  {
   "cell_type": "markdown",
   "metadata": {},
   "source": [
    "1.  Motives\n",
    "2.  \"Balanced\" binary trees\n",
    "3.  Essential mechanic: rotation\n",
    "4.  Out-of-balance scenarios & rotation recipes\n",
    "5.  Generalized AVL rebalancing (insertion)\n",
    "6.  Rebalancing on removal\n",
    "\n"
   ]
  },
  {
   "cell_type": "markdown",
   "metadata": {},
   "source": [
    "##### 1.  Motives\n",
    "\n"
   ]
  },
  {
   "cell_type": "code",
   "execution_count": null,
   "metadata": {},
   "outputs": [],
   "source": [
    "class BSTree:\n",
    "    class Node:\n",
    "    def __init__(self, val, left=None, right=None):\n",
    "    self.val = val\n",
    "    self.left = left\n",
    "    self.right = right\n",
    "\n",
    "    def __init__(self):\n",
    "    self.size = 0\n",
    "    self.root = None\n",
    "\n",
    "    def add(self, val):\n",
    "    assert(val not in self)\n",
    "    def add_rec(node):\n",
    "    if not node:\n",
    "    return BSTree.Node(val)\n",
    "    elif val < node.val:\n",
    "    node.left = add_rec(node.left)\n",
    "    return node\n",
    "    else:\n",
    "    node.right = add_rec(node.right)\n",
    "    return node\n",
    "    self.root = add_rec(self.root)\n",
    "    self.size += 1\n",
    "\n",
    "    def __contains__(self, val):\n",
    "    def contains_rec(node):\n",
    "    if not node:\n",
    "    return False\n",
    "    elif val < node.val:\n",
    "    return contains_rec(node.left)\n",
    "    elif val > node.val:\n",
    "    return contains_rec(node.right)\n",
    "    else:\n",
    "    return True\n",
    "    return contains_rec(self.root)\n",
    "\n",
    "    def __len__(self):\n",
    "    return self.size\n",
    "\n",
    "    def __delitem__(self, val):\n",
    "    assert(val in self)\n",
    "    def delitem_rec(node):\n",
    "    if val < node.val:\n",
    "    node.left = delitem_rec(node.left)\n",
    "    return node\n",
    "    elif val > node.val:\n",
    "    node.right = delitem_rec(node.right)\n",
    "    return node\n",
    "    else:\n",
    "    if not node.left and not node.right:\n",
    "    return None\n",
    "    elif node.left and not node.right:\n",
    "    return node.left\n",
    "    elif node.right and not node.left:\n",
    "    return node.right\n",
    "    else:\n",
    "    # remove the largest value from the left subtree as a replacement\n",
    "    # for the root value of this tree\n",
    "    t = node.left\n",
    "    if not t.right:\n",
    "    node.val = t.val\n",
    "    node.left = t.left\n",
    "    else:\n",
    "    n = t\n",
    "    while n.right.right:\n",
    "    n = n.right\n",
    "    t = n.right\n",
    "    n.right = t.left\n",
    "    node.val = t.val\n",
    "    return node\n",
    "\n",
    "    self.root = delitem_rec(self.root)\n",
    "    self.size -= 1\n",
    "\n",
    "    def pprint(self, width=64):\n",
    "    \"\"\"Attempts to pretty-print this tree's contents.\"\"\"\n",
    "    height = self.height()\n",
    "    nodes  = [(self.root, 0)]\n",
    "    prev_level = 0\n",
    "    repr_str = ''\n",
    "    while nodes:\n",
    "    n,level = nodes.pop(0)\n",
    "    if prev_level != level:\n",
    "    prev_level = level\n",
    "    repr_str += '\\n'\n",
    "    if not n:\n",
    "    if level < height-1:\n",
    "    nodes.extend([(None, level+1), (None, level+1)])\n",
    "    repr_str += '{val:^{width}}'.format(val='-', width=width//2**level)\n",
    "    elif n:\n",
    "    if n.left or level < height-1:\n",
    "    nodes.append((n.left, level+1))\n",
    "    if n.right or level < height-1:\n",
    "    nodes.append((n.right, level+1))\n",
    "    repr_str += '{val:^{width}}'.format(val=n.val, width=width//2**level)\n",
    "    print(repr_str)\n",
    "\n",
    "    def height(self):\n",
    "    \"\"\"Returns the height of the longest branch of the tree.\"\"\"\n",
    "    def height_rec(t):\n",
    "    if not t:\n",
    "    return 0\n",
    "    else:\n",
    "    return max(1+height_rec(t.left), 1+height_rec(t.right))\n",
    "    return height_rec(self.root)"
   ]
  },
  {
   "cell_type": "code",
   "execution_count": null,
   "metadata": {},
   "outputs": [],
   "source": [
    "t = BSTree()\n",
    "for x in range(6):\n",
    "    t.add(x)\n",
    "t.pprint()"
   ]
  },
  {
   "cell_type": "code",
   "execution_count": null,
   "metadata": {},
   "outputs": [],
   "source": [
    "import sys\n",
    "sys.setrecursionlimit(100)\n",
    "\n",
    "t = BSTree()\n",
    "for x in range(100):\n",
    "    t.add(x)"
   ]
  },
  {
   "cell_type": "markdown",
   "metadata": {},
   "source": [
    "##### 1.  \"Balanced\" binary trees\n",
    "\n"
   ]
  },
  {
   "cell_type": "markdown",
   "metadata": {},
   "source": [
    "##### 1.  Essential mechanic: rotation\n",
    "\n"
   ]
  },
  {
   "cell_type": "code",
   "execution_count": null,
   "metadata": {},
   "outputs": [],
   "source": [
    "class AVLTree(BSTree):\n",
    "    class Node:\n",
    "    def __init__(self, val, left=None, right=None):\n",
    "    self.val = val\n",
    "    self.left = left\n",
    "    self.right = right\n",
    "\n",
    "    def rotate_right(self):\n",
    "    pass\n",
    "\n",
    "    def add(self, val):\n",
    "    assert(val not in self)\n",
    "    def add_rec(node):\n",
    "    if not node:\n",
    "    return AVLTree.Node(val)\n",
    "    elif val < node.val:\n",
    "    node.left = add_rec(node.left)\n",
    "    return node\n",
    "    else:\n",
    "    node.right = add_rec(node.right)\n",
    "    return node\n",
    "    self.root = add_rec(self.root)\n",
    "    self.size += 1"
   ]
  },
  {
   "cell_type": "code",
   "execution_count": null,
   "metadata": {},
   "outputs": [],
   "source": [
    "t = AVLTree()\n",
    "for x in range(6, 0, -1):\n",
    "    t.add(x)\n",
    "t.pprint()"
   ]
  },
  {
   "cell_type": "code",
   "execution_count": null,
   "metadata": {},
   "outputs": [],
   "source": [
    "t.root.rotate_right()\n",
    "t.pprint()"
   ]
  },
  {
   "cell_type": "code",
   "execution_count": null,
   "metadata": {},
   "outputs": [],
   "source": [
    "t.root.rotate_right()\n",
    "t.pprint()"
   ]
  },
  {
   "cell_type": "code",
   "execution_count": null,
   "metadata": {},
   "outputs": [],
   "source": [
    "t.root.left.rotate_right()\n",
    "t.pprint()"
   ]
  },
  {
   "cell_type": "code",
   "execution_count": null,
   "metadata": {},
   "outputs": [],
   "source": [
    "class AVLTree(BSTree):\n",
    "    class Node:\n",
    "    def __init__(self, val, left=None, right=None):\n",
    "    self.val = val\n",
    "    self.left = left\n",
    "    self.right = right\n",
    "\n",
    "    def rotate_right(self):\n",
    "    n = self.left\n",
    "    self.val, n.val = n.val, self.val\n",
    "    self.left, n.left, self.right, n.right = n.left, n.right, n, self.right\n",
    "\n",
    "    @staticmethod\n",
    "    def height(n):\n",
    "    if not n:\n",
    "    return 0\n",
    "    else:\n",
    "    return max(1+AVLTree.Node.height(n.left), 1+AVLTree.Node.height(n.right))\n",
    "\n",
    "    def add(self, val):\n",
    "    assert(val not in self)\n",
    "    def add_rec(node):\n",
    "    if not node:\n",
    "    return AVLTree.Node(val)\n",
    "    elif val < node.val:\n",
    "    node.left = add_rec(node.left)\n",
    "    else:\n",
    "    node.right = add_rec(node.right)\n",
    "    # detect and fix imbalance\n",
    "    self.root = add_rec(self.root)\n",
    "    self.size += 1"
   ]
  },
  {
   "cell_type": "code",
   "execution_count": null,
   "metadata": {},
   "outputs": [],
   "source": [
    "val = 50\n",
    "t = AVLTree()"
   ]
  },
  {
   "cell_type": "code",
   "execution_count": null,
   "metadata": {},
   "outputs": [],
   "source": [
    "# (evaluate multiple times with ctrl-enter)\n",
    "t.add(val)\n",
    "val -= 1\n",
    "t.pprint()"
   ]
  },
  {
   "cell_type": "code",
   "execution_count": null,
   "metadata": {},
   "outputs": [],
   "source": [
    "val = 0\n",
    "t = AVLTree()"
   ]
  },
  {
   "cell_type": "code",
   "execution_count": null,
   "metadata": {},
   "outputs": [],
   "source": [
    "# (evaluate multiple times with ctrl-enter)\n",
    "t.add(val)\n",
    "val += 1\n",
    "t.pprint()"
   ]
  },
  {
   "cell_type": "markdown",
   "metadata": {},
   "source": [
    "##### 1.  \"Out-of-balance\" scenarios & rotation recipes\n",
    "\n"
   ]
  },
  {
   "cell_type": "code",
   "execution_count": null,
   "metadata": {},
   "outputs": [],
   "source": [
    "# \"left-left\" scenario\n",
    "t = BSTree()\n",
    "for x in [3, 2, 1]:\n",
    "    t.add(x)\n",
    "t.pprint()"
   ]
  },
  {
   "cell_type": "code",
   "execution_count": null,
   "metadata": {},
   "outputs": [],
   "source": [
    "# \"left-right\" scenario\n",
    "t = BSTree()\n",
    "for x in [3, 1, 2]:\n",
    "    t.add(x)\n",
    "t.pprint()"
   ]
  },
  {
   "cell_type": "code",
   "execution_count": null,
   "metadata": {},
   "outputs": [],
   "source": [
    "# \"right-right\" scenario\n",
    "t = BSTree()\n",
    "for x in [1, 2, 3]:\n",
    "    t.add(x)\n",
    "t.pprint()"
   ]
  },
  {
   "cell_type": "code",
   "execution_count": null,
   "metadata": {},
   "outputs": [],
   "source": [
    "# \"right-left\" scenario\n",
    "t = BSTree()\n",
    "for x in [1, 3, 2]:\n",
    "    t.add(x)\n",
    "t.pprint()"
   ]
  },
  {
   "cell_type": "markdown",
   "metadata": {},
   "source": [
    "##### 1.  Generalized AVL rebalancing (insertion)\n",
    "\n"
   ]
  },
  {
   "cell_type": "code",
   "execution_count": null,
   "metadata": {},
   "outputs": [],
   "source": [
    "class AVLTree(BSTree):\n",
    "    class Node:\n",
    "    def __init__(self, val, left=None, right=None):\n",
    "    self.val = val\n",
    "    self.left = left\n",
    "    self.right = right\n",
    "\n",
    "    def rotate_right(self):\n",
    "    n = self.left\n",
    "    self.val, n.val = n.val, self.val\n",
    "    self.left, n.left, self.right, n.right = n.left, n.right, n, self.right\n",
    "\n",
    "    def rotate_left(self):\n",
    "    pass\n",
    "\n",
    "    @staticmethod\n",
    "    def height(n):\n",
    "    if not n:\n",
    "    return 0\n",
    "    else:\n",
    "    return max(1+AVLTree.Node.height(n.left), 1+AVLTree.Node.height(n.right))\n",
    "\n",
    "    @staticmethod\n",
    "    def rebalance(t):\n",
    "    if AVLTree.Node.height(t.left) > AVLTree.Node.height(t.right):\n",
    "    if AVLTree.Node.height(t.left.left) >= AVLTree.Node.height(t.left.right):\n",
    "    # left-left\n",
    "    print('left-left imbalance detected')\n",
    "    # fix?\n",
    "    else:\n",
    "    # left-right\n",
    "    print('left-right imbalance detected')\n",
    "    # fix?\n",
    "    else:\n",
    "    # right branch imbalance tests needed\n",
    "    pass\n",
    "\n",
    "    def add(self, val):\n",
    "    assert(val not in self)\n",
    "    def add_rec(node):\n",
    "    if not node:\n",
    "    return AVLTree.Node(val)\n",
    "    elif val < node.val:\n",
    "    node.left = add_rec(node.left)\n",
    "    else:\n",
    "    node.right = add_rec(node.right)\n",
    "    if False: # detect imbalance\n",
    "    AVLTree.rebalance(node)\n",
    "    return node\n",
    "    self.root = add_rec(self.root)\n",
    "    self.size += 1"
   ]
  },
  {
   "cell_type": "code",
   "execution_count": 142,
   "metadata": {},
   "outputs": [
    {
     "ename": "NameError",
     "evalue": "name 'AVLTree' is not defined",
     "output_type": "error",
     "traceback": [
      "\u001b[0;31m---------------------------------------------------------------------------\u001b[0m",
      "\u001b[0;31mNameError\u001b[0m                                 Traceback (most recent call last)",
      "\u001b[0;32m<ipython-input-142-4e9616627621>\u001b[0m in \u001b[0;36m<module>\u001b[0;34m\u001b[0m\n\u001b[0;32m----> 1\u001b[0;31m \u001b[0mt\u001b[0m \u001b[0;34m=\u001b[0m \u001b[0mAVLTree\u001b[0m\u001b[0;34m(\u001b[0m\u001b[0;34m)\u001b[0m\u001b[0;34m\u001b[0m\u001b[0;34m\u001b[0m\u001b[0m\n\u001b[0m\u001b[1;32m      2\u001b[0m \u001b[0;32mfor\u001b[0m \u001b[0mx\u001b[0m \u001b[0;32min\u001b[0m \u001b[0;34m[\u001b[0m\u001b[0;36m10\u001b[0m\u001b[0;34m,\u001b[0m \u001b[0;36m5\u001b[0m\u001b[0;34m,\u001b[0m \u001b[0;36m1\u001b[0m\u001b[0;34m]\u001b[0m\u001b[0;34m:\u001b[0m\u001b[0;34m\u001b[0m\u001b[0;34m\u001b[0m\u001b[0m\n\u001b[1;32m      3\u001b[0m     \u001b[0mt\u001b[0m\u001b[0;34m.\u001b[0m\u001b[0madd\u001b[0m\u001b[0;34m(\u001b[0m\u001b[0mx\u001b[0m\u001b[0;34m)\u001b[0m\u001b[0;34m\u001b[0m\u001b[0;34m\u001b[0m\u001b[0m\n\u001b[1;32m      4\u001b[0m \u001b[0mt\u001b[0m\u001b[0;34m.\u001b[0m\u001b[0mpprint\u001b[0m\u001b[0;34m(\u001b[0m\u001b[0;34m)\u001b[0m\u001b[0;34m\u001b[0m\u001b[0;34m\u001b[0m\u001b[0m\n",
      "\u001b[0;31mNameError\u001b[0m: name 'AVLTree' is not defined"
     ]
    }
   ],
   "source": [
    "t = AVLTree()\n",
    "for x in [10, 5, 1]:\n",
    "    t.add(x)\n",
    "t.pprint()"
   ]
  },
  {
   "cell_type": "code",
   "execution_count": null,
   "metadata": {},
   "outputs": [],
   "source": [
    "# broken!\n",
    "t = AVLTree()\n",
    "for x in [10, 5, 1, 2, 3]:\n",
    "    t.add(x)\n",
    "t.pprint()"
   ]
  },
  {
   "cell_type": "markdown",
   "metadata": {},
   "source": [
    "##### 1.  Rebalancing on removal\n",
    "\n"
   ]
  },
  {
   "cell_type": "code",
   "execution_count": null,
   "metadata": {},
   "outputs": [],
   "source": [
    "class AVLTree(BSTree):\n",
    "    class Node:\n",
    "    def __init__(self, val, left=None, right=None):\n",
    "    self.val = val\n",
    "    self.left = left\n",
    "    self.right = right\n",
    "\n",
    "    def rotate_right(self):\n",
    "    n = self.left\n",
    "    self.val, n.val = n.val, self.val\n",
    "    self.left, n.left, self.right, n.right = n.left, n.right, n, self.right\n",
    "\n",
    "    def rotate_left(self):\n",
    "    pass\n",
    "\n",
    "    @staticmethod\n",
    "    def height(n):\n",
    "    if not n:\n",
    "    return 0\n",
    "    else:\n",
    "    return max(1+AVLTree.Node.height(n.left), 1+AVLTree.Node.height(n.right))\n",
    "\n",
    "    @staticmethod\n",
    "    def rebalance(t):\n",
    "    if AVLTree.Node.height(t.left) > AVLTree.Node.height(t.right):\n",
    "    if AVLTree.Node.height(t.left.left) >= AVLTree.Node.height(t.left.right):\n",
    "    # left-left\n",
    "    print('left-left imbalance detected')\n",
    "    t.rotate_right()\n",
    "    else:\n",
    "    # left-right\n",
    "    print('left-right imbalance detected')\n",
    "    t.left.rotate_left()\n",
    "    t.rotate_right()\n",
    "    else:\n",
    "    pass\n",
    "\n",
    "    def add(self, val):\n",
    "    assert(val not in self)\n",
    "    def add_rec(node):\n",
    "    if not node:\n",
    "    return AVLTree.Node(val)\n",
    "    elif val < node.val:\n",
    "    node.left = add_rec(node.left)\n",
    "    else:\n",
    "    node.right = add_rec(node.right)\n",
    "    if abs(AVLTree.Node.height(node.left) - AVLTree.Node.height(node.right)) >= 2:\n",
    "    AVLTree.rebalance(node)\n",
    "    return node\n",
    "    self.root = add_rec(self.root)\n",
    "    self.size += 1\n",
    "\n",
    "    def __delitem__(self, val):\n",
    "    assert(val in self)\n",
    "    def delitem_rec(node):\n",
    "    if val < node.val:\n",
    "    node.left = delitem_rec(node.left)\n",
    "    elif val > node.val:\n",
    "    node.right = delitem_rec(node.right)\n",
    "    else:\n",
    "    if not node.left and not node.right:\n",
    "    return None\n",
    "    elif node.left and not node.right:\n",
    "    return node.left\n",
    "    elif node.right and not node.left:\n",
    "    return node.right\n",
    "    else:\n",
    "    # remove the largest value from the left subtree (t) as a replacement\n",
    "    # for the root value of this tree\n",
    "    t = node.left\n",
    "    if not t.right:\n",
    "    node.val = t.val\n",
    "    node.left = t.left\n",
    "    else:\n",
    "    n = t\n",
    "    while n.right.right:\n",
    "    n = n.right\n",
    "    t = n.right\n",
    "    n.right = t.left\n",
    "    node.val = t.val\n",
    "    # detect and fix imbalance\n",
    "    return node\n",
    "\n",
    "    self.root = delitem_rec(self.root)\n",
    "    self.size -= 1"
   ]
  },
  {
   "cell_type": "code",
   "execution_count": null,
   "metadata": {},
   "outputs": [],
   "source": [
    "t = AVLTree()\n",
    "for x in [10, 5, 15, 2]:\n",
    "    t.add(x)\n",
    "t.pprint()"
   ]
  },
  {
   "cell_type": "code",
   "execution_count": null,
   "metadata": {},
   "outputs": [],
   "source": [
    "del t[15]\n",
    "t.pprint()"
   ]
  },
  {
   "cell_type": "code",
   "execution_count": null,
   "metadata": {},
   "outputs": [],
   "source": [
    "t = AVLTree()\n",
    "for x in range(31, 0, -1):\n",
    "    t.add(x)\n",
    "t.pprint()"
   ]
  },
  {
   "cell_type": "code",
   "execution_count": null,
   "metadata": {},
   "outputs": [],
   "source": [
    "del t[15]\n",
    "del t[14]\n",
    "t.pprint()"
   ]
  },
  {
   "cell_type": "code",
   "execution_count": null,
   "metadata": {},
   "outputs": [],
   "source": [
    "del t[16]\n",
    "t.pprint()"
   ]
  },
  {
   "cell_type": "markdown",
   "metadata": {},
   "source": [
    "#### Hashtables\n",
    "\n"
   ]
  },
  {
   "cell_type": "markdown",
   "metadata": {},
   "source": [
    "##### Agenda\n",
    "\n"
   ]
  },
  {
   "cell_type": "markdown",
   "metadata": {},
   "source": [
    "-   Discussion: pros/cons of array-backed and linked structures\n",
    "-   Comparison to `set` and `dict`\n",
    "-   The *map* ADT\n",
    "-   Direct lookups via *Hashing*\n",
    "-   Hashtables\n",
    "    -   Collisions and the \"Birthday problem\"\n",
    "\n",
    "-   Runtime analysis & Discussion\n",
    "\n"
   ]
  },
  {
   "cell_type": "markdown",
   "metadata": {},
   "source": [
    "##### Discussion: pros/cons of array-backed and linked structures\n",
    "\n"
   ]
  },
  {
   "cell_type": "markdown",
   "metadata": {},
   "source": [
    "Between the array-backed and linked list we have:\n",
    "\n",
    "1.  $O(1)$ indexing (array-backed)\n",
    "2.  $O(1)$ appending (array-backed & linked)\n",
    "3.  $O(1)$ insertion/deletion without indexing (linked)\n",
    "4.  $O(N)$ linear search (unsorted)\n",
    "5.  $O(\\log N)$ binary search, when sorted (only array-backed lists)\n",
    "\n"
   ]
  },
  {
   "cell_type": "markdown",
   "metadata": {},
   "source": [
    "##### Comparison to `set` and `dict`\n",
    "\n"
   ]
  },
  {
   "cell_type": "markdown",
   "metadata": {},
   "source": [
    "The `set` and `dict` types don't support positional access (i.e., by\n",
    "index), but do support lookup/search. How fast do they fare compared to\n",
    "lists?\n",
    "\n"
   ]
  },
  {
   "cell_type": "code",
   "execution_count": null,
   "metadata": {},
   "outputs": [],
   "source": [
    "import timeit\n",
    "\n",
    "def lin_search(lst, x):\n",
    "    return x in lst\n",
    "\n",
    "def bin_search(lst, x):\n",
    "    # assumes lst is sorted\n",
    "    low = 0\n",
    "    hi  = len(lst)-1\n",
    "    while low <= hi:\n",
    "    mid = (low + hi) // 2\n",
    "    if x < lst[mid]:\n",
    "    hi  = mid - 1\n",
    "    elif x < lst[mid]:\n",
    "    low = mid + 1\n",
    "    else:\n",
    "    return True\n",
    "    else:\n",
    "    return False\n",
    "\n",
    "def set_search(st, x):\n",
    "    return x in st\n",
    "\n",
    "\n",
    "def dict_search(dct, x):\n",
    "    return x in dct"
   ]
  },
  {
   "cell_type": "code",
   "execution_count": null,
   "metadata": {},
   "outputs": [],
   "source": [
    "%matplotlib inline\n",
    "import matplotlib.pyplot as plt\n",
    "import numpy as np\n",
    "import random\n",
    "\n",
    "ns = np.linspace(100, 10_000, 50, dtype=int)\n",
    "\n",
    "ts_linsearch = [timeit.timeit('lin_search(lst, lst[-1])',\n",
    "                                setup='lst = list(range({})); random.shuffle(lst)'.format(n),\n",
    "                                globals=globals(),\n",
    "                                number=100)\n",
    "    for n in ns]\n",
    "\n",
    "ts_binsearch = [timeit.timeit('bin_search(lst, 0)',\n",
    "                                setup='lst = list(range({}))'.format(n),\n",
    "                                globals=globals(),\n",
    "                                number=100)\n",
    "    for n in ns]\n",
    "\n",
    "\n",
    "ts_setsearch = [timeit.timeit(#'set_search(st, 0)',\n",
    "                                'set_search(st, {})'.format(random.randrange(n)),\n",
    "                                setup='lst = list(range({})); random.shuffle(lst);'\n",
    "    'st = set(lst)'.format(n),\n",
    "                                globals=globals(),\n",
    "                                number=100)\n",
    "    for n in ns]\n",
    "\n",
    "ts_dctsearch = [timeit.timeit(#'dict_search(dct, 0)',\n",
    "                                'dict_search(dct, {})'.format(random.randrange(n)),\n",
    "                                setup='lst = list(range({})); random.shuffle(lst);'\n",
    "    'dct = {{x:x for x in lst}}'.format(n),\n",
    "                                globals=globals(),\n",
    "                                number=100)\n",
    "    for n in ns]"
   ]
  },
  {
   "cell_type": "code",
   "execution_count": null,
   "metadata": {},
   "outputs": [],
   "source": [
    "plt.plot(ns, ts_linsearch, 'or')\n",
    "plt.plot(ns, ts_binsearch, 'sg')\n",
    "plt.plot(ns, ts_setsearch, 'db')\n",
    "plt.plot(ns, ts_dctsearch, 'om');"
   ]
  },
  {
   "cell_type": "markdown",
   "metadata": {},
   "source": [
    "![img](c330ab22e12845d0448e5bd0545018bfe8504f19.png)\n",
    "\n",
    "It looks like sets and dictionaries support lookup in constant time!\n",
    "How?!\n",
    "\n"
   ]
  },
  {
   "cell_type": "markdown",
   "metadata": {},
   "source": [
    "##### The `map` ADT\n",
    "\n"
   ]
  },
  {
   "cell_type": "markdown",
   "metadata": {},
   "source": [
    "We will focus next on the \"*map*\" abstract data type (aka \"associative\n",
    "array\" or \"dictionary\"), which is used to associate keys (which must be\n",
    "unique) with values. Ipython's `dict` type is an implementation of the\n",
    "map ADT.\n",
    "\n",
    "Given an implementation of a map, it is trivial to implement a *set* on\n",
    "top of it (how?).\n",
    "\n",
    "Here's a simple map API:\n",
    "\n"
   ]
  },
  {
   "cell_type": "code",
   "execution_count": null,
   "metadata": {},
   "outputs": [],
   "source": [
    "class MapDS:\n",
    "    def __init__(self):\n",
    "    self.data = {}\n",
    "\n",
    "    def __setitem__(self, key, value):\n",
    "    self.data[key] = value\n",
    "\n",
    "\n",
    "\n",
    "    def __getitem__(self, key):\n",
    "    return self.data[key]\n",
    "\n",
    "    def __contains__(self, key):\n",
    "    return self.data.contains(key)"
   ]
  },
  {
   "cell_type": "code",
   "execution_count": null,
   "metadata": {},
   "outputs": [],
   "source": [
    "m = MapDS()\n",
    "m['batman'] = 'bruce wayne'\n",
    "m['superman'] = 'clark kent'\n",
    "m['spiderman'] = 'peter parker'"
   ]
  },
  {
   "cell_type": "code",
   "execution_count": null,
   "metadata": {},
   "outputs": [],
   "source": [
    "m['batman']"
   ]
  },
  {
   "cell_type": "markdown",
   "metadata": {},
   "source": [
    "    'bruce wayne'\n",
    "\n"
   ]
  },
  {
   "cell_type": "code",
   "execution_count": 143,
   "metadata": {},
   "outputs": [
    {
     "ename": "TypeError",
     "evalue": "'module' object does not support item assignment",
     "output_type": "error",
     "traceback": [
      "\u001b[0;31m---------------------------------------------------------------------------\u001b[0m",
      "\u001b[0;31mTypeError\u001b[0m                                 Traceback (most recent call last)",
      "\u001b[0;32m<ipython-input-143-33fd6367dcb7>\u001b[0m in \u001b[0;36m<module>\u001b[0;34m\u001b[0m\n\u001b[0;32m----> 1\u001b[0;31m \u001b[0mm\u001b[0m\u001b[0;34m[\u001b[0m\u001b[0;34m'batman'\u001b[0m\u001b[0;34m]\u001b[0m \u001b[0;34m=\u001b[0m \u001b[0;34m'tony stark'\u001b[0m\u001b[0;34m\u001b[0m\u001b[0;34m\u001b[0m\u001b[0m\n\u001b[0m",
      "\u001b[0;31mTypeError\u001b[0m: 'module' object does not support item assignment"
     ]
    }
   ],
   "source": [
    "m['batman'] = 'tony stark'"
   ]
  },
  {
   "cell_type": "code",
   "execution_count": null,
   "metadata": {},
   "outputs": [],
   "source": [
    "m['batman']"
   ]
  },
  {
   "cell_type": "markdown",
   "metadata": {},
   "source": [
    "    'tony stark'\n",
    "\n",
    "How do we make the leap from linear runtime complexity to constant?!\n",
    "\n"
   ]
  },
  {
   "cell_type": "markdown",
   "metadata": {},
   "source": [
    "##### Direct lookups via *Hashing*\n",
    "\n"
   ]
  },
  {
   "cell_type": "markdown",
   "metadata": {},
   "source": [
    "Hashes (a.k.a. hash codes or hash values) are simply numerical values\n",
    "computed for objects.\n",
    "\n"
   ]
  },
  {
   "cell_type": "code",
   "execution_count": null,
   "metadata": {},
   "outputs": [],
   "source": [
    "hash('hello')"
   ]
  },
  {
   "cell_type": "markdown",
   "metadata": {},
   "source": [
    "    -954384285558724197\n",
    "\n"
   ]
  },
  {
   "cell_type": "code",
   "execution_count": null,
   "metadata": {},
   "outputs": [],
   "source": [
    "hash('batman')"
   ]
  },
  {
   "cell_type": "markdown",
   "metadata": {},
   "source": [
    "    5465486877337622348\n",
    "\n"
   ]
  },
  {
   "cell_type": "code",
   "execution_count": null,
   "metadata": {},
   "outputs": [],
   "source": [
    "hash('batmen')"
   ]
  },
  {
   "cell_type": "markdown",
   "metadata": {},
   "source": [
    "    8014717029909393586\n",
    "\n"
   ]
  },
  {
   "cell_type": "code",
   "execution_count": null,
   "metadata": {},
   "outputs": [],
   "source": [
    "[hash(s) for s in ['different', 'objects', 'have', 'very', 'different', 'hashes']]"
   ]
  },
  {
   "cell_type": "markdown",
   "metadata": {},
   "source": [
    "    [2429629120202328647,\n",
    "       8372779892654583019,\n",
    "       -8906997482930836953,\n",
    "       853381216711768263,\n",
    "       2429629120202328647,\n",
    "       7225739097362972930]\n",
    "\n"
   ]
  },
  {
   "cell_type": "code",
   "execution_count": null,
   "metadata": {},
   "outputs": [],
   "source": [
    "[hash(s)%100 for s in ['different', 'objects', 'have', 'very', 'different', 'hashes']]"
   ]
  },
  {
   "cell_type": "markdown",
   "metadata": {},
   "source": [
    "    [47, 19, 47, 63, 47, 30]\n",
    "\n"
   ]
  },
  {
   "cell_type": "markdown",
   "metadata": {},
   "source": [
    "##### Hashtables\n",
    "\n"
   ]
  },
  {
   "cell_type": "code",
   "execution_count": null,
   "metadata": {},
   "outputs": [],
   "source": [
    "class Hashtable:\n",
    "    def __init__(self, n_buckets):\n",
    "    self.buckets = [[]] * n_buckets\n",
    "\n",
    "    def __setitem__(self, key, val):\n",
    "    h = hash(key)\n",
    "    bucket = self.buckets[h % len(self.buckets)]\n",
    "    for k in bucket:\n",
    "               if(k[0] == key):\n",
    "                   k[1] = val\n",
    "    bucket.append([key,val])\n",
    "\n",
    "    def __getitem__(self, key):\n",
    "    h = hash(key)\n",
    "    for k in self.buckets[h % len(self.buckets)]:\n",
    "    if(k[0] == key):\n",
    "                   return k[1]\n",
    "    raise Exception(f\"key {key} not in hashtable\")\n",
    "\n",
    "    def __contains__(self, key):\n",
    "    try:\n",
    "    _ = self[key]\n",
    "\n",
    "    return True\n",
    "    except:\n",
    "    return False"
   ]
  },
  {
   "cell_type": "code",
   "execution_count": null,
   "metadata": {},
   "outputs": [],
   "source": [
    "ht = Hashtable(100)\n",
    "ht['spiderman'] = 'peter parker'\n",
    "ht['batman'] = 'bruce wayne'\n",
    "ht['superman'] = 'clark kent'"
   ]
  },
  {
   "cell_type": "code",
   "execution_count": null,
   "metadata": {},
   "outputs": [],
   "source": [
    "ht['spiderman']"
   ]
  },
  {
   "cell_type": "markdown",
   "metadata": {},
   "source": [
    "    'peter parker'\n",
    "\n"
   ]
  },
  {
   "cell_type": "code",
   "execution_count": null,
   "metadata": {},
   "outputs": [],
   "source": [
    "ht['batman']"
   ]
  },
  {
   "cell_type": "markdown",
   "metadata": {},
   "source": [
    "    'bruce wayne'\n",
    "\n"
   ]
  },
  {
   "cell_type": "code",
   "execution_count": null,
   "metadata": {},
   "outputs": [],
   "source": [
    "ht['superman']"
   ]
  },
  {
   "cell_type": "markdown",
   "metadata": {},
   "source": [
    "    'clark kent'\n",
    "\n"
   ]
  },
  {
   "cell_type": "code",
   "execution_count": null,
   "metadata": {},
   "outputs": [],
   "source": [
    "ht['superman'] = 'bob'\n",
    "ht['superman']"
   ]
  },
  {
   "cell_type": "markdown",
   "metadata": {},
   "source": [
    "    'bob'\n",
    "\n"
   ]
  },
  {
   "cell_type": "markdown",
   "metadata": {},
   "source": [
    "##### On Collisions\n",
    "\n"
   ]
  },
  {
   "cell_type": "markdown",
   "metadata": {},
   "source": [
    "###### The \"Birthday Problem\"\n",
    "\n"
   ]
  },
  {
   "cell_type": "markdown",
   "metadata": {},
   "source": [
    "Problem statement: Given $N$ people at a party, how likely is it that at\n",
    "least two people will have the same birthday?\n",
    "\n"
   ]
  },
  {
   "cell_type": "code",
   "execution_count": 144,
   "metadata": {},
   "outputs": [
    {
     "ename": "IndentationError",
     "evalue": "expected an indented block (<ipython-input-144-12b77cb213d9>, line 4)",
     "output_type": "error",
     "traceback": [
      "\u001b[0;36m  File \u001b[0;32m\"<ipython-input-144-12b77cb213d9>\"\u001b[0;36m, line \u001b[0;32m4\u001b[0m\n\u001b[0;31m    p_inv *= n / 365\u001b[0m\n\u001b[0m    ^\u001b[0m\n\u001b[0;31mIndentationError\u001b[0m\u001b[0;31m:\u001b[0m expected an indented block\n"
     ]
    }
   ],
   "source": [
    "def birthday_p(n_people):\n",
    "    p_inv = 1\n",
    "    for n in range(365, 365-n_people, -1):\n",
    "    p_inv *= n / 365\n",
    "    return 1 - p_inv"
   ]
  },
  {
   "cell_type": "code",
   "execution_count": null,
   "metadata": {},
   "outputs": [],
   "source": [
    "birthday_p(3)"
   ]
  },
  {
   "cell_type": "markdown",
   "metadata": {},
   "source": [
    "    0.008204165884781345\n",
    "\n"
   ]
  },
  {
   "cell_type": "code",
   "execution_count": null,
   "metadata": {},
   "outputs": [],
   "source": [
    "1-364/365*363/365"
   ]
  },
  {
   "cell_type": "markdown",
   "metadata": {},
   "source": [
    "    0.008204165884781456\n",
    "\n"
   ]
  },
  {
   "cell_type": "code",
   "execution_count": null,
   "metadata": {},
   "outputs": [],
   "source": [
    "n_people = range(1, 80)\n",
    "plt.plot(n_people, [birthday_p(n) for n in n_people]);"
   ]
  },
  {
   "cell_type": "markdown",
   "metadata": {},
   "source": [
    "![img](d764b2052716d768ffe045cf53c2b0c13c9c5cb6.png)\n",
    "\n"
   ]
  },
  {
   "cell_type": "markdown",
   "metadata": {},
   "source": [
    "###### General collision statistics\n",
    "\n"
   ]
  },
  {
   "cell_type": "markdown",
   "metadata": {},
   "source": [
    "Repeat the birthday problem, but with a given number of values and\n",
    "\"buckets\" that are allotted to hold them. How likely is it that two or\n",
    "more values will map to the same bucket?\n",
    "\n"
   ]
  },
  {
   "cell_type": "code",
   "execution_count": null,
   "metadata": {},
   "outputs": [],
   "source": [
    "def collision_p(n_values, n_buckets):\n",
    "    p_inv = 1\n",
    "    for n in range(n_buckets, n_buckets-n_values, -1):\n",
    "    p_inv *= n / n_buckets\n",
    "    return 1 - p_inv"
   ]
  },
  {
   "cell_type": "code",
   "execution_count": null,
   "metadata": {},
   "outputs": [],
   "source": [
    "collision_p(23, 365) # same as birthday problem, for 23 people"
   ]
  },
  {
   "cell_type": "markdown",
   "metadata": {},
   "source": [
    "    0.5072972343239857\n",
    "\n"
   ]
  },
  {
   "cell_type": "code",
   "execution_count": null,
   "metadata": {},
   "outputs": [],
   "source": [
    "collision_p(10, 100)"
   ]
  },
  {
   "cell_type": "markdown",
   "metadata": {},
   "source": [
    "    0.37184349044470544\n",
    "\n"
   ]
  },
  {
   "cell_type": "code",
   "execution_count": null,
   "metadata": {},
   "outputs": [],
   "source": [
    "collision_p(100, 1000)"
   ]
  },
  {
   "cell_type": "markdown",
   "metadata": {},
   "source": [
    "    0.9940410733677595\n",
    "\n"
   ]
  },
  {
   "cell_type": "code",
   "execution_count": null,
   "metadata": {},
   "outputs": [],
   "source": [
    "# keeping number of values fixed at 100, but vary number of buckets: visualize probability of collision\n",
    "n_buckets = range(100, 100001, 1000)\n",
    "plt.plot(n_buckets, [collision_p(100, nb) for nb in n_buckets]);"
   ]
  },
  {
   "cell_type": "markdown",
   "metadata": {},
   "source": [
    "![img](8f125191a3fc94123848d21d57e9a7ae712b566a.png)\n",
    "\n"
   ]
  },
  {
   "cell_type": "code",
   "execution_count": null,
   "metadata": {},
   "outputs": [],
   "source": [
    "def avg_num_collisions(n, b):\n",
    "    \"\"\"Returns the expected number of collisions for n values uniformly distributed\n",
    "    over a hashtable of b buckets. Based on (fairly) elementary probability theory.\n",
    "    (Pay attention in MATH 474!)\"\"\"\n",
    "    return n - b + b * (1 - 1/b)**n"
   ]
  },
  {
   "cell_type": "code",
   "execution_count": null,
   "metadata": {},
   "outputs": [],
   "source": [
    "avg_num_collisions(28, 365)"
   ]
  },
  {
   "cell_type": "markdown",
   "metadata": {},
   "source": [
    "    1.011442040700615\n",
    "\n"
   ]
  },
  {
   "cell_type": "code",
   "execution_count": null,
   "metadata": {},
   "outputs": [],
   "source": [
    "avg_num_collisions(1000, 1000)"
   ]
  },
  {
   "cell_type": "markdown",
   "metadata": {},
   "source": [
    "    367.6954247709637\n",
    "\n"
   ]
  },
  {
   "cell_type": "code",
   "execution_count": 145,
   "metadata": {},
   "outputs": [
    {
     "ename": "NameError",
     "evalue": "name 'avg_num_collisions' is not defined",
     "output_type": "error",
     "traceback": [
      "\u001b[0;31m---------------------------------------------------------------------------\u001b[0m",
      "\u001b[0;31mNameError\u001b[0m                                 Traceback (most recent call last)",
      "\u001b[0;32m<ipython-input-145-c29953a20e5e>\u001b[0m in \u001b[0;36m<module>\u001b[0;34m\u001b[0m\n\u001b[0;32m----> 1\u001b[0;31m \u001b[0mavg_num_collisions\u001b[0m\u001b[0;34m(\u001b[0m\u001b[0;36m1000\u001b[0m\u001b[0;34m,\u001b[0m \u001b[0;36m10000\u001b[0m\u001b[0;34m)\u001b[0m\u001b[0;34m\u001b[0m\u001b[0;34m\u001b[0m\u001b[0m\n\u001b[0m",
      "\u001b[0;31mNameError\u001b[0m: name 'avg_num_collisions' is not defined"
     ]
    }
   ],
   "source": [
    "avg_num_collisions(1000, 10000)"
   ]
  },
  {
   "cell_type": "markdown",
   "metadata": {},
   "source": [
    "    48.32893558556316\n",
    "\n"
   ]
  },
  {
   "cell_type": "markdown",
   "metadata": {},
   "source": [
    "##### Dealing with Collisions\n",
    "\n"
   ]
  },
  {
   "cell_type": "markdown",
   "metadata": {},
   "source": [
    "To deal with collisions in a hashtable, we simply create a \"chain\" of\n",
    "key/value pairs for each bucket where collisions occur. The chain needs\n",
    "to be a data structure that supports quick insertion &#x2014; natural choice:\n",
    "the linked list!\n",
    "\n"
   ]
  },
  {
   "cell_type": "code",
   "execution_count": null,
   "metadata": {},
   "outputs": [],
   "source": [
    "class Hashtable:\n",
    "    class Node:\n",
    "    def __init__(self, key, val, next=None):\n",
    "    self.key = key\n",
    "    self.val = val\n",
    "    self.next = next\n",
    "\n",
    "    def __init__(self, n_buckets=1000):\n",
    "    self.buckets = [None] * n_buckets\n",
    "\n",
    "    def __setitem__(self, key, val):\n",
    "    bidx = hash(key) % len(self.buckets)\n",
    "\n",
    "    def __getitem__(self, key):\n",
    "    bidx = hash(key) % len(self.buckets)\n",
    "\n",
    "    def __contains__(self, key):\n",
    "    try:\n",
    "    _ = self[key]\n",
    "    return True\n",
    "    except:\n",
    "    return False"
   ]
  },
  {
   "cell_type": "code",
   "execution_count": null,
   "metadata": {},
   "outputs": [],
   "source": [
    "ht = Hashtable(1)\n",
    "ht['batman'] = 'bruce wayne'\n",
    "ht['superman'] = 'clark kent'\n",
    "ht['spiderman'] = 'peter parker'"
   ]
  },
  {
   "cell_type": "code",
   "execution_count": null,
   "metadata": {},
   "outputs": [],
   "source": [
    "ht['batman']"
   ]
  },
  {
   "cell_type": "code",
   "execution_count": null,
   "metadata": {},
   "outputs": [],
   "source": [
    "ht['superman']"
   ]
  },
  {
   "cell_type": "code",
   "execution_count": null,
   "metadata": {},
   "outputs": [],
   "source": [
    "ht['spiderman']"
   ]
  },
  {
   "cell_type": "code",
   "execution_count": null,
   "metadata": {},
   "outputs": [],
   "source": [
    "def ht_search(ht, x):\n",
    "    return x in ht\n",
    "\n",
    "def init_ht(size):\n",
    "    ht = Hashtable(size)\n",
    "    for x in range(size):\n",
    "    ht[x] = x\n",
    "    return ht\n",
    "\n",
    "ns = np.linspace(100, 10_000, 50, dtype=int)\n",
    "ts_htsearch = [timeit.timeit('ht_search(ht, 0)',\n",
    "                               #'ht_search(ht, {})'.format(random.randrange(n)),\n",
    "                               setup='ht = init_ht({})'.format(n),\n",
    "                               globals=globals(),\n",
    "                               number=100)\n",
    "                 for n in ns]"
   ]
  },
  {
   "cell_type": "code",
   "execution_count": null,
   "metadata": {},
   "outputs": [],
   "source": [
    "plt.plot(ns, ts_binsearch, 'ro')\n",
    "plt.plot(ns, ts_htsearch, 'gs')\n",
    "plt.plot(ns, ts_dctsearch, 'b^');"
   ]
  },
  {
   "cell_type": "markdown",
   "metadata": {},
   "source": [
    "![img](6c2abfa5acc0a1b88f6131ede360364e10c9ce2a.png)\n",
    "\n"
   ]
  },
  {
   "cell_type": "markdown",
   "metadata": {},
   "source": [
    "##### Loose ends\n",
    "\n"
   ]
  },
  {
   "cell_type": "markdown",
   "metadata": {},
   "source": [
    "###### Iteration\n",
    "\n"
   ]
  },
  {
   "cell_type": "code",
   "execution_count": null,
   "metadata": {},
   "outputs": [],
   "source": [
    "class Hashtable(Hashtable):\n",
    "    def __iter__(self):\n",
    "    pass"
   ]
  },
  {
   "cell_type": "code",
   "execution_count": null,
   "metadata": {},
   "outputs": [],
   "source": [
    "ht = Hashtable(100)\n",
    "ht['batman'] = 'bruce wayne'\n",
    "ht['superman'] = 'clark kent'\n",
    "ht['spiderman'] = 'peter parker'"
   ]
  },
  {
   "cell_type": "code",
   "execution_count": null,
   "metadata": {},
   "outputs": [],
   "source": [
    "for k in ht:\n",
    "    print(k)"
   ]
  },
  {
   "cell_type": "markdown",
   "metadata": {},
   "source": [
    "    \n",
    "    TypeErrorTraceback (most recent call last)\n",
    "    <ipython-input-83-43c83c094cda> in <module>\n",
    "    ----> 1 for k in ht:\n",
    "            2     print(k)\n",
    "    \n",
    "    TypeError: iter() returned non-iterator of type 'NoneType'\n",
    "\n"
   ]
  },
  {
   "cell_type": "markdown",
   "metadata": {},
   "source": [
    "###### Key ordering\n",
    "\n"
   ]
  },
  {
   "cell_type": "code",
   "execution_count": null,
   "metadata": {},
   "outputs": [],
   "source": [
    "ht = Hashtable()\n",
    "d = {}\n",
    "for x in 'banana apple cat dog elephant'.split():\n",
    "    d[x[0]] = x\n",
    "    ht[x[0]] = x"
   ]
  },
  {
   "cell_type": "code",
   "execution_count": null,
   "metadata": {},
   "outputs": [],
   "source": [
    "for k in d:\n",
    "    print(k, '=>', d[k])"
   ]
  },
  {
   "cell_type": "markdown",
   "metadata": {},
   "source": [
    "    b => banana\n",
    "    a => apple\n",
    "    c => cat\n",
    "    d => dog\n",
    "    e => elephant\n",
    "\n"
   ]
  },
  {
   "cell_type": "code",
   "execution_count": null,
   "metadata": {},
   "outputs": [],
   "source": [
    "for k in ht:\n",
    "    print(k, '=>', ht[k])"
   ]
  },
  {
   "cell_type": "markdown",
   "metadata": {},
   "source": [
    "    \n",
    "    TypeErrorTraceback (most recent call last)\n",
    "    <ipython-input-86-74efa9b88228> in <module>\n",
    "    ----> 1 for k in ht:\n",
    "            2     print(k, '=>', ht[k])\n",
    "    \n",
    "    TypeError: iter() returned non-iterator of type 'NoneType'\n",
    "\n"
   ]
  },
  {
   "cell_type": "markdown",
   "metadata": {},
   "source": [
    "###### Load factor & Rehashing\n",
    "\n"
   ]
  },
  {
   "cell_type": "markdown",
   "metadata": {},
   "source": [
    "It is clear that the ratio of the number of keys to the number of\n",
    "buckets (known as the **load factor**) can have a significant effect on\n",
    "the performance of a hashtable.\n",
    "\n",
    "A fixed number of buckets doesn't make sense, as it might be wasteful\n",
    "for a small number of keys, and also scale poorly to a relatively large\n",
    "number of keys. And it also doesn't make sense to have the user of the\n",
    "hashtable manually specify the number of buckets (which is a low-level\n",
    "implementation detail).\n",
    "\n",
    "Instead: a practical hashtable implementation would start with a\n",
    "relatively small number of buckets, and if/when the load factor\n",
    "increases beyond some threshold (typically 1), it *dynamically increases\n",
    "the number of buckets* (typically to twice the previous number). This\n",
    "requires that all existing keys be *rehashed* to new buckets (why?).\n",
    "\n"
   ]
  },
  {
   "cell_type": "markdown",
   "metadata": {},
   "source": [
    "###### Uniform hashing\n",
    "\n"
   ]
  },
  {
   "cell_type": "markdown",
   "metadata": {},
   "source": [
    "Ultimately, the performance of a hashtable also heavily depends on\n",
    "hashcodes being *uniformly distributed* &#x2014; i.e., where, statistically,\n",
    "each bucket has roughly the same number of keys hashing to it. Designing\n",
    "hash functions that do this is an algorithmic problem that's outside the\n",
    "scope of this class!\n",
    "\n"
   ]
  },
  {
   "cell_type": "markdown",
   "metadata": {},
   "source": [
    "##### Runtime analysis & Discussion\n",
    "\n"
   ]
  },
  {
   "cell_type": "markdown",
   "metadata": {},
   "source": [
    "For a hashtable with $N$ key/value entries, we have the following\n",
    "*worst-case runtime complexity*:\n",
    "\n",
    "-   Insertion: $O(N)$\n",
    "-   Lookup: $O(N)$\n",
    "-   Deletion: $O(N)$\n",
    "\n",
    "Assuming uniform hashing and rehashing behavior described above, it is\n",
    "also possible to prove that hashtables have $O(1)$ *amortized runtime\n",
    "complexity* for the above operations. Proving this is also beyond the\n",
    "scope of this class (but is demonstrated by empirical data).\n",
    "\n"
   ]
  },
  {
   "cell_type": "markdown",
   "metadata": {},
   "source": [
    "##### Vocabulary list\n",
    "\n"
   ]
  },
  {
   "cell_type": "markdown",
   "metadata": {},
   "source": [
    "-   hashtable\n",
    "-   hashing and hashes\n",
    "-   collision\n",
    "-   hash buckets & chains\n",
    "-   birthday problem\n",
    "-   load factor\n",
    "-   rehashing\n",
    "\n",
    "---\n",
    "\n"
   ]
  },
  {
   "cell_type": "markdown",
   "metadata": {},
   "source": [
    "##### Addendum: On *Hashability*\n",
    "\n"
   ]
  },
  {
   "cell_type": "markdown",
   "metadata": {},
   "source": [
    "Remember: *a given object must always hash to the same value*. This is\n",
    "required so that we can always map the object to the same hash bucket.\n",
    "\n",
    "Hashcodes for collections of objects are usually computed from the\n",
    "hashcodes of its contents, e.g., the hash of a tuple is a function of\n",
    "the hashes of the objects in said tuple:\n",
    "\n"
   ]
  },
  {
   "cell_type": "code",
   "execution_count": 146,
   "metadata": {},
   "outputs": [
    {
     "data": {
      "text/plain": [
       "-4974074849786286790"
      ]
     },
     "execution_count": 146,
     "metadata": {},
     "output_type": "execute_result"
    }
   ],
   "source": [
    "hash(('two', 'strings'))"
   ]
  },
  {
   "cell_type": "markdown",
   "metadata": {},
   "source": [
    "    4246727162495154915\n",
    "\n",
    "This is useful. It allows us to use a tuple, for instance, as a key for\n",
    "a hashtable.\n",
    "\n",
    "However, if the collection of objects is *mutable* &#x2014; i.e., we can\n",
    "alter its contents &#x2014; this means that we can potentially change its\n",
    "hashcode.\\`\n",
    "\n",
    "If we were to use such a collection as a key in a hashtable, and alter\n",
    "the collection after it's been assigned to a particular bucket, this\n",
    "leads to a serious problem: the collection may now be in the wrong\n",
    "bucket (as it was assigned to a bucket based on its original hashcode)!\n",
    "\n",
    "For this reason, only immutable types are, by default, hashable in\n",
    "Ipython. So while we can use integers, strings, and tuples as keys in\n",
    "dictionaries, lists (which are mutable) cannot be used. Indeed, Ipython\n",
    "marks built-in mutable types as \"unhashable\", e.g.,\n",
    "\n"
   ]
  },
  {
   "cell_type": "code",
   "execution_count": 147,
   "metadata": {},
   "outputs": [
    {
     "ename": "TypeError",
     "evalue": "unhashable type: 'list'",
     "output_type": "error",
     "traceback": [
      "\u001b[0;31m---------------------------------------------------------------------------\u001b[0m",
      "\u001b[0;31mTypeError\u001b[0m                                 Traceback (most recent call last)",
      "\u001b[0;32m<ipython-input-147-84d65be9aa35>\u001b[0m in \u001b[0;36m<module>\u001b[0;34m\u001b[0m\n\u001b[0;32m----> 1\u001b[0;31m \u001b[0mhash\u001b[0m\u001b[0;34m(\u001b[0m\u001b[0;34m[\u001b[0m\u001b[0;36m1\u001b[0m\u001b[0;34m,\u001b[0m \u001b[0;36m2\u001b[0m\u001b[0;34m,\u001b[0m \u001b[0;36m3\u001b[0m\u001b[0;34m]\u001b[0m\u001b[0;34m)\u001b[0m\u001b[0;34m\u001b[0m\u001b[0;34m\u001b[0m\u001b[0m\n\u001b[0m",
      "\u001b[0;31mTypeError\u001b[0m: unhashable type: 'list'"
     ]
    }
   ],
   "source": [
    "hash([1, 2, 3])"
   ]
  },
  {
   "cell_type": "markdown",
   "metadata": {},
   "source": [
    "    \n",
    "    TypeErrorTraceback (most recent call last)\n",
    "    <ipython-input-88-84d65be9aa35> in <module>\n",
    "    ----> 1 hash([1, 2, 3])\n",
    "    \n",
    "    TypeError: unhashable type: 'list'\n",
    "\n",
    "That said, Ipython does support hashing on instances of custom classes\n",
    "(which are mutable). This is because the default hash function\n",
    "implementation does not rely on the contents of instances of custom\n",
    "classes. E.g.,\n",
    "\n"
   ]
  },
  {
   "cell_type": "code",
   "execution_count": null,
   "metadata": {},
   "outputs": [],
   "source": [
    "class Student:\n",
    "    def __init__(self, fname, lname):\n",
    "    self.fname = fname\n",
    "    self.lname = lname"
   ]
  },
  {
   "cell_type": "code",
   "execution_count": null,
   "metadata": {},
   "outputs": [],
   "source": [
    "s = Student('John', 'Doe')\n",
    "hash(s)"
   ]
  },
  {
   "cell_type": "markdown",
   "metadata": {},
   "source": [
    "    298582137\n",
    "\n"
   ]
  },
  {
   "cell_type": "code",
   "execution_count": null,
   "metadata": {},
   "outputs": [],
   "source": [
    "s.fname = 'Jane'\n",
    "hash(s) # same as before mutation"
   ]
  },
  {
   "cell_type": "markdown",
   "metadata": {},
   "source": [
    "    298582137\n",
    "\n",
    "We can change the default behavior by providing our own hash function in\n",
    "`__hash__`, e.g.,\n",
    "\n"
   ]
  },
  {
   "cell_type": "code",
   "execution_count": null,
   "metadata": {},
   "outputs": [],
   "source": [
    "class Student:\n",
    "    def __init__(self, fname, lname):\n",
    "    self.fname = fname\n",
    "    self.lname = lname\n",
    "\n",
    "    def __hash__(self):\n",
    "    return hash(self.fname) + hash(self.lname)"
   ]
  },
  {
   "cell_type": "code",
   "execution_count": null,
   "metadata": {},
   "outputs": [],
   "source": [
    "s = Student('John', 'Doe')\n",
    "hash(s)"
   ]
  },
  {
   "cell_type": "markdown",
   "metadata": {},
   "source": [
    "    7828797879385466672\n",
    "\n"
   ]
  },
  {
   "cell_type": "code",
   "execution_count": null,
   "metadata": {},
   "outputs": [],
   "source": [
    "s.fname = 'Jane'\n",
    "hash(s)"
   ]
  },
  {
   "cell_type": "markdown",
   "metadata": {},
   "source": [
    "    -7042091445038950747\n",
    "\n",
    "But be careful: instances of this class are no longer suitable for use\n",
    "as keys in hashtables (or dictionaries), if you intend to mutate them\n",
    "after using them as keys!\n",
    "\n"
   ]
  },
  {
   "cell_type": "code",
   "execution_count": null,
   "metadata": {},
   "outputs": [],
   "source": []
  },
  {
   "cell_type": "markdown",
   "metadata": {},
   "source": [
    "### Searching, Sorting, and Timing\n",
    "\n"
   ]
  },
  {
   "cell_type": "markdown",
   "metadata": {},
   "source": [
    "#### Agenda\n",
    "\n"
   ]
  },
  {
   "cell_type": "markdown",
   "metadata": {},
   "source": [
    "1.  Timing\n",
    "    1.  Prelude: Timing list indexing\n",
    "    2.  Linear search\n",
    "    3.  Binary search\n",
    "    4.  Insertion sort\n",
    "\n"
   ]
  },
  {
   "cell_type": "markdown",
   "metadata": {},
   "source": [
    "#### 1.  Timing\n",
    "\n"
   ]
  },
  {
   "cell_type": "code",
   "execution_count": null,
   "metadata": {},
   "outputs": [],
   "source": [
    "import time\n",
    "time.time()"
   ]
  },
  {
   "cell_type": "code",
   "execution_count": null,
   "metadata": {},
   "outputs": [],
   "source": [
    "t1 = time.time()\n",
    "time.sleep(1)\n",
    "t2 = time.time()\n",
    "t2 - t1"
   ]
  },
  {
   "cell_type": "markdown",
   "metadata": {},
   "source": [
    "#### 1.  Prelude: Timing list indexing\n",
    "\n"
   ]
  },
  {
   "cell_type": "code",
   "execution_count": 148,
   "metadata": {},
   "outputs": [],
   "source": [
    "lst = [0] * 10**5"
   ]
  },
  {
   "cell_type": "code",
   "execution_count": 149,
   "metadata": {},
   "outputs": [
    {
     "data": {
      "text/plain": [
       "0.03881546099999866"
      ]
     },
     "execution_count": 149,
     "metadata": {},
     "output_type": "execute_result"
    }
   ],
   "source": [
    "import timeit\n",
    "timeit.timeit(stmt='lst[0]', globals=globals())"
   ]
  },
  {
   "cell_type": "code",
   "execution_count": 150,
   "metadata": {},
   "outputs": [
    {
     "data": {
      "text/plain": [
       "0.038906617999998616"
      ]
     },
     "execution_count": 150,
     "metadata": {},
     "output_type": "execute_result"
    }
   ],
   "source": [
    "timeit.timeit(stmt='lst[10**5-1]', globals=globals())"
   ]
  },
  {
   "cell_type": "code",
   "execution_count": 151,
   "metadata": {},
   "outputs": [],
   "source": [
    "times = [timeit.timeit(stmt='lst[{}]'.format(i),\n",
    "                         globals=globals(),\n",
    "                         number=100)\n",
    "           for i in range(10**5)]"
   ]
  },
  {
   "cell_type": "code",
   "execution_count": 152,
   "metadata": {},
   "outputs": [
    {
     "data": {
      "text/plain": [
       "[4.0359999999850515e-06,\n",
       " 3.5329999974464954e-06,\n",
       " 3.5469999986048606e-06,\n",
       " 6.919999997023751e-06,\n",
       " 3.723999995486338e-06,\n",
       " 3.7269999992872727e-06,\n",
       " 3.5950000025763984e-06,\n",
       " 3.4970000015732694e-06,\n",
       " 3.4840000040503583e-06,\n",
       " 3.5410000052138457e-06]"
      ]
     },
     "execution_count": 152,
     "metadata": {},
     "output_type": "execute_result"
    }
   ],
   "source": [
    "times[:10]"
   ]
  },
  {
   "cell_type": "code",
   "execution_count": 154,
   "metadata": {},
   "outputs": [
    {
     "data": {
      "image/png": "[encoded data removed]",
      "text/plain": [
       "<Figure size 432x288 with 1 Axes>"
      ]
     },
     "metadata": {
      "needs_background": "light"
     },
     "output_type": "display_data"
    }
   ],
   "source": [
    "%matplotlib inline\n",
    "import matplotlib.pyplot as plt\n",
    "plt.plot(times, 'ro')\n",
    "plt.show()"
   ]
  },
  {
   "cell_type": "markdown",
   "metadata": {},
   "source": [
    "Observation: accessing an element in a list by index takes a constant\n",
    " amount of time, regardless of position.\n",
    "\n",
    "How? **A Ipython list uses an array as its underlying data storage\n",
    "mechanism.** To access an element in an array, the interpreter:\n",
    "\n",
    "1.  Computes an *offset* into the array by multiplying the element's\n",
    "    index by the size of each array entry (which are uniformly sized,\n",
    "    since they are merely *references* to the actual elements)\n",
    "2.  Adds the offset to the *base address* of the array\n",
    "\n"
   ]
  },
  {
   "cell_type": "markdown",
   "metadata": {},
   "source": [
    "#### 1.  Linear Search\n",
    "\n"
   ]
  },
  {
   "cell_type": "markdown",
   "metadata": {},
   "source": [
    "Task: to locate an element with a given value in a list (array).\n",
    "\n"
   ]
  },
  {
   "cell_type": "code",
   "execution_count": 155,
   "metadata": {},
   "outputs": [],
   "source": [
    "def index(lst, x):\n",
    "    pass"
   ]
  },
  {
   "cell_type": "code",
   "execution_count": 156,
   "metadata": {},
   "outputs": [],
   "source": [
    "lst = list(range(100))\n",
    "index(lst, 10)"
   ]
  },
  {
   "cell_type": "code",
   "execution_count": 157,
   "metadata": {},
   "outputs": [],
   "source": [
    "index(lst, 99)"
   ]
  },
  {
   "cell_type": "code",
   "execution_count": 158,
   "metadata": {},
   "outputs": [],
   "source": [
    "index(lst, -1)"
   ]
  },
  {
   "cell_type": "code",
   "execution_count": 159,
   "metadata": {},
   "outputs": [],
   "source": [
    "import timeit\n",
    "lst = list(range(1000))\n",
    "times = [timeit.timeit(stmt='index(lst, {})'.format(x),\n",
    "                         globals=globals(),\n",
    "                         number=100)\n",
    "           for x in range(1000)]"
   ]
  },
  {
   "cell_type": "code",
   "execution_count": 160,
   "metadata": {},
   "outputs": [
    {
     "data": {
      "image/png": "[encoded data removed]",
      "text/plain": [
       "<Figure size 432x288 with 1 Axes>"
      ]
     },
     "metadata": {
      "needs_background": "light"
     },
     "output_type": "display_data"
    }
   ],
   "source": [
    "import matplotlib.pyplot as plt\n",
    "plt.plot(times, 'ro')\n",
    "plt.show()"
   ]
  },
  {
   "cell_type": "markdown",
   "metadata": {},
   "source": [
    "#### 1.  Binary search\n",
    "\n"
   ]
  },
  {
   "cell_type": "markdown",
   "metadata": {},
   "source": [
    "Task: to locate an element with a given value in a list (array) whose\n",
    " contents are *sorted in ascending order*.\n",
    "\n"
   ]
  },
  {
   "cell_type": "code",
   "execution_count": 161,
   "metadata": {},
   "outputs": [],
   "source": [
    "def index(lst, x):\n",
    "    # assume that lst is sorted!!!\n",
    "    pass"
   ]
  },
  {
   "cell_type": "code",
   "execution_count": 162,
   "metadata": {},
   "outputs": [],
   "source": [
    "lst = list(range(1000))\n",
    "index(lst, 10)"
   ]
  },
  {
   "cell_type": "code",
   "execution_count": 163,
   "metadata": {},
   "outputs": [],
   "source": [
    "index(lst, 999)"
   ]
  },
  {
   "cell_type": "code",
   "execution_count": 164,
   "metadata": {},
   "outputs": [],
   "source": [
    "index(lst, -1)"
   ]
  },
  {
   "cell_type": "code",
   "execution_count": 165,
   "metadata": {},
   "outputs": [],
   "source": [
    "import timeit\n",
    "lst = list(range(1000))\n",
    "times = [timeit.timeit(stmt='index(lst, {})'.format(x),\n",
    "                         globals=globals(),\n",
    "                         number=1000)\n",
    "           for x in range(1000)]"
   ]
  },
  {
   "cell_type": "code",
   "execution_count": 166,
   "metadata": {},
   "outputs": [
    {
     "data": {
      "image/png": "[encoded data removed]",
      "text/plain": [
       "<Figure size 432x288 with 1 Axes>"
      ]
     },
     "metadata": {
      "needs_background": "light"
     },
     "output_type": "display_data"
    }
   ],
   "source": [
    "import matplotlib.pyplot as plt\n",
    "plt.plot(times, 'ro')\n",
    "plt.show()"
   ]
  },
  {
   "cell_type": "code",
   "execution_count": 167,
   "metadata": {},
   "outputs": [],
   "source": [
    "import timeit\n",
    "times = []\n",
    "for size in range(1000, 100000, 100):\n",
    "    lst = list(range(size))\n",
    "    times.append(timeit.timeit(stmt='index(lst, -1)',\n",
    "                                 globals=globals(),\n",
    "                                 number=1000))"
   ]
  },
  {
   "cell_type": "code",
   "execution_count": 168,
   "metadata": {},
   "outputs": [
    {
     "data": {
      "image/png": "[encoded data removed]",
      "text/plain": [
       "<Figure size 432x288 with 1 Axes>"
      ]
     },
     "metadata": {
      "needs_background": "light"
     },
     "output_type": "display_data"
    }
   ],
   "source": [
    "import matplotlib.pyplot as plt\n",
    "plt.plot(times, 'ro')\n",
    "plt.show()"
   ]
  },
  {
   "cell_type": "code",
   "execution_count": 169,
   "metadata": {},
   "outputs": [],
   "source": [
    "import timeit\n",
    "times = []\n",
    "for e in range(5, 20):\n",
    "    lst = list(range(2**e))\n",
    "    times.append(timeit.timeit(stmt='index(lst, -1)',\n",
    "                                 globals=globals(),\n",
    "                                 number=100000))"
   ]
  },
  {
   "cell_type": "code",
   "execution_count": 170,
   "metadata": {},
   "outputs": [
    {
     "data": {
      "image/png": "[encoded data removed]",
      "text/plain": [
       "<Figure size 432x288 with 1 Axes>"
      ]
     },
     "metadata": {
      "needs_background": "light"
     },
     "output_type": "display_data"
    }
   ],
   "source": [
    "import matplotlib.pyplot as plt\n",
    "plt.plot(times, 'ro')\n",
    "plt.show()"
   ]
  },
  {
   "cell_type": "markdown",
   "metadata": {},
   "source": [
    "#### 1.  Insertion sort\n",
    "\n"
   ]
  },
  {
   "cell_type": "markdown",
   "metadata": {},
   "source": [
    "Task: to sort the values in a given list (array) in ascending order.\n",
    "\n"
   ]
  },
  {
   "cell_type": "code",
   "execution_count": 171,
   "metadata": {},
   "outputs": [],
   "source": [
    "import random\n",
    "lst = list(range(1000))\n",
    "random.shuffle(lst)"
   ]
  },
  {
   "cell_type": "code",
   "execution_count": 172,
   "metadata": {},
   "outputs": [
    {
     "data": {
      "image/png": "[encoded data removed]",
      "text/plain": [
       "<Figure size 432x288 with 1 Axes>"
      ]
     },
     "metadata": {
      "needs_background": "light"
     },
     "output_type": "display_data"
    }
   ],
   "source": [
    "plt.plot(lst, 'ro')\n",
    "plt.show()"
   ]
  },
  {
   "cell_type": "code",
   "execution_count": 173,
   "metadata": {},
   "outputs": [],
   "source": [
    "def insertion_sort(lst):\n",
    "    pass"
   ]
  },
  {
   "cell_type": "code",
   "execution_count": 174,
   "metadata": {},
   "outputs": [],
   "source": [
    "insertion_sort(lst)"
   ]
  },
  {
   "cell_type": "code",
   "execution_count": 175,
   "metadata": {},
   "outputs": [
    {
     "data": {
      "image/png": "[encoded data removed]",
      "text/plain": [
       "<Figure size 432x288 with 1 Axes>"
      ]
     },
     "metadata": {
      "needs_background": "light"
     },
     "output_type": "display_data"
    }
   ],
   "source": [
    "plt.plot(lst, 'ro')\n",
    "plt.show()"
   ]
  },
  {
   "cell_type": "code",
   "execution_count": 176,
   "metadata": {},
   "outputs": [],
   "source": [
    "import timeit\n",
    "import random\n",
    "times = [timeit.timeit(stmt='insertion_sort(lst)',\n",
    "                         setup='lst=list(range({})); random.shuffle(lst)'.format(size),\n",
    "                         globals=globals(),\n",
    "                         number=1)\n",
    "           for size in range(100, 5000, 250)]"
   ]
  },
  {
   "cell_type": "code",
   "execution_count": 177,
   "metadata": {},
   "outputs": [
    {
     "data": {
      "image/png": "[encoded data removed]",
      "text/plain": [
       "<Figure size 432x288 with 1 Axes>"
      ]
     },
     "metadata": {
      "needs_background": "light"
     },
     "output_type": "display_data"
    }
   ],
   "source": [
    "plt.plot(times, 'ro')\n",
    "plt.show()"
   ]
  }
 ],
 "metadata": {
  "kernelspec": {
   "display_name": "Python 3",
   "language": "python",
   "name": "python3"
  },
  "language_info": {
   "codemirror_mode": {
    "name": "ipython",
    "version": 3
   },
   "file_extension": ".py",
   "mimetype": "text/x-python",
   "name": "python",
   "nbconvert_exporter": "python",
   "pygments_lexer": "ipython3",
   "version": "3.9.0"
  },
  "org": null
 },
 "nbformat": 4,
 "nbformat_minor": 1
}
